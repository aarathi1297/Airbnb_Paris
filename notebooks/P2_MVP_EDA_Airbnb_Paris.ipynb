{
 "cells": [
  {
   "cell_type": "markdown",
   "metadata": {},
   "source": [
    "# MVP EDA Airbnb Paris"
   ]
  },
  {
   "cell_type": "markdown",
   "metadata": {},
   "source": [
    "## Background\n",
    "\n",
    "When traveling to Europe and booking an Airbnb rental property for a vacation, I try to spend less on lodging to be able to afford good dining and tours.  For Paris specifically, I find that the options close to the centre, that is close to the top attractions i.e. Eiffel tower, Champs Elysees are pricier, and most of the properties are unavailable as well, so I end up staying further from the centre, and when I do, I am always worried that I might have booked a property that is way too far out from the centre of the city, and or far from a metro station -- since actual location is not provided until after you have made the reservation, or unless you contact host and ask.  Distance to the station is relative depending on how far one is willing to walk, but for me, more than a mile to a station is considered far, since I feel I have to save all my energy for the leisurely walking one does around Paris.\n",
    "\n",
    "## Questions for Exploration / Goals:\n",
    "\n",
    "\n",
    "1) to be able to explore and answer the following questions:\n",
    "\n",
    "* How does location influence property rental price, reviews and availability?  \n",
    "\n",
    "* What other features drive the price of an airbnb rental property?\n",
    "\n",
    "  i.e. price vs location, price vs distance from a top attraction, etc.\n",
    "\n",
    "\n",
    "\n",
    "2) recommend Airbnb properties given a certain criteria, and enable a more informed decision for the traveler: \n",
    "\n",
    "* walking distance to one of the top attractions (within 2 miles)\n",
    "* walking distance to metro station (within 1 mile)\n",
    "* rating >= 9\n",
    "\n",
    "* other user defined criteria i.e. \n",
    "* number of beds\n",
    "* number of bedrooms\n",
    "* price range\n",
    "* type of property"
   ]
  },
  {
   "cell_type": "markdown",
   "metadata": {
    "collapsed": true
   },
   "source": [
    "## Initial Exploration"
   ]
  },
  {
   "cell_type": "markdown",
   "metadata": {},
   "source": [
    "Plotting the property prices out, shows us that the price of Airbnb rental properties in Paris  have a unimodal distribution, which is right skewed.  We can see from the graph below it shows that majority of the properties are rented out are below \\$200, with the average below \\$100 which is at \\$94.79, with the median only at $75.  We can see that there are some outliers -- properties over \\$400, causing a huge difference between the mean and the median price, and for the distribution to be right skewed."
   ]
  },
  {
   "cell_type": "markdown",
   "metadata": {},
   "source": [
    "<img src=\"../images/airbnb_price_dist.png\">"
   ]
  },
  {
   "cell_type": "markdown",
   "metadata": {},
   "source": [
    "The following features below shows the correlation with the Airbnb rental property price:\n",
    "* It does make sense that the distance between the top attractions and the Airbnb property is negatively correlated with the price, and so is with the Arrondissement.  \n",
    "\n",
    "* With regards to distance between Le Marais and the Airbnb property being positively correlated, it is possible that those properties which are farther from Le Marais are closer to the other top attractions, giving us that inconsistent correlation as far as distances from top attractions are concerned.  We can add another feature for an indicator if property is within two miles of one of the top attractions, and the top attraction it is closest to and use that for further analysis, instead of the individual distances to the top attraction.\n",
    "\n",
    "* And as far as the other property features are concerned, we can see that the number of beds, bedrooms, and accomodations are positively correlated with the Airbnb property price.  It is expected that the bigger the accomodation is, the rental price will be higher as well."
   ]
  },
  {
   "cell_type": "markdown",
   "metadata": {},
   "source": [
    "<img src=\"../images/features_corr.png\">"
   ]
  },
  {
   "cell_type": "markdown",
   "metadata": {},
   "source": [
    "As we saw from the correlation graph above --  Arrondissement values are negatively correlated with the price, that is, the Airbnb properties in the lower Arrondissements on average costs more than the properties in the higher arrondissements, which is what the graph below shows."
   ]
  },
  {
   "cell_type": "markdown",
   "metadata": {},
   "source": [
    "<img src=\"../images/airbnb_price_byArr.png\">"
   ]
  },
  {
   "cell_type": "markdown",
   "metadata": {},
   "source": [
    "If we look at each of our top 10 attractions in Paris, we can see that the attractions are in arrondissements 1 through 8."
   ]
  },
  {
   "cell_type": "markdown",
   "metadata": {},
   "source": [
    "With regards to the availability the graphs below shows that the price does have direct relationship on the availability of the Airbnb rental properties in Paris, but the availability by arrondissements seem to be pretty consistent across all arrondissements, with the exception of arrondissements 8 and 16.  \n",
    "\n",
    "The graph on Prices by Arrondissement shows that property prices are highest in arrondissement 8, which will be consistent with the high availability in that arrondissement.  However, for arrondissement 16, it is possible that the distance to attractions could be a factor, and we can explore that further. "
   ]
  },
  {
   "cell_type": "markdown",
   "metadata": {},
   "source": [
    "<img src=\"../images/airbnb_price_byAvail.png\">"
   ]
  },
  {
   "cell_type": "markdown",
   "metadata": {},
   "source": [
    "<img src=\"../images/airbnb_avail_byArr.png\">"
   ]
  },
  {
   "cell_type": "markdown",
   "metadata": {},
   "source": [
    "## Initial Research Findings\n",
    "\n",
    "Based on initial Exploratory Analysis, we can see that:\n",
    "\n",
    "* the lower priced Airbnb properties have less availability, this would affect the probability of finding a property for at that lower price range i.e. for a less than \\$100/night budget\n",
    "\n",
    "* the properties in the lower Arrondissements, those closest to the top attractions cost more on average compared to the properties in the higher arrondissements.\n"
   ]
  },
  {
   "cell_type": "markdown",
   "metadata": {},
   "source": [
    "## Further Research and Analysis"
   ]
  },
  {
   "cell_type": "markdown",
   "metadata": {
    "collapsed": true
   },
   "source": [
    "* Further explore properties in the desired criteria:\n",
    "<br> properties less than \\$100/night \n",
    "<br> distance within 2 miles of one of the top attractions\n",
    "<br> properties with 1 bed, accommodates less than or equal to 2\n",
    "\n",
    "* Determine how the distance to the top attractions affect the price\n",
    "\n",
    "* Determine how the distance to the metro affects the price\n",
    "\n",
    "* Recommend top 20 properties given a certain criteria"
   ]
  },
  {
   "cell_type": "markdown",
   "metadata": {},
   "source": [
    "### Limitations\n",
    "* the Airbnb data from OpenDataSoft was last updated in 2017\n",
    "* Historical data for the property prices and availabity are not available, so we are unable to check for variability of price and availability on different seasons/time."
   ]
  },
  {
   "cell_type": "code",
   "execution_count": null,
   "metadata": {
    "collapsed": true
   },
   "outputs": [],
   "source": []
  }
 ],
 "metadata": {
  "kernelspec": {
   "display_name": "Python 3",
   "language": "python",
   "name": "python3"
  },
  "language_info": {
   "codemirror_mode": {
    "name": "ipython",
    "version": 3
   },
   "file_extension": ".py",
   "mimetype": "text/x-python",
   "name": "python",
   "nbconvert_exporter": "python",
   "pygments_lexer": "ipython3",
   "version": "3.6.1"
  }
 },
 "nbformat": 4,
 "nbformat_minor": 2
}
