{
 "cells": [
  {
   "cell_type": "markdown",
   "metadata": {},
   "source": [
    "# Project - Airbnb Paris"
   ]
  },
  {
   "cell_type": "markdown",
   "metadata": {},
   "source": [
    "## Background\n",
    "\n",
    "When traveling to Europe and booking an Airbnb rental property for a vacation, I try to spend less on lodging to be able to afford good dining and tours.  For Paris specifically, I find that the options close to the centre, that is close to the top attractions i.e. Eiffel tower, Champs Elysees are pricier, and most of the properties are unavailable as well, so I end up staying further from the centre, and when I do, I am always worried that I might have booked a property that is way too far out from the centre of the city, and or far from a metro station -- since actual location is not provided until after you have made the reservation, or unless you contact host and ask.  Distance to the station is relative depending on how far one is willing to walk, but for me, more than half a mile walk to a station is considered far, since I feel I have to save all my energy for the leisurely walking one does around in Paris.\n",
    "\n",
    "## Questions for Exploration / Goals\n",
    "\n",
    "### A.  Explore the following questions:\n",
    "\n",
    "#### 1) How does location influence property rental price?  \n",
    "\n",
    "* What features drive the price of an airbnb rental property? i.e. price vs location, price vs distance from a top attraction, etc.\n",
    "  \n",
    "  \n",
    "* are the differences in price in the different arrondissements statistically significant?\n",
    "\n",
    "#### 2) Can we model the airbnb rental property prices based on the features, i.e. location, distance to attraction, number of bedrooms, etc.?\n",
    "   \n",
    "#### 3) What features drive the availability of an Airbnb property?\n",
    "\n",
    "  \n",
    "#### 4) Can we model and predict that the property will be available for more than 5 days within the next 30 days based on the features available?\n",
    "\n",
    "### B.  Recommend Airbnb properties based on a specified set of features\n"
   ]
  },
  {
   "cell_type": "markdown",
   "metadata": {},
   "source": [
    "## Datasets\n",
    "\n",
    "The Airbnb dataset was downloaded from the OpenDataSoft website below.  The data was filtered to only extract and download data pertaining to Paris, France Airbnb rental properties.\n",
    "\n",
    "[Airbnb Paris Dataset](https://public.opendatasoft.com/explore/dataset/airbnb-listings/table/?disjunctive.host_verifications&disjunctive.amenities&disjunctive.features&refine.city=Paris&dataChart=eyJxdWVyaWVzIjpbeyJjaGFydHMiOlt7InR5cGUiOiJjb2x1bW4iLCJmdW5jIjoiQ09VTlQiLCJ5QXhpcyI6Imhvc3RfbGlzdGluZ3NfY291bnQiLCJzY2llbnRpZmljRGlzcGxheSI6dHJ1ZSwiY29sb3IiOiJyYW5nZS1jdXN0b20ifV0sInhBeGlzIjoiY2l0eSIsIm1heHBvaW50cyI6IiIsInRpbWVzY2FsZSI6IiIsInNvcnQiOiIiLCJzZXJpZXNCcmVha2Rvd24iOiJyb29tX3R5cGUiLCJjb25maWciOnsiZGF0YXNldCI6ImFpcmJuYi1saXN0aW5ncyIsIm9wdGlvbnMiOnsiZGlzanVuY3RpdmUuaG9zdF92ZXJpZmljYXRpb25zIjp0cnVlLCJkaXNqdW5jdGl2ZS5hbWVuaXRpZXMiOnRydWUsImRpc2p1bmN0aXZlLmZlYXR1cmVzIjp0cnVlfX19XSwidGltZXNjYWxlIjoiIiwiZGlzcGxheUxlZ2VuZCI6dHJ1ZX0%3D)\n",
    "\n",
    "Paris RER/metro dataset was downloaded from the website below and will be used for further exploration:\n",
    "\n",
    "\n",
    "[Accessibilite des gares et stations de Metro](https://data.ratp.fr/explore/?sort=modified)\n"
   ]
  },
  {
   "cell_type": "markdown",
   "metadata": {},
   "source": [
    "### Limitations\n",
    "* the Airbnb data from OpenDataSoft was last updated in 2017, availability information will be based on what has been captured from the last update.\n",
    "* Historical data for the property prices and availabity are not available, so we are unable to check for variability of price and availability on different seasons/time.\n",
    "* For computing distances Haversine formula was used, which would be a good estimate for computing the distance between two points, but this distance could be different from the actual walking distance."
   ]
  },
  {
   "cell_type": "markdown",
   "metadata": {
    "collapsed": true
   },
   "source": [
    "## Cleaning the Data\n",
    "\n",
    "The geojson file format was read and used for this analysis. The original download file has eighty-six (86) columns, columns which are not needed for analysis, i.e. calendar_last_scraped, calendar_updated, listing_url, etc. were dropped to minimize columns and focus on cleaning and analysis of data which will be useful this EDA.\n",
    "\n",
    "The 'city' column was dropped from the file as well, since all the records downloaded are those pertaining to Airbnb rental properties in Paris, France.\n",
    "\n",
    "Further research on zipcodes was done, and found that zipcodes 75001 - 75020 correspond to Arrondissements 1 through 20 in Paris.  Since analysis will be focused on properties within the centre of Paris, the records with zipcodes outside of this range were deleted.\n",
    "\n",
    "*More information on Paris Arrondissements in wikipedia: https://en.wikipedia.org/wiki/Arrondissements_of_Paris\n",
    "\n",
    "### Missing Values:\n",
    "Missing values in beds and bedrooms were imputed using the following rules:\n",
    "* If 'beds' has a missing value, and 'bedrooms' has a valid value, 'beds' is set with the value of 'bedrooms'.\n",
    "* If both 'bedrooms' and 'beds' are missing, both fields are set to 1, which is the average number of beds and bedrooms,\n",
    "and it would be safe to assume that if a property is being rented out in Airbnb, that there is at least one bed, and we will count that as one bedroom, regardless if the property is a studio apartment, where there is no pyhsical division between the rooms.\n",
    "\n",
    "There were several records as well with missing 'scores' value, a new column 'rating_ind' was created to flag rated = 1, versus unrated = 0 records, so further analysis can be done between these two populations.  The record was flagged as rated, if all the score values have been populated, and set to unrated, if at least one of the score values has not been populated."
   ]
  },
  {
   "cell_type": "markdown",
   "metadata": {},
   "source": [
    "### Data Transformation and Feature Engineering:"
   ]
  },
  {
   "cell_type": "markdown",
   "metadata": {},
   "source": [
    "The following fields were added to the dataset as well:\n",
    "\n",
    "<br>1) arrondissement - this was derived from the last two digits of the zipcode\n",
    "\n",
    "2) arrond_name - arrondissement name was populated and compared with the values populated in the neighbourhood_cleansed field.  There were some differences found, since no information is available on how the neighbourhood_cleansed field was derived, for the sake of consistency with the categorizing by Arrondissement, the arrond_name will be used for analysis instead of the neighbourhood_cleansed field.  \n",
    "\n",
    "\n",
    "3) A column for each of the Distances between the Airbnb property and each of the [2018 top 10 attractions in Paris](https://www.tripadvisor.com/Attractions-g187147-Activities-Paris_Ile_de_France.html#ATTRACTION_SORT_WRAPPER) were derived as well using the [Haversine forumla](https://community.esri.com/groups/coordinate-reference-systems/blog/2017/10/05/haversine-formula), and these features were used to analyze and determine relationship with the rental property price.\n",
    "\n",
    "[\"Musee d’Orsay\", \"Sainte-Chapelle\", \"Palais Garnier - Opera\", \"Notre Dame Cathedral\", \"Musee de l’Orangerie\", \"Luxembourg Gardens\", \"Louvre\", \"Eiffel\", \"Pont Alexandre III\", \"Le Marais\"]\n",
    "\n",
    "4) close_to_attraction - this is an indicator if the property is within 2 miles of one of the top 10 attractions\n",
    "\n",
    "5) closest_attraction - this is the attraction closest to the Airbnb property\n",
    "\n",
    "6) attraction_dist - distance between the Airbnb property and the closest attraction.\n",
    "\n",
    "7) site_count - number of attractions within 1 mile of the Airbnb property\n",
    "\n",
    "\n"
   ]
  },
  {
   "cell_type": "markdown",
   "metadata": {
    "collapsed": true
   },
   "source": [
    "## Exploring the Data"
   ]
  },
  {
   "cell_type": "code",
   "execution_count": 66,
   "metadata": {
    "collapsed": true
   },
   "outputs": [],
   "source": [
    "import pandas as pd\n",
    "import numpy as np\n",
    "import matplotlib.pyplot as plt\n",
    "import statsmodels.api as sm\n",
    "import statsmodels.formula.api as smf\n",
    "import seaborn as sns\n",
    "import time\n",
    "import itertools\n",
    "\n",
    "%matplotlib inline\n",
    "dfParis = pd.read_pickle('../data/airbnb_Paris_updt_0915.p')"
   ]
  },
  {
   "cell_type": "code",
   "execution_count": 67,
   "metadata": {
    "collapsed": true
   },
   "outputs": [],
   "source": [
    "#filter to keep rows only for the properties we need:\n",
    "\n",
    "properties = ['Apartment','Loft','House','Condominium']\n",
    "\n",
    "df = dfParis[dfParis.property_type.isin(properties)][['accommodates', 'availability_30','bathrooms', 'bedrooms', 'beds',\n",
    "       'cancellation_policy', 'price', 'property_type', \n",
    "       'arrondissement', 'rating_ind', 'close_to_attraction',\n",
    "       'attraction_dist', 'site_count']].dropna()\n",
    "\n",
    "#set up data to be used for Price Prediction\n",
    "X = df.drop(['price'], axis=1)  \n",
    "\n",
    "dummies = pd.get_dummies(df[['property_type', 'cancellation_policy']])\n",
    "X2 = pd.concat([X, dummies], axis=1).drop(['property_type','cancellation_policy'], axis=1).astype(float) \n",
    "#X2.drop(['property_type','cancellation_policy'], axis=1, inplace=True)\n",
    "X2_corr_ = dfParis[dfParis.property_type.isin(properties)][['accommodates', 'availability_30','bathrooms', 'bedrooms', 'beds',\n",
    "       'cancellation_policy', 'price', 'property_type', \n",
    "       'arrondissement', 'rating_ind', 'close_to_attraction',\n",
    "       'attraction_dist', 'site_count']].dropna()\n",
    "\n",
    "\n",
    "#X2_corr is the dataframe which contains the dependent variable 'price'\n",
    "\n",
    "X2_corr = pd.concat([X2_corr_, dummies], axis=1).drop(['property_type','cancellation_policy'], axis=1).astype(float)\n",
    "recent_corr = X2_corr.corr().loc['price'].drop(['price'])\n",
    "\n",
    "\n",
    "y = pd.DataFrame(df.price)\n",
    "\n",
    "def conditional_bar(series, bar_colors=None, color_labels=None, figsize=(8,10),\n",
    "                   xlabel=None, by=None, ylabel=None, title=None):\n",
    "    fig, ax  = plt.subplots(figsize=figsize)\n",
    "    if not bar_colors:\n",
    "        bar_colors = mpl.rcParams['axes.prop_cycle'].by_key()['color'][0]\n",
    "    plt.barh(range(len(series)),series.values, color=bar_colors)\n",
    "    plt.xlabel('' if not xlabel else xlabel);\n",
    "    plt.ylabel('' if not ylabel else ylabel)\n",
    "    plt.yticks(range(len(series)), series.index.tolist())\n",
    "    plt.title('' if not title else title);\n",
    "    plt.ylim([-1,len(series)]);\n",
    "    if color_labels:\n",
    "        for col, lab in color_labels.items():\n",
    "            plt.plot([], linestyle='',marker='s',c=col, label= lab);\n",
    "        lines, labels = ax.get_legend_handles_labels();\n",
    "        ax.legend(lines[-len(color_labels.keys()):], labels[-len(color_labels.keys()):], loc='upper right');\n",
    "    plt.close()\n",
    "    fig.savefig('../images/X2_corr.png', bbox_inches='tight')\n",
    "    return fig\n"
   ]
  },
  {
   "cell_type": "code",
   "execution_count": 68,
   "metadata": {
    "collapsed": true
   },
   "outputs": [],
   "source": [
    "###Set-up data to be used for Availability prediction\n",
    "\n",
    "# add another column avail_ge_5days which will be set to 1 if property is available for 5 or more days in the \n",
    "# next 30 days, and 0 otherwise.\n",
    "\n",
    "def set_avail_ind(row):\n",
    "    \"\"\" this function will add a new column avail_ge_5days which will be set to 1 if property is available for 5 or more days in the \n",
    "        next 30 days, and 0 otherwise.\"\"\"\n",
    "    if row['availability_30'] >= 5:\n",
    "        return 1\n",
    "    else:\n",
    "        return 0\n",
    "    \n",
    "df['avail_ge_5days'] = df.apply(lambda x: set_avail_ind(x), 1)\n"
   ]
  },
  {
   "cell_type": "code",
   "execution_count": 69,
   "metadata": {
    "collapsed": true
   },
   "outputs": [],
   "source": [
    "\n",
    "X_avail = df.drop(['availability_30'], axis=1) #X dataset for the availability prediction\n",
    "y_avail = pd.DataFrame(df['avail_ge_5days'])\n",
    "\n",
    "X2_avail = pd.concat([X_avail, dummies], axis=1).drop(['property_type','cancellation_policy','avail_ge_5days'], axis=1).astype(float) \n",
    "\n",
    "X2_avail_corr_ = df[['accommodates', 'avail_ge_5days','availability_30','bathrooms', 'bedrooms', 'beds',\n",
    "       'cancellation_policy', 'price', 'property_type', \n",
    "       'arrondissement', 'rating_ind', 'close_to_attraction',\n",
    "       'attraction_dist', 'site_count']].dropna()\n",
    "\n",
    "\n",
    "#X2_avail_corr is the dataframe which contains the dependent variable 'avail_ge_5days'\n",
    "\n",
    "X2_avail_corr = pd.concat([X2_avail_corr_, dummies], axis=1).drop(['property_type','cancellation_policy'], axis=1).astype(float)\n",
    "recent_avail_corr = X2_avail_corr.corr().loc['availability_30'].drop(['availability_30','avail_ge_5days'])\n"
   ]
  },
  {
   "cell_type": "markdown",
   "metadata": {},
   "source": [
    "Plotting the Airbnb rental property prices out shows us that the price of Airbnb rental properties in Paris  has a right-skewed unimodal distribution.  We can see from the graph below it shows that majority of the properties are rented out are below \\$200, with the average below \\$100 which is at \\$93.72, with the median only at $75.  We can see that there are some outliers -- properties over \\$400, causing a huge difference between the mean and the median price, and for the distribution to be right skewed."
   ]
  },
  {
   "cell_type": "markdown",
   "metadata": {},
   "source": [
    "[graph 1.0]\n",
    "<img src=\"../images/airbnb_price_dist.png\">"
   ]
  },
  {
   "cell_type": "code",
   "execution_count": 3,
   "metadata": {},
   "outputs": [
    {
     "data": {
      "text/plain": [
       "count    52295.000000\n",
       "mean        93.718673\n",
       "std         71.128178\n",
       "min          0.000000\n",
       "25%         55.000000\n",
       "50%         75.000000\n",
       "75%        105.000000\n",
       "max        999.000000\n",
       "Name: price, dtype: float64"
      ]
     },
     "execution_count": 3,
     "metadata": {},
     "output_type": "execute_result"
    }
   ],
   "source": [
    "dfParis.price.describe()"
   ]
  },
  {
   "cell_type": "markdown",
   "metadata": {},
   "source": [
    "### Question 1)  What features drive the price of an Airbnb rental property"
   ]
  },
  {
   "cell_type": "code",
   "execution_count": 5,
   "metadata": {},
   "outputs": [
    {
     "data": {
      "image/png": "[encoded data removed]",
      "text/plain": [
       "<matplotlib.figure.Figure at 0x116d2fac8>"
      ]
     },
     "execution_count": 5,
     "metadata": {},
     "output_type": "execute_result"
    }
   ],
   "source": [
    "bar_colors = ['#0055A7' if x else '#2C3E4F' for x in list(recent_corr.values < 0)]\n",
    "color_labels = {'#0055A7':'Negative correlation', '#2C3E4F':'Positive correlation'}\n",
    "\n",
    "conditional_bar(recent_corr.apply(np.abs), bar_colors, color_labels,\n",
    "               title='Magnitude of correlation with Price of Airbnb rental properties in Paris, France',\n",
    "               xlabel='|Correlation|')"
   ]
  },
  {
   "cell_type": "markdown",
   "metadata": {},
   "source": [
    "#### cancellation_policy\n",
    "* We can see that the properties with 'strict' cancellation policy have a positive correlation with the price,\n",
    "  while those with 'moderate' and 'flexible' cancellation policies have a negative correlation with the price. \n",
    "  But, is cancellation policy driving the price? Or some other attribute, such as location or number of reviews could \n",
    "  be affecting this relationship -- where properties further from top attraction sites, have lower prices, and since \n",
    "  they are not in a good location, and hosts will have less strict cancellation policies to attract more Airbnb  \n",
    "  customers.  Let us explore this further:"
   ]
  },
  {
   "cell_type": "markdown",
   "metadata": {},
   "source": [
    "\n",
    "<img src=\"../images/box_CancelPrice.png\">\n",
    "\n"
   ]
  },
  {
   "cell_type": "markdown",
   "metadata": {
    "collapsed": true
   },
   "source": [
    "* ##### Cancellation policy vs Number of Sites within 1 mile of Airbnb property\n",
    "\n",
    "The plot below shows that 50% of properties with a 'strict' cancellation policy have more than one (1) Top attraction within one mile of the property, whereas properties with 'moderate' and 'flexible' cancellation policies would have zero to one Top attraction within one mile of the Airbnb property."
   ]
  },
  {
   "cell_type": "markdown",
   "metadata": {},
   "source": [
    "\n",
    "<img src=\"../images/box_CancelSiteCount.png\">\n"
   ]
  },
  {
   "cell_type": "markdown",
   "metadata": {},
   "source": [
    "* ##### Cancellation policy  vs. Distance to Closest Attraction\n",
    "\n",
    "The plot below shows that properties with 'strict' cancellation policies have lower median prices compared to the properties with 'flexible' and 'moderate' cancellation policies."
   ]
  },
  {
   "cell_type": "markdown",
   "metadata": {},
   "source": [
    "\n",
    "<img src=\"../images/box_CancelDistance.png\">\n",
    "\n"
   ]
  },
  {
   "cell_type": "markdown",
   "metadata": {},
   "source": [
    "* ##### Cancellation policy vs. Number of Reviews\n",
    "\n",
    "The plot below shows that properties with 'strict' cancellation policies have more number of reviews compared to those of with 'flexible' and 'moderate' cancellation policies,  except for those with a 'super_strict_60' cancellation policy."
   ]
  },
  {
   "cell_type": "markdown",
   "metadata": {},
   "source": [
    "\n",
    "<img src=\"../images/box_CancelNumReviews.png\">\n",
    "\n",
    "\n"
   ]
  },
  {
   "cell_type": "markdown",
   "metadata": {},
   "source": [
    "#### arrondissement\n",
    "\n",
    "* Price ~ Arrondissement:  shows a negative correlation.  Lower arrondissements have higher mean price "
   ]
  },
  {
   "cell_type": "markdown",
   "metadata": {},
   "source": [
    "Arrondissement values are negatively correlated with the price, that is, the Airbnb properties in the lower Arrondissements on average costs more than the properties in the higher arrondissements, which is what the graph below shows. Although it appears that rental prices in Arr 8 - Champs Elysees costs the most, and Arr 9 - Opera has a lower rental prices compared to arrondissements 1 - 8. This could be because Champs Elysees is generally a pricier neighborhood in Paris, and it is a very famous avenue in Paris.\n",
    "\n",
    "<img src=\"../images/df_arrondissements.png\">\n",
    "\n"
   ]
  },
  {
   "cell_type": "markdown",
   "metadata": {},
   "source": [
    "\n",
    "<img src=\"../images/line_pricebyArr.png\">"
   ]
  },
  {
   "cell_type": "markdown",
   "metadata": {},
   "source": [
    "#### site_count, close_to_attraction\n",
    "\n",
    "* site_count and close_to_attraction are positively correlated to the Airbnb rental property price\n",
    "\n",
    "[graph 1.5]\n",
    "<img src=\"../images/box_recmd_price_vs_Fullsitecount.png\">\n",
    "\n"
   ]
  },
  {
   "cell_type": "code",
   "execution_count": 10,
   "metadata": {},
   "outputs": [
    {
     "data": {
      "text/html": [
       "<div>\n",
       "<style>\n",
       "    .dataframe thead tr:only-child th {\n",
       "        text-align: right;\n",
       "    }\n",
       "\n",
       "    .dataframe thead th {\n",
       "        text-align: left;\n",
       "    }\n",
       "\n",
       "    .dataframe tbody tr th {\n",
       "        vertical-align: top;\n",
       "    }\n",
       "</style>\n",
       "<table border=\"1\" class=\"dataframe\">\n",
       "  <thead>\n",
       "    <tr style=\"text-align: right;\">\n",
       "      <th></th>\n",
       "      <th>site_count</th>\n",
       "      <th>mean</th>\n",
       "      <th>median</th>\n",
       "    </tr>\n",
       "  </thead>\n",
       "  <tbody>\n",
       "    <tr>\n",
       "      <th>0</th>\n",
       "      <td>0.0</td>\n",
       "      <td>76.159333</td>\n",
       "      <td>65.0</td>\n",
       "    </tr>\n",
       "    <tr>\n",
       "      <th>1</th>\n",
       "      <td>1.0</td>\n",
       "      <td>95.897857</td>\n",
       "      <td>80.0</td>\n",
       "    </tr>\n",
       "    <tr>\n",
       "      <th>2</th>\n",
       "      <td>2.0</td>\n",
       "      <td>121.728828</td>\n",
       "      <td>90.0</td>\n",
       "    </tr>\n",
       "    <tr>\n",
       "      <th>3</th>\n",
       "      <td>3.0</td>\n",
       "      <td>128.648871</td>\n",
       "      <td>100.0</td>\n",
       "    </tr>\n",
       "    <tr>\n",
       "      <th>4</th>\n",
       "      <td>4.0</td>\n",
       "      <td>121.395931</td>\n",
       "      <td>99.0</td>\n",
       "    </tr>\n",
       "    <tr>\n",
       "      <th>5</th>\n",
       "      <td>5.0</td>\n",
       "      <td>138.018924</td>\n",
       "      <td>106.0</td>\n",
       "    </tr>\n",
       "    <tr>\n",
       "      <th>6</th>\n",
       "      <td>6.0</td>\n",
       "      <td>139.726804</td>\n",
       "      <td>110.0</td>\n",
       "    </tr>\n",
       "    <tr>\n",
       "      <th>7</th>\n",
       "      <td>7.0</td>\n",
       "      <td>144.026941</td>\n",
       "      <td>110.0</td>\n",
       "    </tr>\n",
       "    <tr>\n",
       "      <th>8</th>\n",
       "      <td>8.0</td>\n",
       "      <td>145.265306</td>\n",
       "      <td>111.0</td>\n",
       "    </tr>\n",
       "  </tbody>\n",
       "</table>\n",
       "</div>"
      ],
      "text/plain": [
       "   site_count        mean  median\n",
       "0         0.0   76.159333    65.0\n",
       "1         1.0   95.897857    80.0\n",
       "2         2.0  121.728828    90.0\n",
       "3         3.0  128.648871   100.0\n",
       "4         4.0  121.395931    99.0\n",
       "5         5.0  138.018924   106.0\n",
       "6         6.0  139.726804   110.0\n",
       "7         7.0  144.026941   110.0\n",
       "8         8.0  145.265306   111.0"
      ]
     },
     "execution_count": 10,
     "metadata": {},
     "output_type": "execute_result"
    }
   ],
   "source": [
    "dfParis.groupby('site_count')['price'].agg(['mean', 'median']).reset_index()"
   ]
  },
  {
   "cell_type": "markdown",
   "metadata": {},
   "source": [
    "* we can see that the Average cost of properties increase as the site_count increases"
   ]
  },
  {
   "cell_type": "markdown",
   "metadata": {},
   "source": [
    "#### attraction_dist\n",
    "\n",
    "* distance of a property to an attraction is negatively correlated to the Airbnb rental property price\n",
    "\n",
    "#### beds, bedrooms, bathrooms, accommodates\n",
    "\n",
    "* number of beds, bedrooms, bathrooms, and accommodation are all positively correlated to the Airbnb rental property price"
   ]
  },
  {
   "cell_type": "markdown",
   "metadata": {},
   "source": [
    "### Are the difference in prices in the different arrondissements statistically significant?\n"
   ]
  },
  {
   "cell_type": "markdown",
   "metadata": {},
   "source": [
    "We will use the ANOVA test and the Tukey HSD test to verify if the difference in prices between arrondissements is statistically significant:"
   ]
  },
  {
   "cell_type": "code",
   "execution_count": 2,
   "metadata": {
    "collapsed": true
   },
   "outputs": [],
   "source": [
    "###ANOVA test and Tukey HSD test \n",
    "import scipy.stats as stats\n",
    "import math"
   ]
  },
  {
   "cell_type": "code",
   "execution_count": 11,
   "metadata": {
    "collapsed": true
   },
   "outputs": [],
   "source": [
    "arr_dict = {}\n",
    "for x in range(1,21):\n",
    "    arr_dict[x] = df[df.arrondissement == x]['price']"
   ]
  },
  {
   "cell_type": "code",
   "execution_count": 12,
   "metadata": {},
   "outputs": [
    {
     "data": {
      "text/plain": [
       "F_onewayResult(statistic=363.59705973729274, pvalue=0.0)"
      ]
     },
     "execution_count": 12,
     "metadata": {},
     "output_type": "execute_result"
    }
   ],
   "source": [
    "#perform ANOVA\n",
    "\n",
    "stats.f_oneway(arr_dict[1], arr_dict[2], arr_dict[3], arr_dict[4], arr_dict[5], \n",
    "               arr_dict[6], arr_dict[7], arr_dict[8], arr_dict[9], arr_dict[10],\n",
    "               arr_dict[11], arr_dict[12], arr_dict[13], arr_dict[14], arr_dict[15], \n",
    "               arr_dict[16], arr_dict[17], arr_dict[18], arr_dict[19], arr_dict[20])"
   ]
  },
  {
   "cell_type": "code",
   "execution_count": 51,
   "metadata": {
    "collapsed": true
   },
   "outputs": [],
   "source": [
    "#generate list of Arrondissement pairs\n",
    "\n",
    "arrondissements = [x for x in range(1,21) ]\n",
    "\n",
    "arr_pairs = []\n",
    "for comp1 in range(19):\n",
    "    for comp2 in range(comp1 + 1, 20):\n",
    "        arr_pairs.append((arrondissements[comp1], arrondissements[comp2]))    "
   ]
  },
  {
   "cell_type": "code",
   "execution_count": 52,
   "metadata": {
    "collapsed": true
   },
   "outputs": [],
   "source": [
    "t_value, val1, val2, p_value = [], [], [], []\n",
    "\n",
    "for comp1, comp2 in arr_pairs:\n",
    "    t, p = stats.ttest_ind(arr_dict[comp1],\n",
    "                           arr_dict[comp2])\n",
    "    val1.append(comp1)\n",
    "    val2.append(comp2)\n",
    "    t_value.append(t)\n",
    "    p_value.append(p)\n",
    "    \n",
    "anova_out = pd.DataFrame({\"val1\": val1, \"val2\":val2, \"t_value\":t_value, \"p_value\":p_value})\n"
   ]
  },
  {
   "cell_type": "code",
   "execution_count": 65,
   "metadata": {},
   "outputs": [
    {
     "name": "stdout",
     "output_type": "stream",
     "text": [
      "percentage of pairs to reject: 94.7368421053\n"
     ]
    }
   ],
   "source": [
    "print('percentage of pairs to reject:', anova_out[anova_out.p_value < 0.05]['p_value'].count()/len(anova_out)*100)"
   ]
  },
  {
   "cell_type": "markdown",
   "metadata": {},
   "source": [
    "### Tukey HSD"
   ]
  },
  {
   "cell_type": "code",
   "execution_count": 46,
   "metadata": {},
   "outputs": [
    {
     "name": "stdout",
     "output_type": "stream",
     "text": [
      "Multiple Comparison of Means - Tukey HSD,FWER=0.05\n",
      "===============================================\n",
      "group1 group2 meandiff  lower    upper   reject\n",
      "-----------------------------------------------\n",
      "  1      2    -30.1727 -39.475  -20.8705  True \n",
      "  1      3    -22.1142 -30.8655 -13.3628  True \n",
      "  1      4    -9.7237  -18.6774 -0.7699   True \n",
      "  1      5    -31.6398 -40.5549 -22.7247  True \n",
      "  1      6     0.3241  -8.7235   9.3717  False \n",
      "  1      7    -1.2039  -10.4783  8.0705  False \n",
      "  1      8    14.0105   4.3833  23.6378   True \n",
      "  1      9    -42.6254 -51.2984 -33.9523  True \n",
      "  1      10   -57.3101 -65.4397 -49.1806  True \n",
      "  1      11   -60.9721 -68.8187 -53.1255  True \n",
      "  1      12   -64.226  -73.0282 -55.4238  True \n",
      "  1      13   -69.6719 -78.6732 -60.6706  True \n",
      "  1      14   -58.6118 -67.4448 -49.7789  True \n",
      "  1      15   -50.6582 -58.7373 -42.5792  True \n",
      "  1      16   -29.3364 -38.8384 -19.8344  True \n",
      "  1      17   -52.4231  -60.62  -44.2262  True \n",
      "  1      18   -66.5878 -74.3352 -58.8404  True \n",
      "  1      19   -74.5054 -82.924  -66.0869  True \n",
      "  1      20   -76.0036 -84.3425 -67.6647  True \n",
      "  2      3     8.0585   0.2451   15.872   True \n",
      "  2      4    20.4491  12.4096  28.4885   True \n",
      "  2      5    -1.4671  -9.4635   6.5294  False \n",
      "  2      6    30.4968  22.3529  38.6407   True \n",
      "  2      7    28.9688  20.5737   37.364   True \n",
      "  2      8    44.1833  35.3999  52.9666   True \n",
      "  2      9    -12.4526 -20.1783  -4.727   True \n",
      "  2      10   -27.1374 -34.2475 -20.0273  True \n",
      "  2      11   -30.7994 -37.5841 -24.0146  True \n",
      "  2      12   -34.0533 -41.9236 -26.1829  True \n",
      "  2      13   -39.4992 -47.5915 -31.4068  True \n",
      "  2      14   -28.4391 -36.3438 -20.5344  True \n",
      "  2      15   -20.4855 -27.5378 -13.4332  True \n",
      "  2      16    0.8363  -7.8096   9.4822  False \n",
      "  2      17   -22.2504 -29.4374 -15.0633  True \n",
      "  2      18   -36.415  -43.0848 -29.7452  True \n",
      "  2      19   -44.3327 -51.7715 -36.8939  True \n",
      "  2      20   -45.8309 -53.1794 -38.4824  True \n",
      "  3      4    12.3905   4.9954  19.7856   True \n",
      "  3      5    -9.5256  -16.8739 -2.1773   True \n",
      "  3      6    22.4383  14.9298  29.9468   True \n",
      "  3      7    20.9103   13.13   28.6906   True \n",
      "  3      8    36.1247   27.927  44.3224   True \n",
      "  3      9    -20.5112 -27.5639 -13.4585  True \n",
      "  3      10   -35.196  -41.5684 -28.8235  True \n",
      "  3      11   -38.8579 -44.8652 -32.8506  True \n",
      "  3      12   -42.1118 -49.3227 -34.9009  True \n",
      "  3      13   -47.5577 -55.0103 -40.1051  True \n",
      "  3      14   -36.4976 -43.7461 -29.2492  True \n",
      "  3      15   -28.5441 -34.852  -22.2361  True \n",
      "  3      16   -7.2223  -15.2725  0.828   False \n",
      "  3      17   -30.3089 -36.7671 -23.8507  True \n",
      "  3      18   -44.4736 -50.3507 -38.5964  True \n",
      "  3      19   -52.3913 -59.1285 -45.654   True \n",
      "  3      20   -53.8894 -60.5269 -47.252   True \n",
      "  4      5    -21.9162 -29.5044 -14.328   True \n",
      "  4      6    10.0477   2.3043  17.7912   True \n",
      "  4      7     8.5198   0.5125   16.527   True \n",
      "  4      8    23.7342  15.3208  32.1476   True \n",
      "  4      9    -32.9017 -40.204  -25.5994  True \n",
      "  4      10   -47.5865 -54.2341 -40.9389  True \n",
      "  4      11   -51.2484 -57.5469  -44.95   True \n",
      "  4      12   -54.5024 -61.9576 -47.0472  True \n",
      "  4      13   -59.9483 -67.6375 -52.259   True \n",
      "  4      14   -48.8882 -56.3797 -41.3967  True \n",
      "  4      15   -40.9346 -47.5204 -34.3488  True \n",
      "  4      16   -19.6128 -27.8826 -11.343   True \n",
      "  4      17   -42.6995 -49.4293 -35.9696  True \n",
      "  4      18   -56.8641 -63.0385 -50.6897  True \n",
      "  4      19   -64.7818 -71.7799 -57.7837  True \n",
      "  4      20    -66.28  -73.182  -59.3779  True \n",
      "  5      6    31.9639  24.2652  39.6627   True \n",
      "  5      7    30.4359  22.4719    38.4    True \n",
      "  5      8    45.6503   37.278  54.0226   True \n",
      "  5      9    -10.9856 -18.2405 -3.7307   True \n",
      "  5      10   -25.6703 -32.2659 -19.0748  True \n",
      "  5      11   -29.3323 -35.5758 -23.0888  True \n",
      "  5      12   -32.5862 -39.995  -25.1774  True \n",
      "  5      13   -38.0321 -45.6763 -30.3879  True \n",
      "  5      14   -26.972  -34.4173 -19.5267  True \n",
      "  5      15   -19.0184 -25.5516 -12.4852  True \n",
      "  5      16    2.3034  -5.9246  10.5313  False \n",
      "  5      17   -20.7833 -27.4617 -14.1049  True \n",
      "  5      18   -34.9479 -41.0663 -28.8296  True \n",
      "  5      19   -42.8656 -49.8143 -35.917   True \n",
      "  5      20   -44.3638 -51.2157 -37.5119  True \n",
      "  6      7     -1.528  -9.6401   6.5841  False \n",
      "  6      8    13.6864   5.1732  22.1997   True \n",
      "  6      9    -42.9495 -50.3666 -35.5324  True \n",
      "  6      10   -57.6342 -64.4078 -50.8607  True \n",
      "  6      11   -61.2962 -67.7274 -54.8649  True \n",
      "  6      12   -64.5501 -72.1178 -56.9824  True \n",
      "  6      13   -69.996  -77.7943 -62.1977  True \n",
      "  6      14   -58.9359 -66.5394 -51.3325  True \n",
      "  6      15   -50.9823 -57.6952 -44.2695  True \n",
      "  6      16   -29.6605 -38.0319 -21.2892  True \n",
      "  6      17   -52.7472 -59.6015 -45.8929  True \n",
      "  6      18   -66.9118 -73.2217 -60.602   True \n",
      "  6      19   -74.8295 -81.9474 -67.7117  True \n",
      "  6      20   -76.3277 -83.3511 -69.3043  True \n",
      "  7      8    15.2144   6.4605  23.9683   True \n",
      "  7      9    -41.4215 -49.1136 -33.7294  True \n",
      "  7      10   -56.1063 -63.1799 -49.0326  True \n",
      "  7      11   -59.7682 -66.5148 -53.0216  True \n",
      "  7      12   -63.0221 -70.8596 -55.1847  True \n",
      "  7      13   -68.468  -76.5284 -60.4076  True \n",
      "  7      14   -57.4079 -65.2799 -49.536   True \n",
      "  7      15   -49.4544 -56.4699 -42.4388  True \n",
      "  7      16   -28.1326 -36.7485 -19.5166  True \n",
      "  7      17   -51.2192 -58.3702 -44.0682  True \n",
      "  7      18   -65.3839 -72.0148 -58.7529  True \n",
      "  7      19   -73.3016 -80.7056 -65.8976  True \n",
      "  7      20   -74.7997 -82.113  -67.4865  True \n",
      "  8      9    -56.6359  -64.75  -48.5218  True \n",
      "  8      10   -71.3207 -78.851  -63.7903  True \n",
      "  8      11   -74.9826 -82.2066 -67.7587  True \n",
      "  8      12   -78.2365 -86.4885 -69.9846  True \n",
      "  8      13   -83.6824 -92.1464 -75.2184  True \n",
      "  8      14   -72.6224 -80.9071 -64.3376  True \n",
      "  8      15   -64.6688 -72.1446 -57.193   True \n",
      "  8      16   -43.347  -52.3416 -34.3523  True \n",
      "  8      17   -66.4336 -74.0367 -58.8306  True \n",
      "  8      18   -80.5983 -87.7144 -73.4822  True \n",
      "  8      19   -88.516  -96.3574 -80.6745  True \n",
      "  8      20   -90.0142  -97.77  -82.2583  True \n",
      "  9      10   -14.6848 -20.9492 -8.4203   True \n",
      "  9      11   -18.3467 -24.2394 -12.454   True \n",
      "  9      12   -21.6006 -28.7163 -14.485   True \n",
      "  9      13   -27.0465 -34.407  -19.686   True \n",
      "  9      14   -15.9864 -23.1401 -8.8328   True \n",
      "  9      15   -8.0329  -14.2317  -1.834   True \n",
      "  9      16   13.2889   5.3239   21.254   True \n",
      "  9      17   -9.7977  -16.1494  -3.446   True \n",
      "  9      18   -23.9624 -29.7223 -18.2025  True \n",
      "  9      19   -31.8801 -38.5153 -25.2448  True \n",
      "  9      20   -33.3782 -39.9121 -26.8444  True \n",
      "  10     11    -3.662  -8.7207   1.3968  False \n",
      "  10     12   -6.9159  -13.358  -0.4738   True \n",
      "  10     13   -12.3618 -19.0733 -5.6502   True \n",
      "  10     14   -1.3017  -7.7857   5.1824  False \n",
      "  10     15    6.6519   1.2396  12.0642   True \n",
      "  10     16   27.9737  20.6042  35.3432   True \n",
      "  10     17    4.887   -0.6997  10.4738  False \n",
      "  10     18   -9.2776  -14.1811 -4.3741   True \n",
      "  10     19   -17.1953 -23.1024 -11.2882  True \n",
      "  10     20   -18.6935 -24.4865 -12.9005  True \n",
      "  11     12   -3.2539  -9.3351   2.8272  False \n",
      "  11     13   -8.6998  -15.0657 -2.3339   True \n",
      "  11     14    2.3603  -3.7653   8.4858  False \n",
      "  11     15   10.3139   5.3366  15.2911   True \n",
      "  11     16   31.6357  24.5795  38.6918   True \n",
      "  11     17    8.549    3.3826  13.7154   True \n",
      "  11     18   -5.6157  -10.0343 -1.1971   True \n",
      "  11     19   -13.5333 -19.0446 -8.0221   True \n",
      "  11     20   -15.0315 -20.4203 -9.6427   True \n",
      "  12     13   -5.4459  -12.9581  2.0664  False \n",
      "  12     14    5.6142  -1.6955  12.9239  False \n",
      "  12     15   13.5678   7.1895   19.946   True \n",
      "  12     16   34.8896  26.7841  42.9951   True \n",
      "  12     17   11.8029   5.276   18.3298   True \n",
      "  12     18   -2.3617  -8.3143   3.5908  False \n",
      "  12     19   -10.2794 -17.0826 -3.4763   True \n",
      "  12     20   -11.7776 -18.482  -5.0733   True \n",
      "  13     14   11.0601   3.5118  18.6083   True \n",
      "  13     15   19.0137  12.3634   25.664   True \n",
      "  13     16   40.3355  32.0142  48.6567   True \n",
      "  13     17   17.2488  10.4558  24.0418   True \n",
      "  13     18    3.0841   -3.159   9.3273  False \n",
      "  13     19   -4.8335  -11.8924  2.2253  False \n",
      "  13     20   -6.3317  -13.2954  0.6319  False \n",
      "  14     15    7.9536   1.533   14.3742   True \n",
      "  14     16   29.2754  21.1365  37.4143   True \n",
      "  14     17    6.1887  -0.3796  12.7571  False \n",
      "  14     18   -7.9759  -13.9739  -1.978   True \n",
      "  14     19   -15.8936 -22.7365 -9.0507   True \n",
      "  14     20   -17.3918 -24.1365 -10.6471  True \n",
      "  15     16   21.3218   14.008  28.6356   True \n",
      "  15     17   -1.7649  -7.2779   3.7482  False \n",
      "  15     18   -15.9295 -20.7488 -11.1102  True \n",
      "  15     19   -23.8472 -29.6846 -18.0098  True \n",
      "  15     20   -25.3454 -31.0673 -19.6234  True \n",
      "  16     17   -23.0867 -30.5305 -15.6429  True \n",
      "  16     18   -37.2513 -44.197  -30.3056  True \n",
      "  16     19   -45.169  -52.8562 -37.4818  True \n",
      "  16     20   -46.6672 -54.267  -39.0674  True \n",
      "  17     18   -14.1647 -19.1791 -9.1502   True \n",
      "  17     19   -22.0823 -28.0819 -16.0828  True \n",
      "  17     20   -23.5805 -29.4677 -17.6933  True \n",
      "  18     19   -7.9177  -13.2867 -2.5486   True \n",
      "  18     20   -9.4159  -14.6591 -4.1726   True \n",
      "  19     20   -1.4982  -7.6903   4.6939  False \n",
      "-----------------------------------------------\n"
     ]
    }
   ],
   "source": [
    "from statsmodels.stats.multicomp import pairwise_tukeyhsd\n",
    "\n",
    "tukey = pairwise_tukeyhsd(endog=df['price'],\n",
    "                         groups=df['arrondissement'],\n",
    "                         alpha=0.05)\n",
    "\n",
    "Summ = tukey.summary()\n",
    "print(Summ)"
   ]
  },
  {
   "cell_type": "markdown",
   "metadata": {},
   "source": [
    "The Tukey test suggests and confirms that we reject the null hypothesis for majority of the Arrondissement pairs, and that the difference in prices between the Arrondissement pairs are statistically significant.\n",
    "\n",
    "Plotting the result against Arrondissement 1, we can see that there are two other groups (Arrondissements 6 and 7) whose confidence interval overlaps the confidence interval for Arrondissement 1."
   ]
  },
  {
   "cell_type": "markdown",
   "metadata": {},
   "source": [
    "\n",
    "<img src=\"../images/tukey_ArrPrice.png\">"
   ]
  },
  {
   "cell_type": "markdown",
   "metadata": {},
   "source": [
    "### Question 2)  Can we model the Airbnb rental property price based on the features i.e. location/arrondissement, distance to attraction, number of bedrooms?  (for property type = apartment, house, loft, condominium)"
   ]
  },
  {
   "cell_type": "markdown",
   "metadata": {
    "collapsed": true
   },
   "source": [
    "The following features as analyzed will be used for model selection, and further feature selection and refinement:\n",
    "accommodates, availability_30, bathrooms, bedrooms, beds, arrondissement, rating_ind, attraction_dist,\n",
    "close_to_attraction, site_count\n",
    "\n",
    "##### As we will see in the following code below, it is possible to model the Airbnb rental property price using a Multiple Linear Regression Model.  The initial analysis did show correlation of the different features with the price, as the model below will show, Linear regression model may not be the best way to model the price, and or other features not available in the dataset could make the model more accurate."
   ]
  },
  {
   "cell_type": "code",
   "execution_count": 70,
   "metadata": {},
   "outputs": [
    {
     "name": "stdout",
     "output_type": "stream",
     "text": [
      "Independent Variables X:  ['accommodates' 'availability_30' 'bathrooms' 'bedrooms' 'beds'\n",
      " 'arrondissement' 'rating_ind' 'close_to_attraction' 'attraction_dist'\n",
      " 'site_count' 'property_type_Apartment' 'property_type_Condominium'\n",
      " 'property_type_House' 'property_type_Loft' 'cancellation_policy_flexible'\n",
      " 'cancellation_policy_moderate' 'cancellation_policy_strict'\n",
      " 'cancellation_policy_super_strict_30'\n",
      " 'cancellation_policy_super_strict_60']\n",
      "\n",
      "Dependent Variable y:  ['price']\n"
     ]
    }
   ],
   "source": [
    "print('Independent Variables X: ',X2.columns.values)\n",
    "print('\\nDependent Variable y: ',y.columns.values)"
   ]
  },
  {
   "cell_type": "markdown",
   "metadata": {},
   "source": [
    "#### Model Selection using Validation Set Approach\n",
    "Find the best number of predictors for the model:"
   ]
  },
  {
   "cell_type": "code",
   "execution_count": 71,
   "metadata": {
    "collapsed": true
   },
   "outputs": [],
   "source": [
    "#create Train and Test datasets for getting the best model\n",
    "\n",
    "np.random.seed(seed=12)\n",
    "train = np.random.choice([True, False], size=len(y), replace=True)\n",
    "test = np.invert(train)\n",
    "\n",
    "def processSubset(feature_set, X_train, y_train, X_test, y_test):\n",
    "    #fit model on feature_set and calculate RSS\n",
    "    model = sm.OLS(y_train, X_train[list(feature_set)])\n",
    "    regr = model.fit()\n",
    "    RSS = ((regr.predict(X_test[list(feature_set)]) - y_test) ** 2).sum()\n",
    "    return {\"model\":regr, \"RSS\":RSS}\n",
    "\n",
    "def forward(predictors, X_train, y_train, X_test, y_test):\n",
    "    \n",
    "    remaining_predictors = [p for p in X_train.columns if p not in predictors]\n",
    "    \n",
    "    results = []\n",
    "    \n",
    "    for p in remaining_predictors:\n",
    "        results.append(processSubset(predictors + [p], X_train, y_train, X_test, y_test))\n",
    "        \n",
    "    models = pd.DataFrame(results)\n",
    "    \n",
    "    best_model = models.loc[models[\"RSS\"].argmin()]\n",
    "    \n",
    "    #return the best model\n",
    "    return best_model"
   ]
  },
  {
   "cell_type": "code",
   "execution_count": 72,
   "metadata": {},
   "outputs": [
    {
     "data": {
      "text/plain": [
       "[<matplotlib.lines.Line2D at 0x11daaf630>]"
      ]
     },
     "execution_count": 72,
     "metadata": {},
     "output_type": "execute_result"
    },
    {
     "data": {
      "image/png": "[encoded data removed]",
      "text/plain": [
       "<matplotlib.figure.Figure at 0x11dad8f60>"
      ]
     },
     "metadata": {},
     "output_type": "display_data"
    }
   ],
   "source": [
    "models_train = pd.DataFrame(columns=[\"RSS\", \"model\"])\n",
    "\n",
    "predictors = []\n",
    "\n",
    "for i in range(1, len(X2.columns) + 1):\n",
    "    models_train.loc[i] = forward(predictors, X2[train], y[train][\"price\"], X2[test], y[test][\"price\"])\n",
    "    predictors = models_train.loc[i][\"model\"].model.exog_names\n",
    "    \n",
    "plt.plot(models_train[\"RSS\"])\n",
    "plt.xlabel('#Predictors')\n",
    "plt.ylabel(\"RSS\")\n",
    "plt.xticks(range(0,18))\n",
    "plt.plot(models_train[\"RSS\"].argmin(), models_train[\"RSS\"].min(), \"or\")"
   ]
  },
  {
   "cell_type": "markdown",
   "metadata": {},
   "source": [
    "based on the output above, the best model is one that contains 16 predictors.\n",
    "\n",
    "Using the full dataset, perform forward selection to select the best 16-predictor model."
   ]
  },
  {
   "cell_type": "code",
   "execution_count": 73,
   "metadata": {
    "collapsed": true
   },
   "outputs": [],
   "source": [
    "models_full = pd.DataFrame(columns=[\"RSS\", \"model\"])\n",
    "\n",
    "predictors = []\n",
    "\n",
    "for i in range(1,len(X2.columns) + 1):    \n",
    "    models_full.loc[i] = forward(predictors, X2, y[\"price\"], X2, y[\"price\"])\n",
    "    predictors = models_full.loc[i][\"model\"].model.exog_names\n",
    "    "
   ]
  },
  {
   "cell_type": "code",
   "execution_count": 74,
   "metadata": {},
   "outputs": [
    {
     "name": "stdout",
     "output_type": "stream",
     "text": [
      "['accommodates', 'site_count', 'bedrooms', 'bathrooms', 'attraction_dist', 'availability_30', 'rating_ind', 'cancellation_policy_strict', 'cancellation_policy_super_strict_60', 'property_type_Apartment', 'property_type_Loft', 'close_to_attraction', 'property_type_House', 'beds', 'arrondissement', 'property_type_Condominium']\n",
      "['accommodates', 'site_count', 'bedrooms', 'availability_30', 'attraction_dist', 'bathrooms', 'rating_ind', 'cancellation_policy_strict', 'cancellation_policy_super_strict_60', 'close_to_attraction', 'property_type_Loft', 'beds', 'arrondissement', 'property_type_House', 'property_type_Apartment', 'property_type_Condominium']\n"
     ]
    }
   ],
   "source": [
    "print(models_train.loc[16, \"model\"].model.exog_names)\n",
    "print(models_full.loc[16, \"model\"].model.exog_names)"
   ]
  },
  {
   "cell_type": "code",
   "execution_count": 75,
   "metadata": {},
   "outputs": [
    {
     "name": "stdout",
     "output_type": "stream",
     "text": [
      "cancellation_policy_flexible\n",
      "cancellation_policy_moderate\n",
      "cancellation_policy_super_strict_30\n"
     ]
    }
   ],
   "source": [
    "pred_cols = models_full.loc[16, \"model\"].model.exog_names\n",
    "orig_cols = list(X2.columns.values)\n",
    "\n",
    "#print the columns excluded\n",
    "for pred in orig_cols:\n",
    "    if (pred in pred_cols) == False:\n",
    "        print(pred)"
   ]
  },
  {
   "cell_type": "code",
   "execution_count": 76,
   "metadata": {},
   "outputs": [
    {
     "name": "stdout",
     "output_type": "stream",
     "text": [
      "                            OLS Regression Results                            \n",
      "==============================================================================\n",
      "Dep. Variable:                  price   R-squared:                       0.544\n",
      "Model:                            OLS   Adj. R-squared:                  0.544\n",
      "Method:                 Least Squares   F-statistic:                     4068.\n",
      "Date:                Fri, 14 Sep 2018   Prob (F-statistic):               0.00\n",
      "Time:                        11:03:24   Log-Likelihood:            -2.7033e+05\n",
      "No. Observations:               51159   AIC:                         5.407e+05\n",
      "Df Residuals:                   51143   BIC:                         5.408e+05\n",
      "Df Model:                          15                                         \n",
      "Covariance Type:            nonrobust                                         \n",
      "=======================================================================================================\n",
      "                                          coef    std err          t      P>|t|      [0.025      0.975]\n",
      "-------------------------------------------------------------------------------------------------------\n",
      "Intercept                               5.7385      1.833      3.130      0.002       2.145       9.332\n",
      "accommodates                           14.7999      0.251     59.056      0.000      14.309      15.291\n",
      "site_count                              5.3238      0.209     25.509      0.000       4.915       5.733\n",
      "bedrooms                               21.0901      0.383     55.023      0.000      20.339      21.841\n",
      "availability_30                         0.8982      0.020     44.458      0.000       0.859       0.938\n",
      "attraction_dist                       -23.9945      0.765    -31.380      0.000     -25.493     -22.496\n",
      "bathrooms                              41.1416      0.656     62.763      0.000      39.857      42.426\n",
      "rating_ind                            -12.7832      0.491    -26.011      0.000     -13.746     -11.820\n",
      "cancellation_policy_strict             10.7813      0.461     23.365      0.000       9.877      11.686\n",
      "cancellation_policy_super_strict_60   236.6315     21.362     11.077      0.000     194.761     278.502\n",
      "close_to_attraction                    -7.7530      1.072     -7.232      0.000      -9.854      -5.652\n",
      "property_type_Loft                     12.2322      1.798      6.802      0.000       8.707      15.757\n",
      "beds                                    1.9539      0.352      5.546      0.000       1.263       2.644\n",
      "arrondissement                          0.1152      0.067      1.718      0.086      -0.016       0.247\n",
      "property_type_House                     0.2939      1.889      0.156      0.876      -3.409       3.997\n",
      "property_type_Apartment                -3.2788      0.940     -3.490      0.000      -5.120      -1.437\n",
      "property_type_Condominium              -3.5088      2.572     -1.364      0.173      -8.550       1.533\n",
      "==============================================================================\n",
      "Omnibus:                    45065.789   Durbin-Watson:                   1.943\n",
      "Prob(Omnibus):                  0.000   Jarque-Bera (JB):          4041334.427\n",
      "Skew:                           3.841   Prob(JB):                         0.00\n",
      "Kurtosis:                      45.859   Cond. No.                     1.08e+17\n",
      "==============================================================================\n",
      "\n",
      "Warnings:\n",
      "[1] Standard Errors assume that the covariance matrix of the errors is correctly specified.\n",
      "[2] The smallest eigenvalue is 1.26e-27. This might indicate that there are\n",
      "strong multicollinearity problems or that the design matrix is singular.\n"
     ]
    }
   ],
   "source": [
    "model = sm.OLS.from_formula('price ~ ' + '+'.join(pred_cols), X2_corr)\n",
    "result = model.fit()\n",
    "print(result.summary())"
   ]
  },
  {
   "cell_type": "code",
   "execution_count": 77,
   "metadata": {},
   "outputs": [
    {
     "data": {
      "image/png": "[encoded data removed]",
      "text/plain": [
       "<matplotlib.figure.Figure at 0x126a91a90>"
      ]
     },
     "metadata": {},
     "output_type": "display_data"
    }
   ],
   "source": [
    "predictions = result.predict(X2)\n",
    "\n",
    "plt.scatter(predictions, y, s=30, c='r', marker='+', zorder=10)\n",
    "plt.xlabel(\"Predicted Values from model\")\n",
    "plt.ylabel(\"Actual Values Price\")\n",
    "plt.show()"
   ]
  },
  {
   "cell_type": "code",
   "execution_count": 78,
   "metadata": {},
   "outputs": [
    {
     "data": {
      "text/plain": [
       "<matplotlib.axes._subplots.AxesSubplot at 0x11e7eb630>"
      ]
     },
     "execution_count": 78,
     "metadata": {},
     "output_type": "execute_result"
    },
    {
     "data": {
      "image/png": "[encoded data removed]",
      "text/plain": [
       "<matplotlib.figure.Figure at 0x1217f76d8>"
      ]
     },
     "metadata": {},
     "output_type": "display_data"
    }
   ],
   "source": [
    "s_residuals = pd.Series(result.resid_pearson, name=\"S. residuals\")\n",
    "fitted_values = pd.Series(result.fittedvalues, name=\"Fitted Values\")\n",
    "residuals = pd.Series(result.resid, name=\"S. Residuals\")\n",
    "sns.regplot(fitted_values, s_residuals,  fit_reg=False)"
   ]
  },
  {
   "cell_type": "markdown",
   "metadata": {},
   "source": [
    "#### Let us verify if our residuals are heteroscedastic.  We can establish the presence or absence of heteroscedasticity using Breush Pagan test.\n",
    "\n",
    "http://statisticsbyjim.com/regression/heteroscedasticity-regression/\n",
    "\n",
    "https://www.r-bloggers.com/how-to-detect-heteroscedasticity-and-rectify-it/"
   ]
  },
  {
   "cell_type": "code",
   "execution_count": 82,
   "metadata": {},
   "outputs": [
    {
     "name": "stderr",
     "output_type": "stream",
     "text": [
      "/Users/ayeshamendoza/anaconda/lib/python3.6/site-packages/ipykernel_launcher.py:6: DeprecationWarning: `het_breushpagan` is deprecated, use `het_breuschpagan` instead!\n",
      "Use het_breuschpagan, het_breushpagan will be removed in 0.9 \n",
      "(Note: misspelling missing 'c')\n",
      "  \n"
     ]
    },
    {
     "data": {
      "text/plain": [
       "[('Lagrange multiplier statistic', 3498.6749488776713),\n",
       " ('p-value', 0.0),\n",
       " ('f-value', 250.28886915692192),\n",
       " ('f p-value', 0.0)]"
      ]
     },
     "execution_count": 82,
     "metadata": {},
     "output_type": "execute_result"
    }
   ],
   "source": [
    "import statsmodels.stats.api as sms\n",
    "from statsmodels.compat import lzip\n",
    "\n",
    "name = ['Lagrange multiplier statistic', 'p-value', \n",
    "        'f-value', 'f p-value']\n",
    "test = sms.het_breushpagan(result.resid, result.model.exog)\n",
    "lzip(name, test)"
   ]
  },
  {
   "cell_type": "markdown",
   "metadata": {},
   "source": [
    "The Breush Pagan test shows a p-value less than a significance level of 0.05, therefore we can reject the null hypotheses that the variance of the residuals is constant and infer that heteroscedasticity is present.\n",
    "\n",
    "Heteroscedastic residuals is the variance of the error is not constant across various levels of our dependent variable.\n",
    "Heteroscedastic residuals may result to understated and unreliable regression coefficient.  So our model term may show that it is statistically significant, when it actually is not significant.\n",
    "\n",
    "\n",
    "\n",
    "Further analysis will need to be done to rectify the heteroscedasticity in our model, such as checking for collinearity in our predictors, and or possibly adding more features to make the model more accurate.\n"
   ]
  },
  {
   "cell_type": "markdown",
   "metadata": {},
   "source": [
    "### Question 3) What features affect the availability of the Airbnb property in the next 30 days (availability_30) ?"
   ]
  },
  {
   "cell_type": "code",
   "execution_count": 58,
   "metadata": {},
   "outputs": [
    {
     "data": {
      "image/png": "[encoded data removed]",
      "text/plain": [
       "<matplotlib.figure.Figure at 0x13e6e0e10>"
      ]
     },
     "execution_count": 58,
     "metadata": {},
     "output_type": "execute_result"
    }
   ],
   "source": [
    "bar_colors = ['#0055A7' if x else '#2C3E4F' for x in list(recent_corr.values < 0)]\n",
    "color_labels = {'#0055A7':'Negative correlation', '#2C3E4F':'Positive correlation'}\n",
    "\n",
    "conditional_bar(recent_avail_corr.apply(np.abs), bar_colors, color_labels,\n",
    "               title='Magnitude of correlation with Availability_30 of Airbnb rental properties in Paris, France',\n",
    "               xlabel='|Correlation|')"
   ]
  },
  {
   "cell_type": "markdown",
   "metadata": {},
   "source": [
    "#### price \n",
    "\n",
    "The correlation plot above shows a strong positive correlation between the price and the availability of the property.\n",
    "\n",
    "With regards to the availability, the graphs below show that the price does have some affect on the availability of the Airbnb rental properties in Paris. Properties available for less than 5 days have a lower average price compared to properties which are available for 5 or more days in the next 30 days."
   ]
  },
  {
   "cell_type": "markdown",
   "metadata": {},
   "source": [
    "\n",
    "<img src=\"../images/airbnb_price_byAvail.png\">"
   ]
  },
  {
   "cell_type": "markdown",
   "metadata": {},
   "source": [
    "If we look at availability of Airbnb rental properties by price range, we can see that for properties within \\$100/night budget the options for available properties are much less in Arrondissements 1 through 8, increasing your budget will give you better chances of getting a property close to the attractions (in Arrondissements 1 through 8), and if that is not an option, renting outside of arrondissments 1 through 8 will give one a better option of renting out a property within the \\$100/night budget."
   ]
  },
  {
   "cell_type": "markdown",
   "metadata": {},
   "source": [
    "#### arrondissement\n",
    "\n",
    "There is a negative correlation on the arrondissements.\n",
    "\n",
    "\n",
    "<img src=\"../images/Avail_less100.png\">"
   ]
  },
  {
   "cell_type": "markdown",
   "metadata": {},
   "source": [
    "#### rating_ind\n",
    "\n",
    "There is a positive correlation between the rating_ind and the availability of the Airbnb property.  As the plot below will show, rated properties have lower availability compare to the unrated properties.\n",
    "\n",
    "\n",
    "<img src=\"../images/box_rating_avail.png\">"
   ]
  },
  {
   "cell_type": "markdown",
   "metadata": {},
   "source": [
    "#### attraction_dist\n",
    "\n",
    "* distance of a property to an attraction is negatively correlated to the Airbnb availability.\n",
    "\n",
    "#### beds, bedrooms, bathrooms, accommodates\n",
    "\n",
    "* number of beds, bedrooms, bathrooms, and accommodation are all positively correlated to the Airbnb availability_30."
   ]
  },
  {
   "cell_type": "markdown",
   "metadata": {},
   "source": [
    "#### cancellation_policy\n",
    "* We can see that the properties with 'strict' cancellation policy have a positive correlation with the availability,\n",
    "  while those with 'moderate' and 'flexible' cancellation policies have a negative correlation with the availability,\n",
    "  which shows that customers tend to book more Airbnb properties with 'moderate' and 'flexible' cancellation policies, \n",
    "  than those with 'strict' cancellation policies.\n",
    "  "
   ]
  },
  {
   "cell_type": "markdown",
   "metadata": {},
   "source": [
    "#### site_count, close_to_attraction\n",
    "\n",
    "* site_count and close_to_attraction are positively correlated to the Airbnb availability\n",
    "\n"
   ]
  },
  {
   "cell_type": "markdown",
   "metadata": {},
   "source": [
    "### Question 4)  Can we model and predict if property will be available for 5 or more days in the next 30 days?"
   ]
  },
  {
   "cell_type": "markdown",
   "metadata": {},
   "source": [
    "For predicting if property will be available for five or more days in the next 30 days, we can use the logistic regression model,\n",
    "since we have a classification problem, that is, will the property be available for more than 5 days (avail_ge_5days = 1) or Not available (avail_ge_5days = 0).\n",
    "\n",
    "The column \"avail_ge_5days\" was added, which was set to 1 if availability_30 > 5 days, and set to 0 otherwise."
   ]
  },
  {
   "cell_type": "code",
   "execution_count": 59,
   "metadata": {
    "collapsed": true
   },
   "outputs": [],
   "source": [
    "#create Train and Test datasets for getting the best model\n",
    "#X2_avail X dataset for the availability prediction\n",
    "#y_avail y dataset for the availability prediction, avail_ge_5days\n",
    "\n",
    "np.random.seed(seed=12)\n",
    "train = np.random.choice([True, False], size=len(y_avail), replace=True)\n",
    "test = np.invert(train)"
   ]
  },
  {
   "cell_type": "code",
   "execution_count": 60,
   "metadata": {},
   "outputs": [
    {
     "name": "stdout",
     "output_type": "stream",
     "text": [
      "<class 'pandas.core.frame.DataFrame'>\n",
      "Int64Index: 51159 entries, 0 to 52338\n",
      "Data columns (total 19 columns):\n",
      "accommodates                           51159 non-null float64\n",
      "bathrooms                              51159 non-null float64\n",
      "bedrooms                               51159 non-null float64\n",
      "beds                                   51159 non-null float64\n",
      "price                                  51159 non-null float64\n",
      "arrondissement                         51159 non-null float64\n",
      "rating_ind                             51159 non-null float64\n",
      "close_to_attraction                    51159 non-null float64\n",
      "attraction_dist                        51159 non-null float64\n",
      "site_count                             51159 non-null float64\n",
      "property_type_Apartment                51159 non-null float64\n",
      "property_type_Condominium              51159 non-null float64\n",
      "property_type_House                    51159 non-null float64\n",
      "property_type_Loft                     51159 non-null float64\n",
      "cancellation_policy_flexible           51159 non-null float64\n",
      "cancellation_policy_moderate           51159 non-null float64\n",
      "cancellation_policy_strict             51159 non-null float64\n",
      "cancellation_policy_super_strict_30    51159 non-null float64\n",
      "cancellation_policy_super_strict_60    51159 non-null float64\n",
      "dtypes: float64(19)\n",
      "memory usage: 10.3 MB\n"
     ]
    }
   ],
   "source": [
    "X2_avail.info()"
   ]
  },
  {
   "cell_type": "markdown",
   "metadata": {},
   "source": [
    "##### Let us select the predictors to be used for the model:"
   ]
  },
  {
   "cell_type": "code",
   "execution_count": 94,
   "metadata": {},
   "outputs": [
    {
     "data": {
      "text/plain": [
       "[<matplotlib.lines.Line2D at 0x145602a90>]"
      ]
     },
     "execution_count": 94,
     "metadata": {},
     "output_type": "execute_result"
    },
    {
     "data": {
      "image/png": "[encoded data removed]",
      "text/plain": [
       "<matplotlib.figure.Figure at 0x134c3a4a8>"
      ]
     },
     "metadata": {},
     "output_type": "display_data"
    }
   ],
   "source": [
    "models_train = pd.DataFrame(columns=[\"RSS\", \"model\"])\n",
    "\n",
    "predictors = []\n",
    "\n",
    "for i in range(1, len(X2_avail.columns) + 1):\n",
    "    models_train.loc[i] = forward(predictors, X2_avail[train], y_avail[train][\"avail_ge_5days\"], X2_avail[test], y_avail[test][\"avail_ge_5days\"])\n",
    "    predictors = models_train.loc[i][\"model\"].model.exog_names\n",
    "    \n",
    "plt.plot(models_train[\"RSS\"])\n",
    "plt.xlabel('#Predictors')\n",
    "plt.ylabel(\"RSS\")\n",
    "plt.xticks(range(0,22))\n",
    "plt.plot(models_train[\"RSS\"].argmin(), models_train[\"RSS\"].min(), \"or\")"
   ]
  },
  {
   "cell_type": "markdown",
   "metadata": {},
   "source": [
    "##### based on the output above, the best model is one that contains 15 predictors.\n",
    "\n",
    "##### Using the full dataset, perform forward selection to select the best 15-predictor model."
   ]
  },
  {
   "cell_type": "code",
   "execution_count": 95,
   "metadata": {},
   "outputs": [
    {
     "name": "stdout",
     "output_type": "stream",
     "text": [
      "['property_type_Apartment', 'price', 'rating_ind', 'bedrooms', 'property_type_House', 'property_type_Loft', 'cancellation_policy_strict', 'property_type_Condominium', 'accommodates', 'cancellation_policy_flexible', 'attraction_dist', 'beds', 'bathrooms', 'arrondissement', 'close_to_attraction']\n",
      "['property_type_Apartment', 'price', 'rating_ind', 'bedrooms', 'property_type_House', 'cancellation_policy_strict', 'property_type_Loft', 'accommodates', 'property_type_Condominium', 'attraction_dist', 'bathrooms', 'cancellation_policy_flexible', 'beds', 'cancellation_policy_moderate', 'close_to_attraction']\n"
     ]
    }
   ],
   "source": [
    "models_full = pd.DataFrame(columns=[\"RSS\", \"model\"])\n",
    "\n",
    "predictors = []\n",
    "\n",
    "for i in range(1,len(X2_avail.columns) + 1):    \n",
    "    models_full.loc[i] = forward(predictors, X2_avail, y_avail[\"avail_ge_5days\"], X2_avail, y_avail[\"avail_ge_5days\"])\n",
    "    predictors = models_full.loc[i][\"model\"].model.exog_names\n",
    "\n",
    "print(models_train.loc[15, \"model\"].model.exog_names)\n",
    "print(models_full.loc[15, \"model\"].model.exog_names)\n",
    "\n",
    "log_pred = models_full.loc[15, \"model\"].model.exog_names"
   ]
  },
  {
   "cell_type": "code",
   "execution_count": 106,
   "metadata": {},
   "outputs": [
    {
     "name": "stdout",
     "output_type": "stream",
     "text": [
      "column does not exist\n"
     ]
    }
   ],
   "source": [
    "try:\n",
    "    X2_avail_corr.drop(['availability_30'],axis=1,inplace=True)\n",
    "except:\n",
    "    print('column does not exist')"
   ]
  },
  {
   "cell_type": "code",
   "execution_count": 96,
   "metadata": {},
   "outputs": [
    {
     "data": {
      "text/plain": [
       "pandas.core.series.Series"
      ]
     },
     "execution_count": 96,
     "metadata": {},
     "output_type": "execute_result"
    }
   ],
   "source": [
    "y_test = y_avail['avail_ge_5days']\n",
    "type(y_test)"
   ]
  },
  {
   "cell_type": "code",
   "execution_count": 97,
   "metadata": {},
   "outputs": [
    {
     "name": "stdout",
     "output_type": "stream",
     "text": [
      "                 Generalized Linear Model Regression Results                  \n",
      "==============================================================================\n",
      "Dep. Variable:         avail_ge_5days   No. Observations:                51159\n",
      "Model:                            GLM   Df Residuals:                    51144\n",
      "Model Family:                Binomial   Df Model:                           14\n",
      "Link Function:                  logit   Scale:                             1.0\n",
      "Method:                          IRLS   Log-Likelihood:                -33718.\n",
      "Date:                Thu, 13 Sep 2018   Deviance:                       67435.\n",
      "Time:                        09:58:33   Pearson chi2:                 5.32e+04\n",
      "No. Iterations:                     5                                         \n",
      "================================================================================================\n",
      "                                   coef    std err          z      P>|z|      [0.025      0.975]\n",
      "------------------------------------------------------------------------------------------------\n",
      "Intercept                        1.0043      0.874      1.149      0.251      -0.710       2.718\n",
      "property_type_Apartment          0.1662      0.222      0.748      0.454      -0.269       0.602\n",
      "price                            0.0082      0.000     34.843      0.000       0.008       0.009\n",
      "rating_ind                       0.3267      0.022     14.581      0.000       0.283       0.371\n",
      "bedrooms                        -0.2065      0.017    -11.911      0.000      -0.240      -0.172\n",
      "property_type_House              0.5292      0.233      2.267      0.023       0.072       0.987\n",
      "cancellation_policy_strict      -1.6348      1.091     -1.499      0.134      -3.772       0.503\n",
      "property_type_Loft               0.1976      0.232      0.851      0.395      -0.257       0.653\n",
      "accommodates                    -0.0940      0.012     -8.099      0.000      -0.117      -0.071\n",
      "property_type_Condominium        0.1113      0.244      0.457      0.648      -0.366       0.589\n",
      "attraction_dist                  0.1437      0.021      6.765      0.000       0.102       0.185\n",
      "bathrooms                       -0.2042      0.033     -6.273      0.000      -0.268      -0.140\n",
      "cancellation_policy_flexible    -1.9869      1.091     -1.822      0.068      -4.124       0.151\n",
      "beds                            -0.0472      0.016     -2.971      0.003      -0.078      -0.016\n",
      "cancellation_policy_moderate    -1.8522      1.091     -1.698      0.089      -3.990       0.285\n",
      "close_to_attraction             -0.0188      0.042     -0.445      0.657      -0.102       0.064\n",
      "================================================================================================\n"
     ]
    }
   ],
   "source": [
    "log_model = smf.glm(formula='avail_ge_5days ~ ' + '+'.join(log_pred), data=X2_avail_corr,\n",
    "                    family=sm.families.Binomial())\n",
    "log_result = log_model.fit()\n",
    "print(log_result.summary())"
   ]
  },
  {
   "cell_type": "markdown",
   "metadata": {},
   "source": [
    "#### Let us run the dataset to predict the availability, and check the accuracy of our Logistic Regression Model"
   ]
  },
  {
   "cell_type": "code",
   "execution_count": 98,
   "metadata": {
    "collapsed": true
   },
   "outputs": [],
   "source": [
    "from sklearn.metrics import confusion_matrix, classification_report\n",
    "\n",
    "predictions = log_result.predict(X2_avail)\n",
    "predictions_nominal = [ 0 if x < 0.5 else 1 for x in predictions]"
   ]
  },
  {
   "cell_type": "code",
   "execution_count": 103,
   "metadata": {},
   "outputs": [
    {
     "name": "stdout",
     "output_type": "stream",
     "text": [
      "             precision    recall  f1-score   support\n",
      "\n",
      "          0      0.611     0.874     0.719     29388\n",
      "          1      0.593     0.247     0.349     21771\n",
      "\n",
      "avg / total      0.603     0.608     0.562     51159\n",
      "\n"
     ]
    }
   ],
   "source": [
    "print(classification_report(y_arr, predictions_nominal, digits=3))"
   ]
  },
  {
   "cell_type": "markdown",
   "metadata": {},
   "source": [
    "\n",
    "#### *** With our model, we are able to get an average of 60% precision for predicting whether the Airbnb Paris property will be available or not for more than five days in the next 30 days, with an error rate of (1 - recall), which is 0.392 -- 39%."
   ]
  },
  {
   "cell_type": "markdown",
   "metadata": {},
   "source": [
    "## Summary\n",
    "\n",
    "### A.  Airbnb Paris rental property Price and Availability:\n",
    "#### 1) How does location influence property rental price?  \n",
    "\n",
    "* What features drive the price of an airbnb rental property? i.e. price vs location, price vs distance from a top attraction, etc.\n",
    "  \n",
    "  \n",
    "* are the differences in price in the different arrondissements statistically significant?\n",
    "\n",
    " Based on our findings, we did confirm that the location is correlated to the Airbnb property price by looking at the following features:  arrondissement, site_count, attraction_dist.  And that the difference in prices in the different arrondissements is statistically significant.\n",
    "\n",
    "#### 2) Can we model the airbnb rental property prices based on the features, i.e. location, distance to attraction, number of bedrooms, etc.?\n",
    "   \n",
    "The analysis did show correlation of price with the other property features.  From our model selection process, were given the following features to use for our model:\n",
    "\n",
    "['accommodates', 'site_count', 'bedrooms', 'availability_30', 'attraction_dist', 'bathrooms', 'rating_ind', 'cancellation_policy_strict', 'cancellation_policy_super_strict_60', 'close_to_attraction', 'property_type_Loft', 'beds', 'arrondissement', 'property_type_House', 'property_type_Apartment', 'property_type_Condominium']\n",
    "\n",
    " A linear regression model may not be the best fit for our model as we can see with the residuals from our linear regression model, heteroscedasticity was present in our model.\n",
    "\n",
    "Heteroscedastic residuals may result to understated and unreliable regression coefficient.  So our model term may show that it is statistically significant, when it actually is not significant.\n",
    "\n",
    "Further analysis will need to be done to rectify the heteroscedasticity in our model, such as checking for collinearity in our predictors, and or possibly adding more features to make the model more accurate.\n",
    "\n",
    "For this project we are limited to using the Linear Regression Model, other types of model have not been explored to see if it would result to better accuracy given the limited features available.\n",
    "\n",
    "\n",
    "   \n",
    "#### 3) What features drive the availability of an Airbnb property?\n",
    "\n",
    "Our analysis showed that the price of the Airbnb property highly correlated to the availability of the Airbnb Paris property.  Other features identified which drives or impacts the availability of the Airbnb property are the rating indicator (rated or unrated), location -- i.e. Arrondissement, site count, attraction distance, close to Attraction, Number of Accommodation, Beds, bedrooms, and bathrooms, and the cancellation policy.\n",
    "\n",
    "  \n",
    "#### 4) Can we model and predict that the property will be available for more than 5 days within the next 30 days based on the features available?\n",
    "\n",
    "Using the Generalized Linear Model, specifically the Logistic Regression model, we were able to generate a model with 60% accuracy for classifying if the Airbnb Paris property will be available for five or more days in the next thirty (30) days, or not.\n",
    "\n",
    "Our model selection process identified the following features to be used to give the best model:\n",
    "\n",
    "['property_type_Apartment', 'price', 'rating_ind', 'bedrooms', 'property_type_House', 'cancellation_policy_strict', 'property_type_Loft', 'accommodates', 'property_type_Condominium', 'attraction_dist', 'bathrooms', 'cancellation_policy_flexible', 'beds', 'cancellation_policy_moderate', 'close_to_attraction']\n"
   ]
  },
  {
   "cell_type": "markdown",
   "metadata": {
    "collapsed": true
   },
   "source": [
    "### B. Airbnb Paris Recommendations\n",
    "\n",
    "\n"
   ]
  },
  {
   "cell_type": "markdown",
   "metadata": {},
   "source": [
    "Recommendation filter 1:\n",
    "\n",
    "* properties which are within 1 mile at least one of the top attractions\n",
    "\n",
    "* Room type == Entire home/apt\n",
    "\n",
    "* property is within 0.2 miles more than 2 stations\n",
    "\n",
    "\n",
    "Recommendation filter 2: (if #1 filter results to less than 20 properties, results from #2 will be added to the recommendation list)\n",
    "\n",
    "* properties which are within 1 mile at least one of the top attractions AND\n",
    "* Room type == Entire home/apt AND\n",
    "* property is within 0.2 miles at least 2 stations"
   ]
  },
  {
   "cell_type": "markdown",
   "metadata": {},
   "source": [
    "Below are Recommended Airbnb properties with the base criteria below, and additional filters applied as defined\n",
    "in Recommendation filters 1 and 2:  \n",
    "* Beds: >= 1  \n",
    "* Accomodates >= 2  \n",
    "* Available_30 >=  5 days  \n",
    "* Price Max: $85  \n",
    "* Rating Ind = 1 (rated properties only)\n",
    "* Room type = Entire home/Apt\n",
    "* Review_Scores_Rating = 100.0\n",
    "   "
   ]
  },
  {
   "cell_type": "code",
   "execution_count": 8,
   "metadata": {
    "scrolled": true
   },
   "outputs": [
    {
     "data": {
      "text/html": [
       "<style  type=\"text/css\" >\n",
       "</style>  \n",
       "<table id=\"T_79d81200_726c_11e8_bf69_685b35c66d69\" > \n",
       "<thead>    <tr> \n",
       "        <th class=\"blank level0\" ></th> \n",
       "        <th class=\"col_heading level0 col0\" >id</th> \n",
       "        <th class=\"col_heading level0 col1\" >arrondissement</th> \n",
       "        <th class=\"col_heading level0 col2\" >arrond_name</th> \n",
       "        <th class=\"col_heading level0 col3\" >price</th> \n",
       "        <th class=\"col_heading level0 col4\" >cancellation_policy</th> \n",
       "        <th class=\"col_heading level0 col5\" >closest_attraction</th> \n",
       "        <th class=\"col_heading level0 col6\" >attraction_dist</th> \n",
       "        <th class=\"col_heading level0 col7\" >site_count</th> \n",
       "        <th class=\"col_heading level0 col8\" >station_count</th> \n",
       "        <th class=\"col_heading level0 col9\" >Eiffel Tower</th> \n",
       "        <th class=\"col_heading level0 col10\" >The Louvre</th> \n",
       "        <th class=\"col_heading level0 col11\" >Jardin du Luxembourg</th> \n",
       "        <th class=\"col_heading level0 col12\" >Le Marais</th> \n",
       "        <th class=\"col_heading level0 col13\" >Musee d'Orsay</th> \n",
       "        <th class=\"col_heading level0 col14\" >Sainte-Chapelle</th> \n",
       "        <th class=\"col_heading level0 col15\" >Palais Garnier - Opera</th> \n",
       "        <th class=\"col_heading level0 col16\" >Notre Dame Cathedral</th> \n",
       "        <th class=\"col_heading level0 col17\" >Musee de l'Orangerie</th> \n",
       "        <th class=\"col_heading level0 col18\" >Pont Alexandre III</th> \n",
       "        <th class=\"col_heading level0 col19\" >station1_name</th> \n",
       "        <th class=\"col_heading level0 col20\" >station1_dist</th> \n",
       "        <th class=\"col_heading level0 col21\" >station2_name</th> \n",
       "        <th class=\"col_heading level0 col22\" >station2_dist</th> \n",
       "        <th class=\"col_heading level0 col23\" >station3_name</th> \n",
       "        <th class=\"col_heading level0 col24\" >station3_dist</th> \n",
       "        <th class=\"col_heading level0 col25\" >station4_name</th> \n",
       "        <th class=\"col_heading level0 col26\" >station4_dist</th> \n",
       "        <th class=\"col_heading level0 col27\" >station5_name</th> \n",
       "        <th class=\"col_heading level0 col28\" >station5_dist</th> \n",
       "        <th class=\"col_heading level0 col29\" >latitude</th> \n",
       "        <th class=\"col_heading level0 col30\" >longitude</th> \n",
       "    </tr></thead> \n",
       "<tbody>    <tr> \n",
       "        <th id=\"T_79d81200_726c_11e8_bf69_685b35c66d69\" class=\"row_heading level0 row0\" >0</th> \n",
       "        <td id=\"T_79d81200_726c_11e8_bf69_685b35c66d69row0_col0\" class=\"data row0 col0\" >Property12691441</td> \n",
       "        <td id=\"T_79d81200_726c_11e8_bf69_685b35c66d69row0_col1\" class=\"data row0 col1\" >1</td> \n",
       "        <td id=\"T_79d81200_726c_11e8_bf69_685b35c66d69row0_col2\" class=\"data row0 col2\" >Louvre</td> \n",
       "        <td id=\"T_79d81200_726c_11e8_bf69_685b35c66d69row0_col3\" class=\"data row0 col3\" >55</td> \n",
       "        <td id=\"T_79d81200_726c_11e8_bf69_685b35c66d69row0_col4\" class=\"data row0 col4\" >flexible</td> \n",
       "        <td id=\"T_79d81200_726c_11e8_bf69_685b35c66d69row0_col5\" class=\"data row0 col5\" >The Louvre</td> \n",
       "        <td id=\"T_79d81200_726c_11e8_bf69_685b35c66d69row0_col6\" class=\"data row0 col6\" >0.324823</td> \n",
       "        <td id=\"T_79d81200_726c_11e8_bf69_685b35c66d69row0_col7\" class=\"data row0 col7\" >7</td> \n",
       "        <td id=\"T_79d81200_726c_11e8_bf69_685b35c66d69row0_col8\" class=\"data row0 col8\" >3</td> \n",
       "        <td id=\"T_79d81200_726c_11e8_bf69_685b35c66d69row0_col9\" class=\"data row0 col9\" >2.27925</td> \n",
       "        <td id=\"T_79d81200_726c_11e8_bf69_685b35c66d69row0_col10\" class=\"data row0 col10\" >0.324823</td> \n",
       "        <td id=\"T_79d81200_726c_11e8_bf69_685b35c66d69row0_col11\" class=\"data row0 col11\" >1.15417</td> \n",
       "        <td id=\"T_79d81200_726c_11e8_bf69_685b35c66d69row0_col12\" class=\"data row0 col12\" >0.703087</td> \n",
       "        <td id=\"T_79d81200_726c_11e8_bf69_685b35c66d69row0_col13\" class=\"data row0 col13\" >0.819248</td> \n",
       "        <td id=\"T_79d81200_726c_11e8_bf69_685b35c66d69row0_col14\" class=\"data row0 col14\" >0.47351</td> \n",
       "        <td id=\"T_79d81200_726c_11e8_bf69_685b35c66d69row0_col15\" class=\"data row0 col15\" >0.887801</td> \n",
       "        <td id=\"T_79d81200_726c_11e8_bf69_685b35c66d69row0_col16\" class=\"data row0 col16\" >0.687199</td> \n",
       "        <td id=\"T_79d81200_726c_11e8_bf69_685b35c66d69row0_col17\" class=\"data row0 col17\" >0.987702</td> \n",
       "        <td id=\"T_79d81200_726c_11e8_bf69_685b35c66d69row0_col18\" class=\"data row0 col18\" >1.40016</td> \n",
       "        <td id=\"T_79d81200_726c_11e8_bf69_685b35c66d69row0_col19\" class=\"data row0 col19\" >Les Halles</td> \n",
       "        <td id=\"T_79d81200_726c_11e8_bf69_685b35c66d69row0_col20\" class=\"data row0 col20\" >0.100234</td> \n",
       "        <td id=\"T_79d81200_726c_11e8_bf69_685b35c66d69row0_col21\" class=\"data row0 col21\" >Châtelet-Les Halles</td> \n",
       "        <td id=\"T_79d81200_726c_11e8_bf69_685b35c66d69row0_col22\" class=\"data row0 col22\" >0.127479</td> \n",
       "        <td id=\"T_79d81200_726c_11e8_bf69_685b35c66d69row0_col23\" class=\"data row0 col23\" >Louvre-Rivoli</td> \n",
       "        <td id=\"T_79d81200_726c_11e8_bf69_685b35c66d69row0_col24\" class=\"data row0 col24\" >0.177881</td> \n",
       "        <td id=\"T_79d81200_726c_11e8_bf69_685b35c66d69row0_col25\" class=\"data row0 col25\" >Etienne Marcel</td> \n",
       "        <td id=\"T_79d81200_726c_11e8_bf69_685b35c66d69row0_col26\" class=\"data row0 col26\" >0.23604</td> \n",
       "        <td id=\"T_79d81200_726c_11e8_bf69_685b35c66d69row0_col27\" class=\"data row0 col27\" >Châtelet</td> \n",
       "        <td id=\"T_79d81200_726c_11e8_bf69_685b35c66d69row0_col28\" class=\"data row0 col28\" >0.302536</td> \n",
       "        <td id=\"T_79d81200_726c_11e8_bf69_685b35c66d69row0_col29\" class=\"data row0 col29\" >48.86223720346151</td> \n",
       "        <td id=\"T_79d81200_726c_11e8_bf69_685b35c66d69row0_col30\" class=\"data row0 col30\" >2.344298191899912</td> \n",
       "    </tr>    <tr> \n",
       "        <th id=\"T_79d81200_726c_11e8_bf69_685b35c66d69\" class=\"row_heading level0 row1\" >1</th> \n",
       "        <td id=\"T_79d81200_726c_11e8_bf69_685b35c66d69row1_col0\" class=\"data row1 col0\" >Property1846308</td> \n",
       "        <td id=\"T_79d81200_726c_11e8_bf69_685b35c66d69row1_col1\" class=\"data row1 col1\" >11</td> \n",
       "        <td id=\"T_79d81200_726c_11e8_bf69_685b35c66d69row1_col2\" class=\"data row1 col2\" >Popincourt</td> \n",
       "        <td id=\"T_79d81200_726c_11e8_bf69_685b35c66d69row1_col3\" class=\"data row1 col3\" >80</td> \n",
       "        <td id=\"T_79d81200_726c_11e8_bf69_685b35c66d69row1_col4\" class=\"data row1 col4\" >moderate</td> \n",
       "        <td id=\"T_79d81200_726c_11e8_bf69_685b35c66d69row1_col5\" class=\"data row1 col5\" >The Louvre</td> \n",
       "        <td id=\"T_79d81200_726c_11e8_bf69_685b35c66d69row1_col6\" class=\"data row1 col6\" >0.347938</td> \n",
       "        <td id=\"T_79d81200_726c_11e8_bf69_685b35c66d69row1_col7\" class=\"data row1 col7\" >6</td> \n",
       "        <td id=\"T_79d81200_726c_11e8_bf69_685b35c66d69row1_col8\" class=\"data row1 col8\" >3</td> \n",
       "        <td id=\"T_79d81200_726c_11e8_bf69_685b35c66d69row1_col9\" class=\"data row1 col9\" >2.31314</td> \n",
       "        <td id=\"T_79d81200_726c_11e8_bf69_685b35c66d69row1_col10\" class=\"data row1 col10\" >0.347938</td> \n",
       "        <td id=\"T_79d81200_726c_11e8_bf69_685b35c66d69row1_col11\" class=\"data row1 col11\" >1.08447</td> \n",
       "        <td id=\"T_79d81200_726c_11e8_bf69_685b35c66d69row1_col12\" class=\"data row1 col12\" >0.636549</td> \n",
       "        <td id=\"T_79d81200_726c_11e8_bf69_685b35c66d69row1_col13\" class=\"data row1 col13\" >0.849699</td> \n",
       "        <td id=\"T_79d81200_726c_11e8_bf69_685b35c66d69row1_col14\" class=\"data row1 col14\" >0.385578</td> \n",
       "        <td id=\"T_79d81200_726c_11e8_bf69_685b35c66d69row1_col15\" class=\"data row1 col15\" >0.981818</td> \n",
       "        <td id=\"T_79d81200_726c_11e8_bf69_685b35c66d69row1_col16\" class=\"data row1 col16\" >0.590699</td> \n",
       "        <td id=\"T_79d81200_726c_11e8_bf69_685b35c66d69row1_col17\" class=\"data row1 col17\" >1.04265</td> \n",
       "        <td id=\"T_79d81200_726c_11e8_bf69_685b35c66d69row1_col18\" class=\"data row1 col18\" >1.45202</td> \n",
       "        <td id=\"T_79d81200_726c_11e8_bf69_685b35c66d69row1_col19\" class=\"data row1 col19\" >Châtelet-Les Halles</td> \n",
       "        <td id=\"T_79d81200_726c_11e8_bf69_685b35c66d69row1_col20\" class=\"data row1 col20\" >0.0805858</td> \n",
       "        <td id=\"T_79d81200_726c_11e8_bf69_685b35c66d69row1_col21\" class=\"data row1 col21\" >Les Halles</td> \n",
       "        <td id=\"T_79d81200_726c_11e8_bf69_685b35c66d69row1_col22\" class=\"data row1 col22\" >0.0911123</td> \n",
       "        <td id=\"T_79d81200_726c_11e8_bf69_685b35c66d69row1_col23\" class=\"data row1 col23\" >Louvre-Rivoli</td> \n",
       "        <td id=\"T_79d81200_726c_11e8_bf69_685b35c66d69row1_col24\" class=\"data row1 col24\" >0.19373</td> \n",
       "        <td id=\"T_79d81200_726c_11e8_bf69_685b35c66d69row1_col25\" class=\"data row1 col25\" >Châtelet</td> \n",
       "        <td id=\"T_79d81200_726c_11e8_bf69_685b35c66d69row1_col26\" class=\"data row1 col26\" >0.206811</td> \n",
       "        <td id=\"T_79d81200_726c_11e8_bf69_685b35c66d69row1_col27\" class=\"data row1 col27\" >Etienne Marcel</td> \n",
       "        <td id=\"T_79d81200_726c_11e8_bf69_685b35c66d69row1_col28\" class=\"data row1 col28\" >0.254388</td> \n",
       "        <td id=\"T_79d81200_726c_11e8_bf69_685b35c66d69row1_col29\" class=\"data row1 col29\" >48.86097809420282</td> \n",
       "        <td id=\"T_79d81200_726c_11e8_bf69_685b35c66d69row1_col30\" class=\"data row1 col30\" >2.3452323445275267</td> \n",
       "    </tr>    <tr> \n",
       "        <th id=\"T_79d81200_726c_11e8_bf69_685b35c66d69\" class=\"row_heading level0 row2\" >2</th> \n",
       "        <td id=\"T_79d81200_726c_11e8_bf69_685b35c66d69row2_col0\" class=\"data row2 col0\" >Property3247039</td> \n",
       "        <td id=\"T_79d81200_726c_11e8_bf69_685b35c66d69row2_col1\" class=\"data row2 col1\" >6</td> \n",
       "        <td id=\"T_79d81200_726c_11e8_bf69_685b35c66d69row2_col2\" class=\"data row2 col2\" >Luxembourg</td> \n",
       "        <td id=\"T_79d81200_726c_11e8_bf69_685b35c66d69row2_col3\" class=\"data row2 col3\" >70</td> \n",
       "        <td id=\"T_79d81200_726c_11e8_bf69_685b35c66d69row2_col4\" class=\"data row2 col4\" >moderate</td> \n",
       "        <td id=\"T_79d81200_726c_11e8_bf69_685b35c66d69row2_col5\" class=\"data row2 col5\" >Sainte-Chapelle</td> \n",
       "        <td id=\"T_79d81200_726c_11e8_bf69_685b35c66d69row2_col6\" class=\"data row2 col6\" >0.376824</td> \n",
       "        <td id=\"T_79d81200_726c_11e8_bf69_685b35c66d69row2_col7\" class=\"data row2 col7\" >6</td> \n",
       "        <td id=\"T_79d81200_726c_11e8_bf69_685b35c66d69row2_col8\" class=\"data row2 col8\" >3</td> \n",
       "        <td id=\"T_79d81200_726c_11e8_bf69_685b35c66d69row2_col9\" class=\"data row2 col9\" >1.94343</td> \n",
       "        <td id=\"T_79d81200_726c_11e8_bf69_685b35c66d69row2_col10\" class=\"data row2 col10\" >0.424355</td> \n",
       "        <td id=\"T_79d81200_726c_11e8_bf69_685b35c66d69row2_col11\" class=\"data row2 col11\" >0.572341</td> \n",
       "        <td id=\"T_79d81200_726c_11e8_bf69_685b35c66d69row2_col12\" class=\"data row2 col12\" >1.04049</td> \n",
       "        <td id=\"T_79d81200_726c_11e8_bf69_685b35c66d69row2_col13\" class=\"data row2 col13\" >0.601516</td> \n",
       "        <td id=\"T_79d81200_726c_11e8_bf69_685b35c66d69row2_col14\" class=\"data row2 col14\" >0.376824</td> \n",
       "        <td id=\"T_79d81200_726c_11e8_bf69_685b35c66d69row2_col15\" class=\"data row2 col15\" >1.23375</td> \n",
       "        <td id=\"T_79d81200_726c_11e8_bf69_685b35c66d69row2_col16\" class=\"data row2 col16\" >0.602936</td> \n",
       "        <td id=\"T_79d81200_726c_11e8_bf69_685b35c66d69row2_col17\" class=\"data row2 col17\" >0.909621</td> \n",
       "        <td id=\"T_79d81200_726c_11e8_bf69_685b35c66d69row2_col18\" class=\"data row2 col18\" >1.24056</td> \n",
       "        <td id=\"T_79d81200_726c_11e8_bf69_685b35c66d69row2_col19\" class=\"data row2 col19\" >Mabillon</td> \n",
       "        <td id=\"T_79d81200_726c_11e8_bf69_685b35c66d69row2_col20\" class=\"data row2 col20\" >0.136513</td> \n",
       "        <td id=\"T_79d81200_726c_11e8_bf69_685b35c66d69row2_col21\" class=\"data row2 col21\" >Odéon</td> \n",
       "        <td id=\"T_79d81200_726c_11e8_bf69_685b35c66d69row2_col22\" class=\"data row2 col22\" >0.180855</td> \n",
       "        <td id=\"T_79d81200_726c_11e8_bf69_685b35c66d69row2_col23\" class=\"data row2 col23\" >Saint-Germain des Prés</td> \n",
       "        <td id=\"T_79d81200_726c_11e8_bf69_685b35c66d69row2_col24\" class=\"data row2 col24\" >0.186248</td> \n",
       "        <td id=\"T_79d81200_726c_11e8_bf69_685b35c66d69row2_col25\" class=\"data row2 col25\" >Saint-Michel</td> \n",
       "        <td id=\"T_79d81200_726c_11e8_bf69_685b35c66d69row2_col26\" class=\"data row2 col26\" >0.33141</td> \n",
       "        <td id=\"T_79d81200_726c_11e8_bf69_685b35c66d69row2_col27\" class=\"data row2 col27\" >Pont Neuf</td> \n",
       "        <td id=\"T_79d81200_726c_11e8_bf69_685b35c66d69row2_col28\" class=\"data row2 col28\" >0.369129</td> \n",
       "        <td id=\"T_79d81200_726c_11e8_bf69_685b35c66d69row2_col29\" class=\"data row2 col29\" >48.85447951841604</td> \n",
       "        <td id=\"T_79d81200_726c_11e8_bf69_685b35c66d69row2_col30\" class=\"data row2 col30\" >2.336830506364772</td> \n",
       "    </tr>    <tr> \n",
       "        <th id=\"T_79d81200_726c_11e8_bf69_685b35c66d69\" class=\"row_heading level0 row3\" >3</th> \n",
       "        <td id=\"T_79d81200_726c_11e8_bf69_685b35c66d69row3_col0\" class=\"data row3 col0\" >Property10489498</td> \n",
       "        <td id=\"T_79d81200_726c_11e8_bf69_685b35c66d69row3_col1\" class=\"data row3 col1\" >1</td> \n",
       "        <td id=\"T_79d81200_726c_11e8_bf69_685b35c66d69row3_col2\" class=\"data row3 col2\" >Louvre</td> \n",
       "        <td id=\"T_79d81200_726c_11e8_bf69_685b35c66d69row3_col3\" class=\"data row3 col3\" >70</td> \n",
       "        <td id=\"T_79d81200_726c_11e8_bf69_685b35c66d69row3_col4\" class=\"data row3 col4\" >strict</td> \n",
       "        <td id=\"T_79d81200_726c_11e8_bf69_685b35c66d69row3_col5\" class=\"data row3 col5\" >Palais Garnier - Opera</td> \n",
       "        <td id=\"T_79d81200_726c_11e8_bf69_685b35c66d69row3_col6\" class=\"data row3 col6\" >0.435389</td> \n",
       "        <td id=\"T_79d81200_726c_11e8_bf69_685b35c66d69row3_col7\" class=\"data row3 col7\" >6</td> \n",
       "        <td id=\"T_79d81200_726c_11e8_bf69_685b35c66d69row3_col8\" class=\"data row3 col8\" >3</td> \n",
       "        <td id=\"T_79d81200_726c_11e8_bf69_685b35c66d69row3_col9\" class=\"data row3 col9\" >1.77461</td> \n",
       "        <td id=\"T_79d81200_726c_11e8_bf69_685b35c66d69row3_col10\" class=\"data row3 col10\" >0.436807</td> \n",
       "        <td id=\"T_79d81200_726c_11e8_bf69_685b35c66d69row3_col11\" class=\"data row3 col11\" >1.36874</td> \n",
       "        <td id=\"T_79d81200_726c_11e8_bf69_685b35c66d69row3_col12\" class=\"data row3 col12\" >1.3139</td> \n",
       "        <td id=\"T_79d81200_726c_11e8_bf69_685b35c66d69row3_col13\" class=\"data row3 col13\" >0.462505</td> \n",
       "        <td id=\"T_79d81200_726c_11e8_bf69_685b35c66d69row3_col14\" class=\"data row3 col14\" >0.927324</td> \n",
       "        <td id=\"T_79d81200_726c_11e8_bf69_685b35c66d69row3_col15\" class=\"data row3 col15\" >0.435389</td> \n",
       "        <td id=\"T_79d81200_726c_11e8_bf69_685b35c66d69row3_col16\" class=\"data row3 col16\" >1.19914</td> \n",
       "        <td id=\"T_79d81200_726c_11e8_bf69_685b35c66d69row3_col17\" class=\"data row3 col17\" >0.439555</td> \n",
       "        <td id=\"T_79d81200_726c_11e8_bf69_685b35c66d69row3_col18\" class=\"data row3 col18\" >0.842335</td> \n",
       "        <td id=\"T_79d81200_726c_11e8_bf69_685b35c66d69row3_col19\" class=\"data row3 col19\" >Pyramides</td> \n",
       "        <td id=\"T_79d81200_726c_11e8_bf69_685b35c66d69row3_col20\" class=\"data row3 col20\" >0.112749</td> \n",
       "        <td id=\"T_79d81200_726c_11e8_bf69_685b35c66d69row3_col21\" class=\"data row3 col21\" >Pyramides</td> \n",
       "        <td id=\"T_79d81200_726c_11e8_bf69_685b35c66d69row3_col22\" class=\"data row3 col22\" >0.129119</td> \n",
       "        <td id=\"T_79d81200_726c_11e8_bf69_685b35c66d69row3_col23\" class=\"data row3 col23\" >Tuileries</td> \n",
       "        <td id=\"T_79d81200_726c_11e8_bf69_685b35c66d69row3_col24\" class=\"data row3 col24\" >0.143665</td> \n",
       "        <td id=\"T_79d81200_726c_11e8_bf69_685b35c66d69row3_col25\" class=\"data row3 col25\" >Palais-Royal (Musée du Louvre)</td> \n",
       "        <td id=\"T_79d81200_726c_11e8_bf69_685b35c66d69row3_col26\" class=\"data row3 col26\" >0.227875</td> \n",
       "        <td id=\"T_79d81200_726c_11e8_bf69_685b35c66d69row3_col27\" class=\"data row3 col27\" >Opéra</td> \n",
       "        <td id=\"T_79d81200_726c_11e8_bf69_685b35c66d69row3_col28\" class=\"data row3 col28\" >0.340652</td> \n",
       "        <td id=\"T_79d81200_726c_11e8_bf69_685b35c66d69row3_col29\" class=\"data row3 col29\" >48.86570261463177</td> \n",
       "        <td id=\"T_79d81200_726c_11e8_bf69_685b35c66d69row3_col30\" class=\"data row3 col30\" >2.3319274559507868</td> \n",
       "    </tr>    <tr> \n",
       "        <th id=\"T_79d81200_726c_11e8_bf69_685b35c66d69\" class=\"row_heading level0 row4\" >4</th> \n",
       "        <td id=\"T_79d81200_726c_11e8_bf69_685b35c66d69row4_col0\" class=\"data row4 col0\" >Property16902638</td> \n",
       "        <td id=\"T_79d81200_726c_11e8_bf69_685b35c66d69row4_col1\" class=\"data row4 col1\" >2</td> \n",
       "        <td id=\"T_79d81200_726c_11e8_bf69_685b35c66d69row4_col2\" class=\"data row4 col2\" >Bourse</td> \n",
       "        <td id=\"T_79d81200_726c_11e8_bf69_685b35c66d69row4_col3\" class=\"data row4 col3\" >70</td> \n",
       "        <td id=\"T_79d81200_726c_11e8_bf69_685b35c66d69row4_col4\" class=\"data row4 col4\" >flexible</td> \n",
       "        <td id=\"T_79d81200_726c_11e8_bf69_685b35c66d69row4_col5\" class=\"data row4 col5\" >Le Marais</td> \n",
       "        <td id=\"T_79d81200_726c_11e8_bf69_685b35c66d69row4_col6\" class=\"data row4 col6\" >0.60404</td> \n",
       "        <td id=\"T_79d81200_726c_11e8_bf69_685b35c66d69row4_col7\" class=\"data row4 col7\" >5</td> \n",
       "        <td id=\"T_79d81200_726c_11e8_bf69_685b35c66d69row4_col8\" class=\"data row4 col8\" >3</td> \n",
       "        <td id=\"T_79d81200_726c_11e8_bf69_685b35c66d69row4_col9\" class=\"data row4 col9\" >2.54114</td> \n",
       "        <td id=\"T_79d81200_726c_11e8_bf69_685b35c66d69row4_col10\" class=\"data row4 col10\" >0.619101</td> \n",
       "        <td id=\"T_79d81200_726c_11e8_bf69_685b35c66d69row4_col11\" class=\"data row4 col11\" >1.41117</td> \n",
       "        <td id=\"T_79d81200_726c_11e8_bf69_685b35c66d69row4_col12\" class=\"data row4 col12\" >0.60404</td> \n",
       "        <td id=\"T_79d81200_726c_11e8_bf69_685b35c66d69row4_col13\" class=\"data row4 col13\" >1.09602</td> \n",
       "        <td id=\"T_79d81200_726c_11e8_bf69_685b35c66d69row4_col14\" class=\"data row4 col14\" >0.69089</td> \n",
       "        <td id=\"T_79d81200_726c_11e8_bf69_685b35c66d69row4_col15\" class=\"data row4 col15\" >0.948613</td> \n",
       "        <td id=\"T_79d81200_726c_11e8_bf69_685b35c66d69row4_col16\" class=\"data row4 col16\" >0.82583</td> \n",
       "        <td id=\"T_79d81200_726c_11e8_bf69_685b35c66d69row4_col17\" class=\"data row4 col17\" >1.22113</td> \n",
       "        <td id=\"T_79d81200_726c_11e8_bf69_685b35c66d69row4_col18\" class=\"data row4 col18\" >1.6338</td> \n",
       "        <td id=\"T_79d81200_726c_11e8_bf69_685b35c66d69row4_col19\" class=\"data row4 col19\" >Etienne Marcel</td> \n",
       "        <td id=\"T_79d81200_726c_11e8_bf69_685b35c66d69row4_col20\" class=\"data row4 col20\" >0.0888375</td> \n",
       "        <td id=\"T_79d81200_726c_11e8_bf69_685b35c66d69row4_col21\" class=\"data row4 col21\" >Réaumur-Sébastopol</td> \n",
       "        <td id=\"T_79d81200_726c_11e8_bf69_685b35c66d69row4_col22\" class=\"data row4 col22\" >0.163637</td> \n",
       "        <td id=\"T_79d81200_726c_11e8_bf69_685b35c66d69row4_col23\" class=\"data row4 col23\" >Sentier</td> \n",
       "        <td id=\"T_79d81200_726c_11e8_bf69_685b35c66d69row4_col24\" class=\"data row4 col24\" >0.18792</td> \n",
       "        <td id=\"T_79d81200_726c_11e8_bf69_685b35c66d69row4_col25\" class=\"data row4 col25\" >Les Halles</td> \n",
       "        <td id=\"T_79d81200_726c_11e8_bf69_685b35c66d69row4_col26\" class=\"data row4 col26\" >0.24529</td> \n",
       "        <td id=\"T_79d81200_726c_11e8_bf69_685b35c66d69row4_col27\" class=\"data row4 col27\" >Arts-et-Métiers</td> \n",
       "        <td id=\"T_79d81200_726c_11e8_bf69_685b35c66d69row4_col28\" class=\"data row4 col28\" >0.302903</td> \n",
       "        <td id=\"T_79d81200_726c_11e8_bf69_685b35c66d69row4_col29\" class=\"data row4 col29\" >48.86494885382183</td> \n",
       "        <td id=\"T_79d81200_726c_11e8_bf69_685b35c66d69row4_col30\" class=\"data row4 col30\" >2.3495076340203824</td> \n",
       "    </tr>    <tr> \n",
       "        <th id=\"T_79d81200_726c_11e8_bf69_685b35c66d69\" class=\"row_heading level0 row5\" >5</th> \n",
       "        <td id=\"T_79d81200_726c_11e8_bf69_685b35c66d69row5_col0\" class=\"data row5 col0\" >Property17680319</td> \n",
       "        <td id=\"T_79d81200_726c_11e8_bf69_685b35c66d69row5_col1\" class=\"data row5 col1\" >1</td> \n",
       "        <td id=\"T_79d81200_726c_11e8_bf69_685b35c66d69row5_col2\" class=\"data row5 col2\" >Louvre</td> \n",
       "        <td id=\"T_79d81200_726c_11e8_bf69_685b35c66d69row5_col3\" class=\"data row5 col3\" >75</td> \n",
       "        <td id=\"T_79d81200_726c_11e8_bf69_685b35c66d69row5_col4\" class=\"data row5 col4\" >flexible</td> \n",
       "        <td id=\"T_79d81200_726c_11e8_bf69_685b35c66d69row5_col5\" class=\"data row5 col5\" >The Louvre</td> \n",
       "        <td id=\"T_79d81200_726c_11e8_bf69_685b35c66d69row5_col6\" class=\"data row5 col6\" >0.338715</td> \n",
       "        <td id=\"T_79d81200_726c_11e8_bf69_685b35c66d69row5_col7\" class=\"data row5 col7\" >5</td> \n",
       "        <td id=\"T_79d81200_726c_11e8_bf69_685b35c66d69row5_col8\" class=\"data row5 col8\" >3</td> \n",
       "        <td id=\"T_79d81200_726c_11e8_bf69_685b35c66d69row5_col9\" class=\"data row5 col9\" >2.03562</td> \n",
       "        <td id=\"T_79d81200_726c_11e8_bf69_685b35c66d69row5_col10\" class=\"data row5 col10\" >0.338715</td> \n",
       "        <td id=\"T_79d81200_726c_11e8_bf69_685b35c66d69row5_col11\" class=\"data row5 col11\" >1.33377</td> \n",
       "        <td id=\"T_79d81200_726c_11e8_bf69_685b35c66d69row5_col12\" class=\"data row5 col12\" >1.05725</td> \n",
       "        <td id=\"T_79d81200_726c_11e8_bf69_685b35c66d69row5_col13\" class=\"data row5 col13\" >0.641084</td> \n",
       "        <td id=\"T_79d81200_726c_11e8_bf69_685b35c66d69row5_col14\" class=\"data row5 col14\" >0.767485</td> \n",
       "        <td id=\"T_79d81200_726c_11e8_bf69_685b35c66d69row5_col15\" class=\"data row5 col15\" >0.534395</td> \n",
       "        <td id=\"T_79d81200_726c_11e8_bf69_685b35c66d69row5_col16\" class=\"data row5 col16\" >1.01984</td> \n",
       "        <td id=\"T_79d81200_726c_11e8_bf69_685b35c66d69row5_col17\" class=\"data row5 col17\" >0.703575</td> \n",
       "        <td id=\"T_79d81200_726c_11e8_bf69_685b35c66d69row5_col18\" class=\"data row5 col18\" >1.11286</td> \n",
       "        <td id=\"T_79d81200_726c_11e8_bf69_685b35c66d69row5_col19\" class=\"data row5 col19\" >Pyramides</td> \n",
       "        <td id=\"T_79d81200_726c_11e8_bf69_685b35c66d69row5_col20\" class=\"data row5 col20\" >0.179079</td> \n",
       "        <td id=\"T_79d81200_726c_11e8_bf69_685b35c66d69row5_col21\" class=\"data row5 col21\" >Palais-Royal (Musée du Louvre)</td> \n",
       "        <td id=\"T_79d81200_726c_11e8_bf69_685b35c66d69row5_col22\" class=\"data row5 col22\" >0.186416</td> \n",
       "        <td id=\"T_79d81200_726c_11e8_bf69_685b35c66d69row5_col23\" class=\"data row5 col23\" >Pyramides</td> \n",
       "        <td id=\"T_79d81200_726c_11e8_bf69_685b35c66d69row5_col24\" class=\"data row5 col24\" >0.188924</td> \n",
       "        <td id=\"T_79d81200_726c_11e8_bf69_685b35c66d69row5_col25\" class=\"data row5 col25\" >Bourse</td> \n",
       "        <td id=\"T_79d81200_726c_11e8_bf69_685b35c66d69row5_col26\" class=\"data row5 col26\" >0.257117</td> \n",
       "        <td id=\"T_79d81200_726c_11e8_bf69_685b35c66d69row5_col27\" class=\"data row5 col27\" >Louvre-Rivoli</td> \n",
       "        <td id=\"T_79d81200_726c_11e8_bf69_685b35c66d69row5_col28\" class=\"data row5 col28\" >0.347106</td> \n",
       "        <td id=\"T_79d81200_726c_11e8_bf69_685b35c66d69row5_col29\" class=\"data row5 col29\" >48.865496179677024</td> \n",
       "        <td id=\"T_79d81200_726c_11e8_bf69_685b35c66d69row5_col30\" class=\"data row5 col30\" >2.3379621719063404</td> \n",
       "    </tr>    <tr> \n",
       "        <th id=\"T_79d81200_726c_11e8_bf69_685b35c66d69\" class=\"row_heading level0 row6\" >6</th> \n",
       "        <td id=\"T_79d81200_726c_11e8_bf69_685b35c66d69row6_col0\" class=\"data row6 col0\" >Property16052249</td> \n",
       "        <td id=\"T_79d81200_726c_11e8_bf69_685b35c66d69row6_col1\" class=\"data row6 col1\" >2</td> \n",
       "        <td id=\"T_79d81200_726c_11e8_bf69_685b35c66d69row6_col2\" class=\"data row6 col2\" >Bourse</td> \n",
       "        <td id=\"T_79d81200_726c_11e8_bf69_685b35c66d69row6_col3\" class=\"data row6 col3\" >55</td> \n",
       "        <td id=\"T_79d81200_726c_11e8_bf69_685b35c66d69row6_col4\" class=\"data row6 col4\" >strict</td> \n",
       "        <td id=\"T_79d81200_726c_11e8_bf69_685b35c66d69row6_col5\" class=\"data row6 col5\" >Le Marais</td> \n",
       "        <td id=\"T_79d81200_726c_11e8_bf69_685b35c66d69row6_col6\" class=\"data row6 col6\" >0.600863</td> \n",
       "        <td id=\"T_79d81200_726c_11e8_bf69_685b35c66d69row6_col7\" class=\"data row6 col7\" >5</td> \n",
       "        <td id=\"T_79d81200_726c_11e8_bf69_685b35c66d69row6_col8\" class=\"data row6 col8\" >3</td> \n",
       "        <td id=\"T_79d81200_726c_11e8_bf69_685b35c66d69row6_col9\" class=\"data row6 col9\" >2.55661</td> \n",
       "        <td id=\"T_79d81200_726c_11e8_bf69_685b35c66d69row6_col10\" class=\"data row6 col10\" >0.635784</td> \n",
       "        <td id=\"T_79d81200_726c_11e8_bf69_685b35c66d69row6_col11\" class=\"data row6 col11\" >1.42506</td> \n",
       "        <td id=\"T_79d81200_726c_11e8_bf69_685b35c66d69row6_col12\" class=\"data row6 col12\" >0.600863</td> \n",
       "        <td id=\"T_79d81200_726c_11e8_bf69_685b35c66d69row6_col13\" class=\"data row6 col13\" >1.11222</td> \n",
       "        <td id=\"T_79d81200_726c_11e8_bf69_685b35c66d69row6_col14\" class=\"data row6 col14\" >0.703758</td> \n",
       "        <td id=\"T_79d81200_726c_11e8_bf69_685b35c66d69row6_col15\" class=\"data row6 col15\" >0.956175</td> \n",
       "        <td id=\"T_79d81200_726c_11e8_bf69_685b35c66d69row6_col16\" class=\"data row6 col16\" >0.834661</td> \n",
       "        <td id=\"T_79d81200_726c_11e8_bf69_685b35c66d69row6_col17\" class=\"data row6 col17\" >1.23579</td> \n",
       "        <td id=\"T_79d81200_726c_11e8_bf69_685b35c66d69row6_col18\" class=\"data row6 col18\" >1.64828</td> \n",
       "        <td id=\"T_79d81200_726c_11e8_bf69_685b35c66d69row6_col19\" class=\"data row6 col19\" >Etienne Marcel</td> \n",
       "        <td id=\"T_79d81200_726c_11e8_bf69_685b35c66d69row6_col20\" class=\"data row6 col20\" >0.101911</td> \n",
       "        <td id=\"T_79d81200_726c_11e8_bf69_685b35c66d69row6_col21\" class=\"data row6 col21\" >Réaumur-Sébastopol</td> \n",
       "        <td id=\"T_79d81200_726c_11e8_bf69_685b35c66d69row6_col22\" class=\"data row6 col22\" >0.146928</td> \n",
       "        <td id=\"T_79d81200_726c_11e8_bf69_685b35c66d69row6_col23\" class=\"data row6 col23\" >Sentier</td> \n",
       "        <td id=\"T_79d81200_726c_11e8_bf69_685b35c66d69row6_col24\" class=\"data row6 col24\" >0.187308</td> \n",
       "        <td id=\"T_79d81200_726c_11e8_bf69_685b35c66d69row6_col25\" class=\"data row6 col25\" >Les Halles</td> \n",
       "        <td id=\"T_79d81200_726c_11e8_bf69_685b35c66d69row6_col26\" class=\"data row6 col26\" >0.26074</td> \n",
       "        <td id=\"T_79d81200_726c_11e8_bf69_685b35c66d69row6_col27\" class=\"data row6 col27\" >Arts-et-Métiers</td> \n",
       "        <td id=\"T_79d81200_726c_11e8_bf69_685b35c66d69row6_col28\" class=\"data row6 col28\" >0.287805</td> \n",
       "        <td id=\"T_79d81200_726c_11e8_bf69_685b35c66d69row6_col29\" class=\"data row6 col29\" >48.865079330323425</td> \n",
       "        <td id=\"T_79d81200_726c_11e8_bf69_685b35c66d69row6_col30\" class=\"data row6 col30\" >2.3498173130555724</td> \n",
       "    </tr>    <tr> \n",
       "        <th id=\"T_79d81200_726c_11e8_bf69_685b35c66d69\" class=\"row_heading level0 row7\" >7</th> \n",
       "        <td id=\"T_79d81200_726c_11e8_bf69_685b35c66d69row7_col0\" class=\"data row7 col0\" >Property15563015</td> \n",
       "        <td id=\"T_79d81200_726c_11e8_bf69_685b35c66d69row7_col1\" class=\"data row7 col1\" >2</td> \n",
       "        <td id=\"T_79d81200_726c_11e8_bf69_685b35c66d69row7_col2\" class=\"data row7 col2\" >Bourse</td> \n",
       "        <td id=\"T_79d81200_726c_11e8_bf69_685b35c66d69row7_col3\" class=\"data row7 col3\" >69</td> \n",
       "        <td id=\"T_79d81200_726c_11e8_bf69_685b35c66d69row7_col4\" class=\"data row7 col4\" >strict</td> \n",
       "        <td id=\"T_79d81200_726c_11e8_bf69_685b35c66d69row7_col5\" class=\"data row7 col5\" >Le Marais</td> \n",
       "        <td id=\"T_79d81200_726c_11e8_bf69_685b35c66d69row7_col6\" class=\"data row7 col6\" >0.785244</td> \n",
       "        <td id=\"T_79d81200_726c_11e8_bf69_685b35c66d69row7_col7\" class=\"data row7 col7\" >4</td> \n",
       "        <td id=\"T_79d81200_726c_11e8_bf69_685b35c66d69row7_col8\" class=\"data row7 col8\" >3</td> \n",
       "        <td id=\"T_79d81200_726c_11e8_bf69_685b35c66d69row7_col9\" class=\"data row7 col9\" >2.70245</td> \n",
       "        <td id=\"T_79d81200_726c_11e8_bf69_685b35c66d69row7_col10\" class=\"data row7 col10\" >0.867506</td> \n",
       "        <td id=\"T_79d81200_726c_11e8_bf69_685b35c66d69row7_col11\" class=\"data row7 col11\" >1.71164</td> \n",
       "        <td id=\"T_79d81200_726c_11e8_bf69_685b35c66d69row7_col12\" class=\"data row7 col12\" >0.785244</td> \n",
       "        <td id=\"T_79d81200_726c_11e8_bf69_685b35c66d69row7_col13\" class=\"data row7 col13\" >1.30144</td> \n",
       "        <td id=\"T_79d81200_726c_11e8_bf69_685b35c66d69row7_col14\" class=\"data row7 col14\" >0.991827</td> \n",
       "        <td id=\"T_79d81200_726c_11e8_bf69_685b35c66d69row7_col15\" class=\"data row7 col15\" >0.93589</td> \n",
       "        <td id=\"T_79d81200_726c_11e8_bf69_685b35c66d69row7_col16\" class=\"data row7 col16\" >1.11274</td> \n",
       "        <td id=\"T_79d81200_726c_11e8_bf69_685b35c66d69row7_col17\" class=\"data row7 col17\" >1.36739</td> \n",
       "        <td id=\"T_79d81200_726c_11e8_bf69_685b35c66d69row7_col18\" class=\"data row7 col18\" >1.76814</td> \n",
       "        <td id=\"T_79d81200_726c_11e8_bf69_685b35c66d69row7_col19\" class=\"data row7 col19\" >Strasbourg-Saint-Denis</td> \n",
       "        <td id=\"T_79d81200_726c_11e8_bf69_685b35c66d69row7_col20\" class=\"data row7 col20\" >0.133311</td> \n",
       "        <td id=\"T_79d81200_726c_11e8_bf69_685b35c66d69row7_col21\" class=\"data row7 col21\" >Bonne Nouvelle</td> \n",
       "        <td id=\"T_79d81200_726c_11e8_bf69_685b35c66d69row7_col22\" class=\"data row7 col22\" >0.179496</td> \n",
       "        <td id=\"T_79d81200_726c_11e8_bf69_685b35c66d69row7_col23\" class=\"data row7 col23\" >Réaumur-Sébastopol</td> \n",
       "        <td id=\"T_79d81200_726c_11e8_bf69_685b35c66d69row7_col24\" class=\"data row7 col24\" >0.195368</td> \n",
       "        <td id=\"T_79d81200_726c_11e8_bf69_685b35c66d69row7_col25\" class=\"data row7 col25\" >Sentier</td> \n",
       "        <td id=\"T_79d81200_726c_11e8_bf69_685b35c66d69row7_col26\" class=\"data row7 col26\" >0.221946</td> \n",
       "        <td id=\"T_79d81200_726c_11e8_bf69_685b35c66d69row7_col27\" class=\"data row7 col27\" >Arts-et-Métiers</td> \n",
       "        <td id=\"T_79d81200_726c_11e8_bf69_685b35c66d69row7_col28\" class=\"data row7 col28\" >0.314485</td> \n",
       "        <td id=\"T_79d81200_726c_11e8_bf69_685b35c66d69row7_col29\" class=\"data row7 col29\" >48.86906032099319</td> \n",
       "        <td id=\"T_79d81200_726c_11e8_bf69_685b35c66d69row7_col30\" class=\"data row7 col30\" >2.3517008654862743</td> \n",
       "    </tr>    <tr> \n",
       "        <th id=\"T_79d81200_726c_11e8_bf69_685b35c66d69\" class=\"row_heading level0 row8\" >8</th> \n",
       "        <td id=\"T_79d81200_726c_11e8_bf69_685b35c66d69row8_col0\" class=\"data row8 col0\" >Property10347142</td> \n",
       "        <td id=\"T_79d81200_726c_11e8_bf69_685b35c66d69row8_col1\" class=\"data row8 col1\" >3</td> \n",
       "        <td id=\"T_79d81200_726c_11e8_bf69_685b35c66d69row8_col2\" class=\"data row8 col2\" >Temple</td> \n",
       "        <td id=\"T_79d81200_726c_11e8_bf69_685b35c66d69row8_col3\" class=\"data row8 col3\" >55</td> \n",
       "        <td id=\"T_79d81200_726c_11e8_bf69_685b35c66d69row8_col4\" class=\"data row8 col4\" >moderate</td> \n",
       "        <td id=\"T_79d81200_726c_11e8_bf69_685b35c66d69row8_col5\" class=\"data row8 col5\" >Le Marais</td> \n",
       "        <td id=\"T_79d81200_726c_11e8_bf69_685b35c66d69row8_col6\" class=\"data row8 col6\" >0.428041</td> \n",
       "        <td id=\"T_79d81200_726c_11e8_bf69_685b35c66d69row8_col7\" class=\"data row8 col7\" >4</td> \n",
       "        <td id=\"T_79d81200_726c_11e8_bf69_685b35c66d69row8_col8\" class=\"data row8 col8\" >3</td> \n",
       "        <td id=\"T_79d81200_726c_11e8_bf69_685b35c66d69row8_col9\" class=\"data row8 col9\" >2.71693</td> \n",
       "        <td id=\"T_79d81200_726c_11e8_bf69_685b35c66d69row8_col10\" class=\"data row8 col10\" >0.765681</td> \n",
       "        <td id=\"T_79d81200_726c_11e8_bf69_685b35c66d69row8_col11\" class=\"data row8 col11\" >1.43423</td> \n",
       "        <td id=\"T_79d81200_726c_11e8_bf69_685b35c66d69row8_col12\" class=\"data row8 col12\" >0.428041</td> \n",
       "        <td id=\"T_79d81200_726c_11e8_bf69_685b35c66d69row8_col13\" class=\"data row8 col13\" >1.26014</td> \n",
       "        <td id=\"T_79d81200_726c_11e8_bf69_685b35c66d69row8_col14\" class=\"data row8 col14\" >0.707518</td> \n",
       "        <td id=\"T_79d81200_726c_11e8_bf69_685b35c66d69row8_col15\" class=\"data row8 col15\" >1.14914</td> \n",
       "        <td id=\"T_79d81200_726c_11e8_bf69_685b35c66d69row8_col16\" class=\"data row8 col16\" >0.772453</td> \n",
       "        <td id=\"T_79d81200_726c_11e8_bf69_685b35c66d69row8_col17\" class=\"data row8 col17\" >1.40825</td> \n",
       "        <td id=\"T_79d81200_726c_11e8_bf69_685b35c66d69row8_col18\" class=\"data row8 col18\" >1.82188</td> \n",
       "        <td id=\"T_79d81200_726c_11e8_bf69_685b35c66d69row8_col19\" class=\"data row8 col19\" >Arts-et-Métiers</td> \n",
       "        <td id=\"T_79d81200_726c_11e8_bf69_685b35c66d69row8_col20\" class=\"data row8 col20\" >0.158819</td> \n",
       "        <td id=\"T_79d81200_726c_11e8_bf69_685b35c66d69row8_col21\" class=\"data row8 col21\" >Réaumur-Sébastopol</td> \n",
       "        <td id=\"T_79d81200_726c_11e8_bf69_685b35c66d69row8_col22\" class=\"data row8 col22\" >0.173283</td> \n",
       "        <td id=\"T_79d81200_726c_11e8_bf69_685b35c66d69row8_col23\" class=\"data row8 col23\" >Rambuteau</td> \n",
       "        <td id=\"T_79d81200_726c_11e8_bf69_685b35c66d69row8_col24\" class=\"data row8 col24\" >0.187806</td> \n",
       "        <td id=\"T_79d81200_726c_11e8_bf69_685b35c66d69row8_col25\" class=\"data row8 col25\" >Etienne Marcel</td> \n",
       "        <td id=\"T_79d81200_726c_11e8_bf69_685b35c66d69row8_col26\" class=\"data row8 col26\" >0.213903</td> \n",
       "        <td id=\"T_79d81200_726c_11e8_bf69_685b35c66d69row8_col27\" class=\"data row8 col27\" >Châtelet-Les Halles</td> \n",
       "        <td id=\"T_79d81200_726c_11e8_bf69_685b35c66d69row8_col28\" class=\"data row8 col28\" >0.353382</td> \n",
       "        <td id=\"T_79d81200_726c_11e8_bf69_685b35c66d69row8_col29\" class=\"data row8 col29\" >48.8638989955195</td> \n",
       "        <td id=\"T_79d81200_726c_11e8_bf69_685b35c66d69row8_col30\" class=\"data row8 col30\" >2.3536801577761324</td> \n",
       "    </tr>    <tr> \n",
       "        <th id=\"T_79d81200_726c_11e8_bf69_685b35c66d69\" class=\"row_heading level0 row9\" >9</th> \n",
       "        <td id=\"T_79d81200_726c_11e8_bf69_685b35c66d69row9_col0\" class=\"data row9 col0\" >Property4280862</td> \n",
       "        <td id=\"T_79d81200_726c_11e8_bf69_685b35c66d69row9_col1\" class=\"data row9 col1\" >5</td> \n",
       "        <td id=\"T_79d81200_726c_11e8_bf69_685b35c66d69row9_col2\" class=\"data row9 col2\" >Pantheon</td> \n",
       "        <td id=\"T_79d81200_726c_11e8_bf69_685b35c66d69row9_col3\" class=\"data row9 col3\" >79</td> \n",
       "        <td id=\"T_79d81200_726c_11e8_bf69_685b35c66d69row9_col4\" class=\"data row9 col4\" >flexible</td> \n",
       "        <td id=\"T_79d81200_726c_11e8_bf69_685b35c66d69row9_col5\" class=\"data row9 col5\" >Notre Dame Cathedral</td> \n",
       "        <td id=\"T_79d81200_726c_11e8_bf69_685b35c66d69row9_col6\" class=\"data row9 col6\" >0.530646</td> \n",
       "        <td id=\"T_79d81200_726c_11e8_bf69_685b35c66d69row9_col7\" class=\"data row9 col7\" >4</td> \n",
       "        <td id=\"T_79d81200_726c_11e8_bf69_685b35c66d69row9_col8\" class=\"data row9 col8\" >3</td> \n",
       "        <td id=\"T_79d81200_726c_11e8_bf69_685b35c66d69row9_col9\" class=\"data row9 col9\" >2.70487</td> \n",
       "        <td id=\"T_79d81200_726c_11e8_bf69_685b35c66d69row9_col10\" class=\"data row9 col10\" >1.20872</td> \n",
       "        <td id=\"T_79d81200_726c_11e8_bf69_685b35c66d69row9_col11\" class=\"data row9 col11\" >0.611314</td> \n",
       "        <td id=\"T_79d81200_726c_11e8_bf69_685b35c66d69row9_col12\" class=\"data row9 col12\" >0.996372</td> \n",
       "        <td id=\"T_79d81200_726c_11e8_bf69_685b35c66d69row9_col13\" class=\"data row9 col13\" >1.4885</td> \n",
       "        <td id=\"T_79d81200_726c_11e8_bf69_685b35c66d69row9_col14\" class=\"data row9 col14\" >0.740392</td> \n",
       "        <td id=\"T_79d81200_726c_11e8_bf69_685b35c66d69row9_col15\" class=\"data row9 col15\" >2.0346</td> \n",
       "        <td id=\"T_79d81200_726c_11e8_bf69_685b35c66d69row9_col16\" class=\"data row9 col16\" >0.530646</td> \n",
       "        <td id=\"T_79d81200_726c_11e8_bf69_685b35c66d69row9_col17\" class=\"data row9 col17\" >1.79854</td> \n",
       "        <td id=\"T_79d81200_726c_11e8_bf69_685b35c66d69row9_col18\" class=\"data row9 col18\" >2.1148</td> \n",
       "        <td id=\"T_79d81200_726c_11e8_bf69_685b35c66d69row9_col19\" class=\"data row9 col19\" >Cardinal-Lemoine</td> \n",
       "        <td id=\"T_79d81200_726c_11e8_bf69_685b35c66d69row9_col20\" class=\"data row9 col20\" >0.100877</td> \n",
       "        <td id=\"T_79d81200_726c_11e8_bf69_685b35c66d69row9_col21\" class=\"data row9 col21\" >Place Monge (Jardin des Plantes)</td> \n",
       "        <td id=\"T_79d81200_726c_11e8_bf69_685b35c66d69row9_col22\" class=\"data row9 col22\" >0.165242</td> \n",
       "        <td id=\"T_79d81200_726c_11e8_bf69_685b35c66d69row9_col23\" class=\"data row9 col23\" >Jussieu</td> \n",
       "        <td id=\"T_79d81200_726c_11e8_bf69_685b35c66d69row9_col24\" class=\"data row9 col24\" >0.197219</td> \n",
       "        <td id=\"T_79d81200_726c_11e8_bf69_685b35c66d69row9_col25\" class=\"data row9 col25\" >Maubert-Mutualité</td> \n",
       "        <td id=\"T_79d81200_726c_11e8_bf69_685b35c66d69row9_col26\" class=\"data row9 col26\" >0.312084</td> \n",
       "        <td id=\"T_79d81200_726c_11e8_bf69_685b35c66d69row9_col27\" class=\"data row9 col27\" >Cluny-La Sorbonne</td> \n",
       "        <td id=\"T_79d81200_726c_11e8_bf69_685b35c66d69row9_col28\" class=\"data row9 col28\" >0.453983</td> \n",
       "        <td id=\"T_79d81200_726c_11e8_bf69_685b35c66d69row9_col29\" class=\"data row9 col29\" >48.84533334631346</td> \n",
       "        <td id=\"T_79d81200_726c_11e8_bf69_685b35c66d69row9_col30\" class=\"data row9 col30\" >2.350578985809922</td> \n",
       "    </tr>    <tr> \n",
       "        <th id=\"T_79d81200_726c_11e8_bf69_685b35c66d69\" class=\"row_heading level0 row10\" >10</th> \n",
       "        <td id=\"T_79d81200_726c_11e8_bf69_685b35c66d69row10_col0\" class=\"data row10 col0\" >Property3417376</td> \n",
       "        <td id=\"T_79d81200_726c_11e8_bf69_685b35c66d69row10_col1\" class=\"data row10 col1\" >5</td> \n",
       "        <td id=\"T_79d81200_726c_11e8_bf69_685b35c66d69row10_col2\" class=\"data row10 col2\" >Pantheon</td> \n",
       "        <td id=\"T_79d81200_726c_11e8_bf69_685b35c66d69row10_col3\" class=\"data row10 col3\" >75</td> \n",
       "        <td id=\"T_79d81200_726c_11e8_bf69_685b35c66d69row10_col4\" class=\"data row10 col4\" >strict</td> \n",
       "        <td id=\"T_79d81200_726c_11e8_bf69_685b35c66d69row10_col5\" class=\"data row10 col5\" >Notre Dame Cathedral</td> \n",
       "        <td id=\"T_79d81200_726c_11e8_bf69_685b35c66d69row10_col6\" class=\"data row10 col6\" >0.562638</td> \n",
       "        <td id=\"T_79d81200_726c_11e8_bf69_685b35c66d69row10_col7\" class=\"data row10 col7\" >4</td> \n",
       "        <td id=\"T_79d81200_726c_11e8_bf69_685b35c66d69row10_col8\" class=\"data row10 col8\" >3</td> \n",
       "        <td id=\"T_79d81200_726c_11e8_bf69_685b35c66d69row10_col9\" class=\"data row10 col9\" >2.86828</td> \n",
       "        <td id=\"T_79d81200_726c_11e8_bf69_685b35c66d69row10_col10\" class=\"data row10 col10\" >1.29811</td> \n",
       "        <td id=\"T_79d81200_726c_11e8_bf69_685b35c66d69row10_col11\" class=\"data row10 col11\" >0.784981</td> \n",
       "        <td id=\"T_79d81200_726c_11e8_bf69_685b35c66d69row10_col12\" class=\"data row10 col12\" >0.938917</td> \n",
       "        <td id=\"T_79d81200_726c_11e8_bf69_685b35c66d69row10_col13\" class=\"data row10 col13\" >1.61709</td> \n",
       "        <td id=\"T_79d81200_726c_11e8_bf69_685b35c66d69row10_col14\" class=\"data row10 col14\" >0.811799</td> \n",
       "        <td id=\"T_79d81200_726c_11e8_bf69_685b35c66d69row10_col15\" class=\"data row10 col15\" >2.10937</td> \n",
       "        <td id=\"T_79d81200_726c_11e8_bf69_685b35c66d69row10_col16\" class=\"data row10 col16\" >0.562638</td> \n",
       "        <td id=\"T_79d81200_726c_11e8_bf69_685b35c66d69row10_col17\" class=\"data row10 col17\" >1.92168</td> \n",
       "        <td id=\"T_79d81200_726c_11e8_bf69_685b35c66d69row10_col18\" class=\"data row10 col18\" >2.25277</td> \n",
       "        <td id=\"T_79d81200_726c_11e8_bf69_685b35c66d69row10_col19\" class=\"data row10 col19\" >Jussieu</td> \n",
       "        <td id=\"T_79d81200_726c_11e8_bf69_685b35c66d69row10_col20\" class=\"data row10 col20\" >0.0417095</td> \n",
       "        <td id=\"T_79d81200_726c_11e8_bf69_685b35c66d69row10_col21\" class=\"data row10 col21\" >Cardinal-Lemoine</td> \n",
       "        <td id=\"T_79d81200_726c_11e8_bf69_685b35c66d69row10_col22\" class=\"data row10 col22\" >0.166106</td> \n",
       "        <td id=\"T_79d81200_726c_11e8_bf69_685b35c66d69row10_col23\" class=\"data row10 col23\" >Place Monge (Jardin des Plantes)</td> \n",
       "        <td id=\"T_79d81200_726c_11e8_bf69_685b35c66d69row10_col24\" class=\"data row10 col24\" >0.188015</td> \n",
       "        <td id=\"T_79d81200_726c_11e8_bf69_685b35c66d69row10_col25\" class=\"data row10 col25\" >Censier-Daubenton</td> \n",
       "        <td id=\"T_79d81200_726c_11e8_bf69_685b35c66d69row10_col26\" class=\"data row10 col26\" >0.354849</td> \n",
       "        <td id=\"T_79d81200_726c_11e8_bf69_685b35c66d69row10_col27\" class=\"data row10 col27\" >Gare d'Austerlitz</td> \n",
       "        <td id=\"T_79d81200_726c_11e8_bf69_685b35c66d69row10_col28\" class=\"data row10 col28\" >0.465241</td> \n",
       "        <td id=\"T_79d81200_726c_11e8_bf69_685b35c66d69row10_col29\" class=\"data row10 col29\" >48.84542057425174</td> \n",
       "        <td id=\"T_79d81200_726c_11e8_bf69_685b35c66d69row10_col30\" class=\"data row10 col30\" >2.3544221668485257</td> \n",
       "    </tr>    <tr> \n",
       "        <th id=\"T_79d81200_726c_11e8_bf69_685b35c66d69\" class=\"row_heading level0 row11\" >11</th> \n",
       "        <td id=\"T_79d81200_726c_11e8_bf69_685b35c66d69row11_col0\" class=\"data row11 col0\" >Property12457244</td> \n",
       "        <td id=\"T_79d81200_726c_11e8_bf69_685b35c66d69row11_col1\" class=\"data row11 col1\" >2</td> \n",
       "        <td id=\"T_79d81200_726c_11e8_bf69_685b35c66d69row11_col2\" class=\"data row11 col2\" >Bourse</td> \n",
       "        <td id=\"T_79d81200_726c_11e8_bf69_685b35c66d69row11_col3\" class=\"data row11 col3\" >47</td> \n",
       "        <td id=\"T_79d81200_726c_11e8_bf69_685b35c66d69row11_col4\" class=\"data row11 col4\" >strict</td> \n",
       "        <td id=\"T_79d81200_726c_11e8_bf69_685b35c66d69row11_col5\" class=\"data row11 col5\" >Le Marais</td> \n",
       "        <td id=\"T_79d81200_726c_11e8_bf69_685b35c66d69row11_col6\" class=\"data row11 col6\" >0.769881</td> \n",
       "        <td id=\"T_79d81200_726c_11e8_bf69_685b35c66d69row11_col7\" class=\"data row11 col7\" >4</td> \n",
       "        <td id=\"T_79d81200_726c_11e8_bf69_685b35c66d69row11_col8\" class=\"data row11 col8\" >3</td> \n",
       "        <td id=\"T_79d81200_726c_11e8_bf69_685b35c66d69row11_col9\" class=\"data row11 col9\" >2.63397</td> \n",
       "        <td id=\"T_79d81200_726c_11e8_bf69_685b35c66d69row11_col10\" class=\"data row11 col10\" >0.793074</td> \n",
       "        <td id=\"T_79d81200_726c_11e8_bf69_685b35c66d69row11_col11\" class=\"data row11 col11\" >1.64648</td> \n",
       "        <td id=\"T_79d81200_726c_11e8_bf69_685b35c66d69row11_col12\" class=\"data row11 col12\" >0.769881</td> \n",
       "        <td id=\"T_79d81200_726c_11e8_bf69_685b35c66d69row11_col13\" class=\"data row11 col13\" >1.22807</td> \n",
       "        <td id=\"T_79d81200_726c_11e8_bf69_685b35c66d69row11_col14\" class=\"data row11 col14\" >0.930375</td> \n",
       "        <td id=\"T_79d81200_726c_11e8_bf69_685b35c66d69row11_col15\" class=\"data row11 col15\" >0.891236</td> \n",
       "        <td id=\"T_79d81200_726c_11e8_bf69_685b35c66d69row11_col16\" class=\"data row11 col16\" >1.06323</td> \n",
       "        <td id=\"T_79d81200_726c_11e8_bf69_685b35c66d69row11_col17\" class=\"data row11 col17\" >1.29929</td> \n",
       "        <td id=\"T_79d81200_726c_11e8_bf69_685b35c66d69row11_col18\" class=\"data row11 col18\" >1.70215</td> \n",
       "        <td id=\"T_79d81200_726c_11e8_bf69_685b35c66d69row11_col19\" class=\"data row11 col19\" >Sentier</td> \n",
       "        <td id=\"T_79d81200_726c_11e8_bf69_685b35c66d69row11_col20\" class=\"data row11 col20\" >0.148118</td> \n",
       "        <td id=\"T_79d81200_726c_11e8_bf69_685b35c66d69row11_col21\" class=\"data row11 col21\" >Réaumur-Sébastopol</td> \n",
       "        <td id=\"T_79d81200_726c_11e8_bf69_685b35c66d69row11_col22\" class=\"data row11 col22\" >0.172932</td> \n",
       "        <td id=\"T_79d81200_726c_11e8_bf69_685b35c66d69row11_col23\" class=\"data row11 col23\" >Bonne Nouvelle</td> \n",
       "        <td id=\"T_79d81200_726c_11e8_bf69_685b35c66d69row11_col24\" class=\"data row11 col24\" >0.175063</td> \n",
       "        <td id=\"T_79d81200_726c_11e8_bf69_685b35c66d69row11_col25\" class=\"data row11 col25\" >Strasbourg-Saint-Denis</td> \n",
       "        <td id=\"T_79d81200_726c_11e8_bf69_685b35c66d69row11_col26\" class=\"data row11 col26\" >0.204516</td> \n",
       "        <td id=\"T_79d81200_726c_11e8_bf69_685b35c66d69row11_col27\" class=\"data row11 col27\" >Etienne Marcel</td> \n",
       "        <td id=\"T_79d81200_726c_11e8_bf69_685b35c66d69row11_col28\" class=\"data row11 col28\" >0.329465</td> \n",
       "        <td id=\"T_79d81200_726c_11e8_bf69_685b35c66d69row11_col29\" class=\"data row11 col29\" >48.86838348741441</td> \n",
       "        <td id=\"T_79d81200_726c_11e8_bf69_685b35c66d69row11_col30\" class=\"data row11 col30\" >2.350422515519698</td> \n",
       "    </tr>    <tr> \n",
       "        <th id=\"T_79d81200_726c_11e8_bf69_685b35c66d69\" class=\"row_heading level0 row12\" >12</th> \n",
       "        <td id=\"T_79d81200_726c_11e8_bf69_685b35c66d69row12_col0\" class=\"data row12 col0\" >Property13698175</td> \n",
       "        <td id=\"T_79d81200_726c_11e8_bf69_685b35c66d69row12_col1\" class=\"data row12 col1\" >9</td> \n",
       "        <td id=\"T_79d81200_726c_11e8_bf69_685b35c66d69row12_col2\" class=\"data row12 col2\" >Opera</td> \n",
       "        <td id=\"T_79d81200_726c_11e8_bf69_685b35c66d69row12_col3\" class=\"data row12 col3\" >60</td> \n",
       "        <td id=\"T_79d81200_726c_11e8_bf69_685b35c66d69row12_col4\" class=\"data row12 col4\" >flexible</td> \n",
       "        <td id=\"T_79d81200_726c_11e8_bf69_685b35c66d69row12_col5\" class=\"data row12 col5\" >Palais Garnier - Opera</td> \n",
       "        <td id=\"T_79d81200_726c_11e8_bf69_685b35c66d69row12_col6\" class=\"data row12 col6\" >0.401306</td> \n",
       "        <td id=\"T_79d81200_726c_11e8_bf69_685b35c66d69row12_col7\" class=\"data row12 col7\" >2</td> \n",
       "        <td id=\"T_79d81200_726c_11e8_bf69_685b35c66d69row12_col8\" class=\"data row12 col8\" >3</td> \n",
       "        <td id=\"T_79d81200_726c_11e8_bf69_685b35c66d69row12_col9\" class=\"data row12 col9\" >2.03955</td> \n",
       "        <td id=\"T_79d81200_726c_11e8_bf69_685b35c66d69row12_col10\" class=\"data row12 col10\" >1.23489</td> \n",
       "        <td id=\"T_79d81200_726c_11e8_bf69_685b35c66d69row12_col11\" class=\"data row12 col11\" >2.1962</td> \n",
       "        <td id=\"T_79d81200_726c_11e8_bf69_685b35c66d69row12_col12\" class=\"data row12 col12\" >1.88539</td> \n",
       "        <td id=\"T_79d81200_726c_11e8_bf69_685b35c66d69row12_col13\" class=\"data row12 col13\" >1.21243</td> \n",
       "        <td id=\"T_79d81200_726c_11e8_bf69_685b35c66d69row12_col14\" class=\"data row12 col14\" >1.69628</td> \n",
       "        <td id=\"T_79d81200_726c_11e8_bf69_685b35c66d69row12_col15\" class=\"data row12 col15\" >0.401306</td> \n",
       "        <td id=\"T_79d81200_726c_11e8_bf69_685b35c66d69row12_col16\" class=\"data row12 col16\" >1.94688</td> \n",
       "        <td id=\"T_79d81200_726c_11e8_bf69_685b35c66d69row12_col17\" class=\"data row12 col17\" >0.984826</td> \n",
       "        <td id=\"T_79d81200_726c_11e8_bf69_685b35c66d69row12_col18\" class=\"data row12 col18\" >1.16377</td> \n",
       "        <td id=\"T_79d81200_726c_11e8_bf69_685b35c66d69row12_col19\" class=\"data row12 col19\" >Trinité-d'Estienne d'Orves</td> \n",
       "        <td id=\"T_79d81200_726c_11e8_bf69_685b35c66d69row12_col20\" class=\"data row12 col20\" >0.161415</td> \n",
       "        <td id=\"T_79d81200_726c_11e8_bf69_685b35c66d69row12_col21\" class=\"data row12 col21\" >Liège</td> \n",
       "        <td id=\"T_79d81200_726c_11e8_bf69_685b35c66d69row12_col22\" class=\"data row12 col22\" >0.164846</td> \n",
       "        <td id=\"T_79d81200_726c_11e8_bf69_685b35c66d69row12_col23\" class=\"data row12 col23\" >Saint-Lazare</td> \n",
       "        <td id=\"T_79d81200_726c_11e8_bf69_685b35c66d69row12_col24\" class=\"data row12 col24\" >0.189438</td> \n",
       "        <td id=\"T_79d81200_726c_11e8_bf69_685b35c66d69row12_col25\" class=\"data row12 col25\" >Havre-Caumartin</td> \n",
       "        <td id=\"T_79d81200_726c_11e8_bf69_685b35c66d69row12_col26\" class=\"data row12 col26\" >0.278621</td> \n",
       "        <td id=\"T_79d81200_726c_11e8_bf69_685b35c66d69row12_col27\" class=\"data row12 col27\" >Auber</td> \n",
       "        <td id=\"T_79d81200_726c_11e8_bf69_685b35c66d69row12_col28\" class=\"data row12 col28\" >0.34034</td> \n",
       "        <td id=\"T_79d81200_726c_11e8_bf69_685b35c66d69row12_col29\" class=\"data row12 col29\" >48.87749097439834</td> \n",
       "        <td id=\"T_79d81200_726c_11e8_bf69_685b35c66d69row12_col30\" class=\"data row12 col30\" >2.328723206710391</td> \n",
       "    </tr>    <tr> \n",
       "        <th id=\"T_79d81200_726c_11e8_bf69_685b35c66d69\" class=\"row_heading level0 row13\" >13</th> \n",
       "        <td id=\"T_79d81200_726c_11e8_bf69_685b35c66d69row13_col0\" class=\"data row13 col0\" >Property12692456</td> \n",
       "        <td id=\"T_79d81200_726c_11e8_bf69_685b35c66d69row13_col1\" class=\"data row13 col1\" >3</td> \n",
       "        <td id=\"T_79d81200_726c_11e8_bf69_685b35c66d69row13_col2\" class=\"data row13 col2\" >Temple</td> \n",
       "        <td id=\"T_79d81200_726c_11e8_bf69_685b35c66d69row13_col3\" class=\"data row13 col3\" >75</td> \n",
       "        <td id=\"T_79d81200_726c_11e8_bf69_685b35c66d69row13_col4\" class=\"data row13 col4\" >flexible</td> \n",
       "        <td id=\"T_79d81200_726c_11e8_bf69_685b35c66d69row13_col5\" class=\"data row13 col5\" >Le Marais</td> \n",
       "        <td id=\"T_79d81200_726c_11e8_bf69_685b35c66d69row13_col6\" class=\"data row13 col6\" >0.435665</td> \n",
       "        <td id=\"T_79d81200_726c_11e8_bf69_685b35c66d69row13_col7\" class=\"data row13 col7\" >2</td> \n",
       "        <td id=\"T_79d81200_726c_11e8_bf69_685b35c66d69row13_col8\" class=\"data row13 col8\" >3</td> \n",
       "        <td id=\"T_79d81200_726c_11e8_bf69_685b35c66d69row13_col9\" class=\"data row13 col9\" >3.27196</td> \n",
       "        <td id=\"T_79d81200_726c_11e8_bf69_685b35c66d69row13_col10\" class=\"data row13 col10\" >1.30725</td> \n",
       "        <td id=\"T_79d81200_726c_11e8_bf69_685b35c66d69row13_col11\" class=\"data row13 col11\" >1.74338</td> \n",
       "        <td id=\"T_79d81200_726c_11e8_bf69_685b35c66d69row13_col12\" class=\"data row13 col12\" >0.435665</td> \n",
       "        <td id=\"T_79d81200_726c_11e8_bf69_685b35c66d69row13_col13\" class=\"data row13 col13\" >1.80885</td> \n",
       "        <td id=\"T_79d81200_726c_11e8_bf69_685b35c66d69row13_col14\" class=\"data row13 col14\" >1.08762</td> \n",
       "        <td id=\"T_79d81200_726c_11e8_bf69_685b35c66d69row13_col15\" class=\"data row13 col15\" >1.69716</td> \n",
       "        <td id=\"T_79d81200_726c_11e8_bf69_685b35c66d69row13_col16\" class=\"data row13 col16\" >0.999556</td> \n",
       "        <td id=\"T_79d81200_726c_11e8_bf69_685b35c66d69row13_col17\" class=\"data row13 col17\" >1.97762</td> \n",
       "        <td id=\"T_79d81200_726c_11e8_bf69_685b35c66d69row13_col18\" class=\"data row13 col18\" >2.39126</td> \n",
       "        <td id=\"T_79d81200_726c_11e8_bf69_685b35c66d69row13_col19\" class=\"data row13 col19\" >Filles du Calvaire</td> \n",
       "        <td id=\"T_79d81200_726c_11e8_bf69_685b35c66d69row13_col20\" class=\"data row13 col20\" >0.0355519</td> \n",
       "        <td id=\"T_79d81200_726c_11e8_bf69_685b35c66d69row13_col21\" class=\"data row13 col21\" >Saint-Sébastien-Froissart</td> \n",
       "        <td id=\"T_79d81200_726c_11e8_bf69_685b35c66d69row13_col22\" class=\"data row13 col22\" >0.130711</td> \n",
       "        <td id=\"T_79d81200_726c_11e8_bf69_685b35c66d69row13_col23\" class=\"data row13 col23\" >Oberkampf</td> \n",
       "        <td id=\"T_79d81200_726c_11e8_bf69_685b35c66d69row13_col24\" class=\"data row13 col24\" >0.163804</td> \n",
       "        <td id=\"T_79d81200_726c_11e8_bf69_685b35c66d69row13_col25\" class=\"data row13 col25\" >Richard-Lenoir</td> \n",
       "        <td id=\"T_79d81200_726c_11e8_bf69_685b35c66d69row13_col26\" class=\"data row13 col26\" >0.316583</td> \n",
       "        <td id=\"T_79d81200_726c_11e8_bf69_685b35c66d69row13_col27\" class=\"data row13 col27\" >Temple</td> \n",
       "        <td id=\"T_79d81200_726c_11e8_bf69_685b35c66d69row13_col28\" class=\"data row13 col28\" >0.348769</td> \n",
       "        <td id=\"T_79d81200_726c_11e8_bf69_685b35c66d69row13_col29\" class=\"data row13 col29\" >48.86272626204382</td> \n",
       "        <td id=\"T_79d81200_726c_11e8_bf69_685b35c66d69row13_col30\" class=\"data row13 col30\" >2.366175270494713</td> \n",
       "    </tr>    <tr> \n",
       "        <th id=\"T_79d81200_726c_11e8_bf69_685b35c66d69\" class=\"row_heading level0 row14\" >14</th> \n",
       "        <td id=\"T_79d81200_726c_11e8_bf69_685b35c66d69row14_col0\" class=\"data row14 col0\" >Property147375</td> \n",
       "        <td id=\"T_79d81200_726c_11e8_bf69_685b35c66d69row14_col1\" class=\"data row14 col1\" >6</td> \n",
       "        <td id=\"T_79d81200_726c_11e8_bf69_685b35c66d69row14_col2\" class=\"data row14 col2\" >Luxembourg</td> \n",
       "        <td id=\"T_79d81200_726c_11e8_bf69_685b35c66d69row14_col3\" class=\"data row14 col3\" >80</td> \n",
       "        <td id=\"T_79d81200_726c_11e8_bf69_685b35c66d69row14_col4\" class=\"data row14 col4\" >moderate</td> \n",
       "        <td id=\"T_79d81200_726c_11e8_bf69_685b35c66d69row14_col5\" class=\"data row14 col5\" >Musee d'Orsay</td> \n",
       "        <td id=\"T_79d81200_726c_11e8_bf69_685b35c66d69row14_col6\" class=\"data row14 col6\" >0.473886</td> \n",
       "        <td id=\"T_79d81200_726c_11e8_bf69_685b35c66d69row14_col7\" class=\"data row14 col7\" >6</td> \n",
       "        <td id=\"T_79d81200_726c_11e8_bf69_685b35c66d69row14_col8\" class=\"data row14 col8\" >2</td> \n",
       "        <td id=\"T_79d81200_726c_11e8_bf69_685b35c66d69row14_col9\" class=\"data row14 col9\" >1.59464</td> \n",
       "        <td id=\"T_79d81200_726c_11e8_bf69_685b35c66d69row14_col10\" class=\"data row14 col10\" >0.647507</td> \n",
       "        <td id=\"T_79d81200_726c_11e8_bf69_685b35c66d69row14_col11\" class=\"data row14 col11\" >0.623538</td> \n",
       "        <td id=\"T_79d81200_726c_11e8_bf69_685b35c66d69row14_col12\" class=\"data row14 col12\" >1.41861</td> \n",
       "        <td id=\"T_79d81200_726c_11e8_bf69_685b35c66d69row14_col13\" class=\"data row14 col13\" >0.473886</td> \n",
       "        <td id=\"T_79d81200_726c_11e8_bf69_685b35c66d69row14_col14\" class=\"data row14 col14\" >0.755271</td> \n",
       "        <td id=\"T_79d81200_726c_11e8_bf69_685b35c66d69row14_col15\" class=\"data row14 col15\" >1.30001</td> \n",
       "        <td id=\"T_79d81200_726c_11e8_bf69_685b35c66d69row14_col16\" class=\"data row14 col16\" >0.963964</td> \n",
       "        <td id=\"T_79d81200_726c_11e8_bf69_685b35c66d69row14_col17\" class=\"data row14 col17\" >0.776259</td> \n",
       "        <td id=\"T_79d81200_726c_11e8_bf69_685b35c66d69row14_col18\" class=\"data row14 col18\" >1.00478</td> \n",
       "        <td id=\"T_79d81200_726c_11e8_bf69_685b35c66d69row14_col19\" class=\"data row14 col19\" >Saint-Sulpice</td> \n",
       "        <td id=\"T_79d81200_726c_11e8_bf69_685b35c66d69row14_col20\" class=\"data row14 col20\" >0.179876</td> \n",
       "        <td id=\"T_79d81200_726c_11e8_bf69_685b35c66d69row14_col21\" class=\"data row14 col21\" >Saint-Germain des Prés</td> \n",
       "        <td id=\"T_79d81200_726c_11e8_bf69_685b35c66d69row14_col22\" class=\"data row14 col22\" >0.197829</td> \n",
       "        <td id=\"T_79d81200_726c_11e8_bf69_685b35c66d69row14_col23\" class=\"data row14 col23\" >Sèvres-Babylone</td> \n",
       "        <td id=\"T_79d81200_726c_11e8_bf69_685b35c66d69row14_col24\" class=\"data row14 col24\" >0.200157</td> \n",
       "        <td id=\"T_79d81200_726c_11e8_bf69_685b35c66d69row14_col25\" class=\"data row14 col25\" >Rue du Bac</td> \n",
       "        <td id=\"T_79d81200_726c_11e8_bf69_685b35c66d69row14_col26\" class=\"data row14 col26\" >0.225961</td> \n",
       "        <td id=\"T_79d81200_726c_11e8_bf69_685b35c66d69row14_col27\" class=\"data row14 col27\" >Rennes</td> \n",
       "        <td id=\"T_79d81200_726c_11e8_bf69_685b35c66d69row14_col28\" class=\"data row14 col28\" >0.352686</td> \n",
       "        <td id=\"T_79d81200_726c_11e8_bf69_685b35c66d69row14_col29\" class=\"data row14 col29\" >48.85328271906996</td> \n",
       "        <td id=\"T_79d81200_726c_11e8_bf69_685b35c66d69row14_col30\" class=\"data row14 col30\" >2.3287023118678634</td> \n",
       "    </tr>    <tr> \n",
       "        <th id=\"T_79d81200_726c_11e8_bf69_685b35c66d69\" class=\"row_heading level0 row15\" >15</th> \n",
       "        <td id=\"T_79d81200_726c_11e8_bf69_685b35c66d69row15_col0\" class=\"data row15 col0\" >Property9190324</td> \n",
       "        <td id=\"T_79d81200_726c_11e8_bf69_685b35c66d69row15_col1\" class=\"data row15 col1\" >6</td> \n",
       "        <td id=\"T_79d81200_726c_11e8_bf69_685b35c66d69row15_col2\" class=\"data row15 col2\" >Luxembourg</td> \n",
       "        <td id=\"T_79d81200_726c_11e8_bf69_685b35c66d69row15_col3\" class=\"data row15 col3\" >85</td> \n",
       "        <td id=\"T_79d81200_726c_11e8_bf69_685b35c66d69row15_col4\" class=\"data row15 col4\" >flexible</td> \n",
       "        <td id=\"T_79d81200_726c_11e8_bf69_685b35c66d69row15_col5\" class=\"data row15 col5\" >Sainte-Chapelle</td> \n",
       "        <td id=\"T_79d81200_726c_11e8_bf69_685b35c66d69row15_col6\" class=\"data row15 col6\" >0.308646</td> \n",
       "        <td id=\"T_79d81200_726c_11e8_bf69_685b35c66d69row15_col7\" class=\"data row15 col7\" >6</td> \n",
       "        <td id=\"T_79d81200_726c_11e8_bf69_685b35c66d69row15_col8\" class=\"data row15 col8\" >2</td> \n",
       "        <td id=\"T_79d81200_726c_11e8_bf69_685b35c66d69row15_col9\" class=\"data row15 col9\" >2.05056</td> \n",
       "        <td id=\"T_79d81200_726c_11e8_bf69_685b35c66d69row15_col10\" class=\"data row15 col10\" >0.503227</td> \n",
       "        <td id=\"T_79d81200_726c_11e8_bf69_685b35c66d69row15_col11\" class=\"data row15 col11\" >0.501903</td> \n",
       "        <td id=\"T_79d81200_726c_11e8_bf69_685b35c66d69row15_col12\" class=\"data row15 col12\" >0.974589</td> \n",
       "        <td id=\"T_79d81200_726c_11e8_bf69_685b35c66d69row15_col13\" class=\"data row15 col13\" >0.724627</td> \n",
       "        <td id=\"T_79d81200_726c_11e8_bf69_685b35c66d69row15_col14\" class=\"data row15 col14\" >0.308646</td> \n",
       "        <td id=\"T_79d81200_726c_11e8_bf69_685b35c66d69row15_col15\" class=\"data row15 col15\" >1.32985</td> \n",
       "        <td id=\"T_79d81200_726c_11e8_bf69_685b35c66d69row15_col16\" class=\"data row15 col16\" >0.498439</td> \n",
       "        <td id=\"T_79d81200_726c_11e8_bf69_685b35c66d69row15_col17\" class=\"data row15 col17\" >1.03202</td> \n",
       "        <td id=\"T_79d81200_726c_11e8_bf69_685b35c66d69row15_col18\" class=\"data row15 col18\" >1.3629</td> \n",
       "        <td id=\"T_79d81200_726c_11e8_bf69_685b35c66d69row15_col19\" class=\"data row15 col19\" >Odéon</td> \n",
       "        <td id=\"T_79d81200_726c_11e8_bf69_685b35c66d69row15_col20\" class=\"data row15 col20\" >0.0814706</td> \n",
       "        <td id=\"T_79d81200_726c_11e8_bf69_685b35c66d69row15_col21\" class=\"data row15 col21\" >Mabillon</td> \n",
       "        <td id=\"T_79d81200_726c_11e8_bf69_685b35c66d69row15_col22\" class=\"data row15 col22\" >0.176908</td> \n",
       "        <td id=\"T_79d81200_726c_11e8_bf69_685b35c66d69row15_col23\" class=\"data row15 col23\" >Saint-Michel</td> \n",
       "        <td id=\"T_79d81200_726c_11e8_bf69_685b35c66d69row15_col24\" class=\"data row15 col24\" >0.229899</td> \n",
       "        <td id=\"T_79d81200_726c_11e8_bf69_685b35c66d69row15_col25\" class=\"data row15 col25\" >Saint-Germain des Prés</td> \n",
       "        <td id=\"T_79d81200_726c_11e8_bf69_685b35c66d69row15_col26\" class=\"data row15 col26\" >0.268535</td> \n",
       "        <td id=\"T_79d81200_726c_11e8_bf69_685b35c66d69row15_col27\" class=\"data row15 col27\" >Saint-Michel Notre-Dame</td> \n",
       "        <td id=\"T_79d81200_726c_11e8_bf69_685b35c66d69row15_col28\" class=\"data row15 col28\" >0.348073</td> \n",
       "        <td id=\"T_79d81200_726c_11e8_bf69_685b35c66d69row15_col29\" class=\"data row15 col29\" >48.85337165348112</td> \n",
       "        <td id=\"T_79d81200_726c_11e8_bf69_685b35c66d69row15_col30\" class=\"data row15 col30\" >2.3389515636568925</td> \n",
       "    </tr>    <tr> \n",
       "        <th id=\"T_79d81200_726c_11e8_bf69_685b35c66d69\" class=\"row_heading level0 row16\" >16</th> \n",
       "        <td id=\"T_79d81200_726c_11e8_bf69_685b35c66d69row16_col0\" class=\"data row16 col0\" >Property7873693</td> \n",
       "        <td id=\"T_79d81200_726c_11e8_bf69_685b35c66d69row16_col1\" class=\"data row16 col1\" >2</td> \n",
       "        <td id=\"T_79d81200_726c_11e8_bf69_685b35c66d69row16_col2\" class=\"data row16 col2\" >Bourse</td> \n",
       "        <td id=\"T_79d81200_726c_11e8_bf69_685b35c66d69row16_col3\" class=\"data row16 col3\" >70</td> \n",
       "        <td id=\"T_79d81200_726c_11e8_bf69_685b35c66d69row16_col4\" class=\"data row16 col4\" >flexible</td> \n",
       "        <td id=\"T_79d81200_726c_11e8_bf69_685b35c66d69row16_col5\" class=\"data row16 col5\" >The Louvre</td> \n",
       "        <td id=\"T_79d81200_726c_11e8_bf69_685b35c66d69row16_col6\" class=\"data row16 col6\" >0.570238</td> \n",
       "        <td id=\"T_79d81200_726c_11e8_bf69_685b35c66d69row16_col7\" class=\"data row16 col7\" >5</td> \n",
       "        <td id=\"T_79d81200_726c_11e8_bf69_685b35c66d69row16_col8\" class=\"data row16 col8\" >2</td> \n",
       "        <td id=\"T_79d81200_726c_11e8_bf69_685b35c66d69row16_col9\" class=\"data row16 col9\" >2.34001</td> \n",
       "        <td id=\"T_79d81200_726c_11e8_bf69_685b35c66d69row16_col10\" class=\"data row16 col10\" >0.570238</td> \n",
       "        <td id=\"T_79d81200_726c_11e8_bf69_685b35c66d69row16_col11\" class=\"data row16 col11\" >1.51729</td> \n",
       "        <td id=\"T_79d81200_726c_11e8_bf69_685b35c66d69row16_col12\" class=\"data row16 col12\" >0.916073</td> \n",
       "        <td id=\"T_79d81200_726c_11e8_bf69_685b35c66d69row16_col13\" class=\"data row16 col13\" >0.953143</td> \n",
       "        <td id=\"T_79d81200_726c_11e8_bf69_685b35c66d69row16_col14\" class=\"data row16 col14\" >0.850982</td> \n",
       "        <td id=\"T_79d81200_726c_11e8_bf69_685b35c66d69row16_col15\" class=\"data row16 col15\" >0.637156</td> \n",
       "        <td id=\"T_79d81200_726c_11e8_bf69_685b35c66d69row16_col16\" class=\"data row16 col16\" >1.05042</td> \n",
       "        <td id=\"T_79d81200_726c_11e8_bf69_685b35c66d69row16_col17\" class=\"data row16 col17\" >1.00492</td> \n",
       "        <td id=\"T_79d81200_726c_11e8_bf69_685b35c66d69row16_col18\" class=\"data row16 col18\" >1.40649</td> \n",
       "        <td id=\"T_79d81200_726c_11e8_bf69_685b35c66d69row16_col19\" class=\"data row16 col19\" >Sentier</td> \n",
       "        <td id=\"T_79d81200_726c_11e8_bf69_685b35c66d69row16_col20\" class=\"data row16 col20\" >0.163928</td> \n",
       "        <td id=\"T_79d81200_726c_11e8_bf69_685b35c66d69row16_col21\" class=\"data row16 col21\" >Bourse</td> \n",
       "        <td id=\"T_79d81200_726c_11e8_bf69_685b35c66d69row16_col22\" class=\"data row16 col22\" >0.168072</td> \n",
       "        <td id=\"T_79d81200_726c_11e8_bf69_685b35c66d69row16_col23\" class=\"data row16 col23\" >Grands Boulevards</td> \n",
       "        <td id=\"T_79d81200_726c_11e8_bf69_685b35c66d69row16_col24\" class=\"data row16 col24\" >0.272531</td> \n",
       "        <td id=\"T_79d81200_726c_11e8_bf69_685b35c66d69row16_col25\" class=\"data row16 col25\" >Bonne Nouvelle</td> \n",
       "        <td id=\"T_79d81200_726c_11e8_bf69_685b35c66d69row16_col26\" class=\"data row16 col26\" >0.285129</td> \n",
       "        <td id=\"T_79d81200_726c_11e8_bf69_685b35c66d69row16_col27\" class=\"data row16 col27\" >Etienne Marcel</td> \n",
       "        <td id=\"T_79d81200_726c_11e8_bf69_685b35c66d69row16_col28\" class=\"data row16 col28\" >0.356703</td> \n",
       "        <td id=\"T_79d81200_726c_11e8_bf69_685b35c66d69row16_col29\" class=\"data row16 col29\" >48.86769805533055</td> \n",
       "        <td id=\"T_79d81200_726c_11e8_bf69_685b35c66d69row16_col30\" class=\"data row16 col30\" >2.343999601219146</td> \n",
       "    </tr>    <tr> \n",
       "        <th id=\"T_79d81200_726c_11e8_bf69_685b35c66d69\" class=\"row_heading level0 row17\" >17</th> \n",
       "        <td id=\"T_79d81200_726c_11e8_bf69_685b35c66d69row17_col0\" class=\"data row17 col0\" >Property4263706</td> \n",
       "        <td id=\"T_79d81200_726c_11e8_bf69_685b35c66d69row17_col1\" class=\"data row17 col1\" >2</td> \n",
       "        <td id=\"T_79d81200_726c_11e8_bf69_685b35c66d69row17_col2\" class=\"data row17 col2\" >Bourse</td> \n",
       "        <td id=\"T_79d81200_726c_11e8_bf69_685b35c66d69row17_col3\" class=\"data row17 col3\" >80</td> \n",
       "        <td id=\"T_79d81200_726c_11e8_bf69_685b35c66d69row17_col4\" class=\"data row17 col4\" >moderate</td> \n",
       "        <td id=\"T_79d81200_726c_11e8_bf69_685b35c66d69row17_col5\" class=\"data row17 col5\" >The Louvre</td> \n",
       "        <td id=\"T_79d81200_726c_11e8_bf69_685b35c66d69row17_col6\" class=\"data row17 col6\" >0.423754</td> \n",
       "        <td id=\"T_79d81200_726c_11e8_bf69_685b35c66d69row17_col7\" class=\"data row17 col7\" >5</td> \n",
       "        <td id=\"T_79d81200_726c_11e8_bf69_685b35c66d69row17_col8\" class=\"data row17 col8\" >2</td> \n",
       "        <td id=\"T_79d81200_726c_11e8_bf69_685b35c66d69row17_col9\" class=\"data row17 col9\" >2.03881</td> \n",
       "        <td id=\"T_79d81200_726c_11e8_bf69_685b35c66d69row17_col10\" class=\"data row17 col10\" >0.423754</td> \n",
       "        <td id=\"T_79d81200_726c_11e8_bf69_685b35c66d69row17_col11\" class=\"data row17 col11\" >1.41882</td> \n",
       "        <td id=\"T_79d81200_726c_11e8_bf69_685b35c66d69row17_col12\" class=\"data row17 col12\" >1.11502</td> \n",
       "        <td id=\"T_79d81200_726c_11e8_bf69_685b35c66d69row17_col13\" class=\"data row17 col13\" >0.680488</td> \n",
       "        <td id=\"T_79d81200_726c_11e8_bf69_685b35c66d69row17_col14\" class=\"data row17 col14\" >0.853585</td> \n",
       "        <td id=\"T_79d81200_726c_11e8_bf69_685b35c66d69row17_col15\" class=\"data row17 col15\" >0.452784</td> \n",
       "        <td id=\"T_79d81200_726c_11e8_bf69_685b35c66d69row17_col16\" class=\"data row17 col16\" >1.10309</td> \n",
       "        <td id=\"T_79d81200_726c_11e8_bf69_685b35c66d69row17_col17\" class=\"data row17 col17\" >0.703701</td> \n",
       "        <td id=\"T_79d81200_726c_11e8_bf69_685b35c66d69row17_col18\" class=\"data row17 col18\" >1.105</td> \n",
       "        <td id=\"T_79d81200_726c_11e8_bf69_685b35c66d69row17_col19\" class=\"data row17 col19\" >Pyramides</td> \n",
       "        <td id=\"T_79d81200_726c_11e8_bf69_685b35c66d69row17_col20\" class=\"data row17 col20\" >0.141969</td> \n",
       "        <td id=\"T_79d81200_726c_11e8_bf69_685b35c66d69row17_col21\" class=\"data row17 col21\" >Pyramides</td> \n",
       "        <td id=\"T_79d81200_726c_11e8_bf69_685b35c66d69row17_col22\" class=\"data row17 col22\" >0.15682</td> \n",
       "        <td id=\"T_79d81200_726c_11e8_bf69_685b35c66d69row17_col23\" class=\"data row17 col23\" >Bourse</td> \n",
       "        <td id=\"T_79d81200_726c_11e8_bf69_685b35c66d69row17_col24\" class=\"data row17 col24\" >0.200348</td> \n",
       "        <td id=\"T_79d81200_726c_11e8_bf69_685b35c66d69row17_col25\" class=\"data row17 col25\" >Quatre Septembre</td> \n",
       "        <td id=\"T_79d81200_726c_11e8_bf69_685b35c66d69row17_col26\" class=\"data row17 col26\" >0.209513</td> \n",
       "        <td id=\"T_79d81200_726c_11e8_bf69_685b35c66d69row17_col27\" class=\"data row17 col27\" >Opéra</td> \n",
       "        <td id=\"T_79d81200_726c_11e8_bf69_685b35c66d69row17_col28\" class=\"data row17 col28\" >0.376549</td> \n",
       "        <td id=\"T_79d81200_726c_11e8_bf69_685b35c66d69row17_col29\" class=\"data row17 col29\" >48.86673249240419</td> \n",
       "        <td id=\"T_79d81200_726c_11e8_bf69_685b35c66d69row17_col30\" class=\"data row17 col30\" >2.337525711667723</td> \n",
       "    </tr>    <tr> \n",
       "        <th id=\"T_79d81200_726c_11e8_bf69_685b35c66d69\" class=\"row_heading level0 row18\" >18</th> \n",
       "        <td id=\"T_79d81200_726c_11e8_bf69_685b35c66d69row18_col0\" class=\"data row18 col0\" >Property3269406</td> \n",
       "        <td id=\"T_79d81200_726c_11e8_bf69_685b35c66d69row18_col1\" class=\"data row18 col1\" >4</td> \n",
       "        <td id=\"T_79d81200_726c_11e8_bf69_685b35c66d69row18_col2\" class=\"data row18 col2\" >Hotel-de-Ville</td> \n",
       "        <td id=\"T_79d81200_726c_11e8_bf69_685b35c66d69row18_col3\" class=\"data row18 col3\" >75</td> \n",
       "        <td id=\"T_79d81200_726c_11e8_bf69_685b35c66d69row18_col4\" class=\"data row18 col4\" >strict</td> \n",
       "        <td id=\"T_79d81200_726c_11e8_bf69_685b35c66d69row18_col5\" class=\"data row18 col5\" >Sainte-Chapelle</td> \n",
       "        <td id=\"T_79d81200_726c_11e8_bf69_685b35c66d69row18_col6\" class=\"data row18 col6\" >0.264648</td> \n",
       "        <td id=\"T_79d81200_726c_11e8_bf69_685b35c66d69row18_col7\" class=\"data row18 col7\" >5</td> \n",
       "        <td id=\"T_79d81200_726c_11e8_bf69_685b35c66d69row18_col8\" class=\"data row18 col8\" >2</td> \n",
       "        <td id=\"T_79d81200_726c_11e8_bf69_685b35c66d69row18_col9\" class=\"data row18 col9\" >2.51133</td> \n",
       "        <td id=\"T_79d81200_726c_11e8_bf69_685b35c66d69row18_col10\" class=\"data row18 col10\" >0.588255</td> \n",
       "        <td id=\"T_79d81200_726c_11e8_bf69_685b35c66d69row18_col11\" class=\"data row18 col11\" >0.973983</td> \n",
       "        <td id=\"T_79d81200_726c_11e8_bf69_685b35c66d69row18_col12\" class=\"data row18 col12\" >0.418911</td> \n",
       "        <td id=\"T_79d81200_726c_11e8_bf69_685b35c66d69row18_col13\" class=\"data row18 col13\" >1.06409</td> \n",
       "        <td id=\"T_79d81200_726c_11e8_bf69_685b35c66d69row18_col14\" class=\"data row18 col14\" >0.264648</td> \n",
       "        <td id=\"T_79d81200_726c_11e8_bf69_685b35c66d69row18_col15\" class=\"data row18 col15\" >1.29016</td> \n",
       "        <td id=\"T_79d81200_726c_11e8_bf69_685b35c66d69row18_col16\" class=\"data row18 col16\" >0.320255</td> \n",
       "        <td id=\"T_79d81200_726c_11e8_bf69_685b35c66d69row18_col17\" class=\"data row18 col17\" >1.30049</td> \n",
       "        <td id=\"T_79d81200_726c_11e8_bf69_685b35c66d69row18_col18\" class=\"data row18 col18\" >1.6985</td> \n",
       "        <td id=\"T_79d81200_726c_11e8_bf69_685b35c66d69row18_col19\" class=\"data row18 col19\" >Châtelet</td> \n",
       "        <td id=\"T_79d81200_726c_11e8_bf69_685b35c66d69row18_col20\" class=\"data row18 col20\" >0.104159</td> \n",
       "        <td id=\"T_79d81200_726c_11e8_bf69_685b35c66d69row18_col21\" class=\"data row18 col21\" >Hôtel de Ville</td> \n",
       "        <td id=\"T_79d81200_726c_11e8_bf69_685b35c66d69row18_col22\" class=\"data row18 col22\" >0.1083</td> \n",
       "        <td id=\"T_79d81200_726c_11e8_bf69_685b35c66d69row18_col23\" class=\"data row18 col23\" >Cité</td> \n",
       "        <td id=\"T_79d81200_726c_11e8_bf69_685b35c66d69row18_col24\" class=\"data row18 col24\" >0.209349</td> \n",
       "        <td id=\"T_79d81200_726c_11e8_bf69_685b35c66d69row18_col25\" class=\"data row18 col25\" >Saint-Michel Notre-Dame</td> \n",
       "        <td id=\"T_79d81200_726c_11e8_bf69_685b35c66d69row18_col26\" class=\"data row18 col26\" >0.292527</td> \n",
       "        <td id=\"T_79d81200_726c_11e8_bf69_685b35c66d69row18_col27\" class=\"data row18 col27\" >Châtelet-Les Halles</td> \n",
       "        <td id=\"T_79d81200_726c_11e8_bf69_685b35c66d69row18_col28\" class=\"data row18 col28\" >0.29537</td> \n",
       "        <td id=\"T_79d81200_726c_11e8_bf69_685b35c66d69row18_col29\" class=\"data row18 col29\" >48.8576334577362</td> \n",
       "        <td id=\"T_79d81200_726c_11e8_bf69_685b35c66d69row18_col30\" class=\"data row18 col30\" >2.3497289964282735</td> \n",
       "    </tr>    <tr> \n",
       "        <th id=\"T_79d81200_726c_11e8_bf69_685b35c66d69\" class=\"row_heading level0 row19\" >19</th> \n",
       "        <td id=\"T_79d81200_726c_11e8_bf69_685b35c66d69row19_col0\" class=\"data row19 col0\" >Property15563021</td> \n",
       "        <td id=\"T_79d81200_726c_11e8_bf69_685b35c66d69row19_col1\" class=\"data row19 col1\" >2</td> \n",
       "        <td id=\"T_79d81200_726c_11e8_bf69_685b35c66d69row19_col2\" class=\"data row19 col2\" >Bourse</td> \n",
       "        <td id=\"T_79d81200_726c_11e8_bf69_685b35c66d69row19_col3\" class=\"data row19 col3\" >85</td> \n",
       "        <td id=\"T_79d81200_726c_11e8_bf69_685b35c66d69row19_col4\" class=\"data row19 col4\" >moderate</td> \n",
       "        <td id=\"T_79d81200_726c_11e8_bf69_685b35c66d69row19_col5\" class=\"data row19 col5\" >The Louvre</td> \n",
       "        <td id=\"T_79d81200_726c_11e8_bf69_685b35c66d69row19_col6\" class=\"data row19 col6\" >0.560943</td> \n",
       "        <td id=\"T_79d81200_726c_11e8_bf69_685b35c66d69row19_col7\" class=\"data row19 col7\" >5</td> \n",
       "        <td id=\"T_79d81200_726c_11e8_bf69_685b35c66d69row19_col8\" class=\"data row19 col8\" >2</td> \n",
       "        <td id=\"T_79d81200_726c_11e8_bf69_685b35c66d69row19_col9\" class=\"data row19 col9\" >2.4731</td> \n",
       "        <td id=\"T_79d81200_726c_11e8_bf69_685b35c66d69row19_col10\" class=\"data row19 col10\" >0.560943</td> \n",
       "        <td id=\"T_79d81200_726c_11e8_bf69_685b35c66d69row19_col11\" class=\"data row19 col11\" >1.38819</td> \n",
       "        <td id=\"T_79d81200_726c_11e8_bf69_685b35c66d69row19_col12\" class=\"data row19 col12\" >0.65704</td> \n",
       "        <td id=\"T_79d81200_726c_11e8_bf69_685b35c66d69row19_col13\" class=\"data row19 col13\" >1.03107</td> \n",
       "        <td id=\"T_79d81200_726c_11e8_bf69_685b35c66d69row19_col14\" class=\"data row19 col14\" >0.676859</td> \n",
       "        <td id=\"T_79d81200_726c_11e8_bf69_685b35c66d69row19_col15\" class=\"data row19 col15\" >0.887561</td> \n",
       "        <td id=\"T_79d81200_726c_11e8_bf69_685b35c66d69row19_col16\" class=\"data row19 col16\" >0.833696</td> \n",
       "        <td id=\"T_79d81200_726c_11e8_bf69_685b35c66d69row19_col17\" class=\"data row19 col17\" >1.15172</td> \n",
       "        <td id=\"T_79d81200_726c_11e8_bf69_685b35c66d69row19_col18\" class=\"data row19 col18\" >1.56422</td> \n",
       "        <td id=\"T_79d81200_726c_11e8_bf69_685b35c66d69row19_col19\" class=\"data row19 col19\" >Etienne Marcel</td> \n",
       "        <td id=\"T_79d81200_726c_11e8_bf69_685b35c66d69row19_col20\" class=\"data row19 col20\" >0.100188</td> \n",
       "        <td id=\"T_79d81200_726c_11e8_bf69_685b35c66d69row19_col21\" class=\"data row19 col21\" >Sentier</td> \n",
       "        <td id=\"T_79d81200_726c_11e8_bf69_685b35c66d69row19_col22\" class=\"data row19 col22\" >0.163536</td> \n",
       "        <td id=\"T_79d81200_726c_11e8_bf69_685b35c66d69row19_col23\" class=\"data row19 col23\" >Les Halles</td> \n",
       "        <td id=\"T_79d81200_726c_11e8_bf69_685b35c66d69row19_col24\" class=\"data row19 col24\" >0.217277</td> \n",
       "        <td id=\"T_79d81200_726c_11e8_bf69_685b35c66d69row19_col25\" class=\"data row19 col25\" >Réaumur-Sébastopol</td> \n",
       "        <td id=\"T_79d81200_726c_11e8_bf69_685b35c66d69row19_col26\" class=\"data row19 col26\" >0.223437</td> \n",
       "        <td id=\"T_79d81200_726c_11e8_bf69_685b35c66d69row19_col27\" class=\"data row19 col27\" >Rambuteau</td> \n",
       "        <td id=\"T_79d81200_726c_11e8_bf69_685b35c66d69row19_col28\" class=\"data row19 col28\" >0.357085</td> \n",
       "        <td id=\"T_79d81200_726c_11e8_bf69_685b35c66d69row19_col29\" class=\"data row19 col29\" >48.86499860229114</td> \n",
       "        <td id=\"T_79d81200_726c_11e8_bf69_685b35c66d69row19_col30\" class=\"data row19 col30\" >2.3479717735925107</td> \n",
       "    </tr></tbody> \n",
       "</table> "
      ],
      "text/plain": [
       "<pandas.io.formats.style.Styler at 0x115973e48>"
      ]
     },
     "execution_count": 8,
     "metadata": {},
     "output_type": "execute_result"
    }
   ],
   "source": [
    "import pandas as pd\n",
    "results = pd.read_pickle('airbnb_paris/recommendation_results_0615.p')\n",
    "results.reset_index(drop = True, inplace = True)\n",
    "results.style"
   ]
  },
  {
   "cell_type": "markdown",
   "metadata": {},
   "source": [
    "Paris Map with recommendations can be viewed below:"
   ]
  },
  {
   "cell_type": "markdown",
   "metadata": {},
   "source": [
    "[Paris_map](https://cdn.rawgit.com/ayeshavm/K2_Project2_EDA/8de36452/images/paris_map.html)"
   ]
  },
  {
   "cell_type": "markdown",
   "metadata": {},
   "source": [
    "## Further Research and Analysis"
   ]
  },
  {
   "cell_type": "markdown",
   "metadata": {
    "collapsed": true
   },
   "source": [
    "\n",
    "\n",
    "* Need further Analysis to rectify heteroscedasticity to check for collinearity in our predictors, and or possibly adding more features to make the model more accurate.\n",
    "\n",
    "* Incorporate additional information i.e. restaurants and cafes close to the area, and include that in analysis and recommendation process as well.\n",
    "\n",
    "* Using more current data via Airbnb APIs.\n",
    "\n",
    "* Text analysis on comments and other features/amenities."
   ]
  },
  {
   "cell_type": "code",
   "execution_count": null,
   "metadata": {
    "collapsed": true
   },
   "outputs": [],
   "source": []
  }
 ],
 "metadata": {
  "kernelspec": {
   "display_name": "Python 3",
   "language": "python",
   "name": "python3"
  },
  "language_info": {
   "codemirror_mode": {
    "name": "ipython",
    "version": 3
   },
   "file_extension": ".py",
   "mimetype": "text/x-python",
   "name": "python",
   "nbconvert_exporter": "python",
   "pygments_lexer": "ipython3",
   "version": "3.6.1"
  }
 },
 "nbformat": 4,
 "nbformat_minor": 2
}
