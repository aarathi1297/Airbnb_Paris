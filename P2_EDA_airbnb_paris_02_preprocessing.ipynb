{
 "cells": [
  {
   "cell_type": "code",
   "execution_count": 1,
   "metadata": {
    "collapsed": true
   },
   "outputs": [],
   "source": [
    "%matplotlib inline\n",
    "%config InlineBackend.figure.format = 'retina'"
   ]
  },
  {
   "cell_type": "code",
   "execution_count": 2,
   "metadata": {
    "collapsed": true
   },
   "outputs": [],
   "source": [
    "import matplotlib as mpl\n",
    "import matplotlib.pyplot as plt\n",
    "import seaborn as sns\n",
    "sns.set_context(\"poster\", font_scale=1.3)\n",
    "import folium\n",
    "\n",
    "import pandas as pd\n",
    "import numpy as np\n",
    "import json\n",
    "import ijson\n",
    "from datetime import datetime, timedelta"
   ]
  },
  {
   "cell_type": "markdown",
   "metadata": {},
   "source": [
    "The input to this preprocess will be the pickle file generated from P2_EDA_airbnb_paris_01_datamunging.ipynb notebook"
   ]
  },
  {
   "cell_type": "code",
   "execution_count": 4,
   "metadata": {
    "collapsed": true
   },
   "outputs": [],
   "source": [
    "#read the cleaned Airbnb Paris pickle file\n",
    "\n",
    "dfParis = pd.read_pickle('airbnb_paris/airbnb_Paris_cleansed_0615.p')"
   ]
  },
  {
   "cell_type": "code",
   "execution_count": 5,
   "metadata": {},
   "outputs": [
    {
     "data": {
      "text/html": [
       "<div>\n",
       "<style>\n",
       "    .dataframe thead tr:only-child th {\n",
       "        text-align: right;\n",
       "    }\n",
       "\n",
       "    .dataframe thead th {\n",
       "        text-align: left;\n",
       "    }\n",
       "\n",
       "    .dataframe tbody tr th {\n",
       "        vertical-align: top;\n",
       "    }\n",
       "</style>\n",
       "<table border=\"1\" class=\"dataframe\">\n",
       "  <thead>\n",
       "    <tr style=\"text-align: right;\">\n",
       "      <th></th>\n",
       "      <th>accommodates</th>\n",
       "      <th>amenities</th>\n",
       "      <th>availability_30</th>\n",
       "      <th>availability_60</th>\n",
       "      <th>availability_90</th>\n",
       "      <th>bathrooms</th>\n",
       "      <th>bedrooms</th>\n",
       "      <th>beds</th>\n",
       "      <th>cancellation_policy</th>\n",
       "      <th>guests_included</th>\n",
       "      <th>...</th>\n",
       "      <th>review_scores_rating</th>\n",
       "      <th>review_scores_value</th>\n",
       "      <th>reviews_per_month</th>\n",
       "      <th>room_type</th>\n",
       "      <th>summary</th>\n",
       "      <th>transit</th>\n",
       "      <th>zipcode</th>\n",
       "      <th>arrondissement</th>\n",
       "      <th>arrond_name</th>\n",
       "      <th>rating_ind</th>\n",
       "    </tr>\n",
       "  </thead>\n",
       "  <tbody>\n",
       "    <tr>\n",
       "      <th>0</th>\n",
       "      <td>4</td>\n",
       "      <td>TV,Internet,Wireless Internet,Kitchen,Elevator...</td>\n",
       "      <td>0</td>\n",
       "      <td>0</td>\n",
       "      <td>0</td>\n",
       "      <td>1</td>\n",
       "      <td>1.0</td>\n",
       "      <td>2.0</td>\n",
       "      <td>moderate</td>\n",
       "      <td>1</td>\n",
       "      <td>...</td>\n",
       "      <td>100.0</td>\n",
       "      <td>10.0</td>\n",
       "      <td>0.72</td>\n",
       "      <td>Entire home/apt</td>\n",
       "      <td>The flat is in the heart of Paris at the foot ...</td>\n",
       "      <td>2 metro stations (Alma Marceau line 9 and Ecol...</td>\n",
       "      <td>75007</td>\n",
       "      <td>7</td>\n",
       "      <td>Palais-Bourbon</td>\n",
       "      <td>1</td>\n",
       "    </tr>\n",
       "    <tr>\n",
       "      <th>1</th>\n",
       "      <td>4</td>\n",
       "      <td>TV,Wireless Internet,Kitchen,Heating,Family/ki...</td>\n",
       "      <td>8</td>\n",
       "      <td>13</td>\n",
       "      <td>32</td>\n",
       "      <td>1</td>\n",
       "      <td>1.0</td>\n",
       "      <td>1.0</td>\n",
       "      <td>strict</td>\n",
       "      <td>1</td>\n",
       "      <td>...</td>\n",
       "      <td>80.0</td>\n",
       "      <td>10.0</td>\n",
       "      <td>0.32</td>\n",
       "      <td>Entire home/apt</td>\n",
       "      <td>Grand appartement confortable et traversant de...</td>\n",
       "      <td>NaN</td>\n",
       "      <td>75015</td>\n",
       "      <td>15</td>\n",
       "      <td>Vaugirard</td>\n",
       "      <td>1</td>\n",
       "    </tr>\n",
       "    <tr>\n",
       "      <th>2</th>\n",
       "      <td>4</td>\n",
       "      <td>TV,Cable TV,Internet,Wireless Internet,Kitchen...</td>\n",
       "      <td>9</td>\n",
       "      <td>21</td>\n",
       "      <td>31</td>\n",
       "      <td>1</td>\n",
       "      <td>1.0</td>\n",
       "      <td>1.0</td>\n",
       "      <td>strict</td>\n",
       "      <td>2</td>\n",
       "      <td>...</td>\n",
       "      <td>96.0</td>\n",
       "      <td>10.0</td>\n",
       "      <td>2.79</td>\n",
       "      <td>Entire home/apt</td>\n",
       "      <td>In front of the Musée d'Orsay, this apartment ...</td>\n",
       "      <td>Metro Assemblée Nationale Ligne 12  Bus Ligne ...</td>\n",
       "      <td>75007</td>\n",
       "      <td>7</td>\n",
       "      <td>Palais-Bourbon</td>\n",
       "      <td>1</td>\n",
       "    </tr>\n",
       "    <tr>\n",
       "      <th>3</th>\n",
       "      <td>2</td>\n",
       "      <td>TV,Internet,Wireless Internet,Kitchen,Indoor f...</td>\n",
       "      <td>0</td>\n",
       "      <td>0</td>\n",
       "      <td>0</td>\n",
       "      <td>1</td>\n",
       "      <td>1.0</td>\n",
       "      <td>1.0</td>\n",
       "      <td>moderate</td>\n",
       "      <td>1</td>\n",
       "      <td>...</td>\n",
       "      <td>NaN</td>\n",
       "      <td>NaN</td>\n",
       "      <td>NaN</td>\n",
       "      <td>Entire home/apt</td>\n",
       "      <td>If you are looking for a real French and Paris...</td>\n",
       "      <td>Three main subway lines (10/12/13) and several...</td>\n",
       "      <td>75007</td>\n",
       "      <td>7</td>\n",
       "      <td>Palais-Bourbon</td>\n",
       "      <td>0</td>\n",
       "    </tr>\n",
       "    <tr>\n",
       "      <th>4</th>\n",
       "      <td>4</td>\n",
       "      <td>TV,Wireless Internet,Kitchen,Elevator in build...</td>\n",
       "      <td>10</td>\n",
       "      <td>22</td>\n",
       "      <td>29</td>\n",
       "      <td>1</td>\n",
       "      <td>1.0</td>\n",
       "      <td>1.0</td>\n",
       "      <td>strict</td>\n",
       "      <td>1</td>\n",
       "      <td>...</td>\n",
       "      <td>97.0</td>\n",
       "      <td>9.0</td>\n",
       "      <td>0.63</td>\n",
       "      <td>Entire home/apt</td>\n",
       "      <td>Appartement 2 pièces tout équipé avec une cham...</td>\n",
       "      <td>Plusieurs lignes de métro et bus desservent l'...</td>\n",
       "      <td>75007</td>\n",
       "      <td>7</td>\n",
       "      <td>Palais-Bourbon</td>\n",
       "      <td>1</td>\n",
       "    </tr>\n",
       "  </tbody>\n",
       "</table>\n",
       "<p>5 rows × 36 columns</p>\n",
       "</div>"
      ],
      "text/plain": [
       "   accommodates                                          amenities  \\\n",
       "0             4  TV,Internet,Wireless Internet,Kitchen,Elevator...   \n",
       "1             4  TV,Wireless Internet,Kitchen,Heating,Family/ki...   \n",
       "2             4  TV,Cable TV,Internet,Wireless Internet,Kitchen...   \n",
       "3             2  TV,Internet,Wireless Internet,Kitchen,Indoor f...   \n",
       "4             4  TV,Wireless Internet,Kitchen,Elevator in build...   \n",
       "\n",
       "   availability_30  availability_60  availability_90 bathrooms  bedrooms  \\\n",
       "0                0                0                0         1       1.0   \n",
       "1                8               13               32         1       1.0   \n",
       "2                9               21               31         1       1.0   \n",
       "3                0                0                0         1       1.0   \n",
       "4               10               22               29         1       1.0   \n",
       "\n",
       "   beds cancellation_policy  guests_included     ...     review_scores_rating  \\\n",
       "0   2.0            moderate                1     ...                    100.0   \n",
       "1   1.0              strict                1     ...                     80.0   \n",
       "2   1.0              strict                2     ...                     96.0   \n",
       "3   1.0            moderate                1     ...                      NaN   \n",
       "4   1.0              strict                1     ...                     97.0   \n",
       "\n",
       "   review_scores_value reviews_per_month        room_type  \\\n",
       "0                 10.0              0.72  Entire home/apt   \n",
       "1                 10.0              0.32  Entire home/apt   \n",
       "2                 10.0              2.79  Entire home/apt   \n",
       "3                  NaN               NaN  Entire home/apt   \n",
       "4                  9.0              0.63  Entire home/apt   \n",
       "\n",
       "                                             summary  \\\n",
       "0  The flat is in the heart of Paris at the foot ...   \n",
       "1  Grand appartement confortable et traversant de...   \n",
       "2  In front of the Musée d'Orsay, this apartment ...   \n",
       "3  If you are looking for a real French and Paris...   \n",
       "4  Appartement 2 pièces tout équipé avec une cham...   \n",
       "\n",
       "                                             transit  zipcode arrondissement  \\\n",
       "0  2 metro stations (Alma Marceau line 9 and Ecol...    75007              7   \n",
       "1                                                NaN    75015             15   \n",
       "2  Metro Assemblée Nationale Ligne 12  Bus Ligne ...    75007              7   \n",
       "3  Three main subway lines (10/12/13) and several...    75007              7   \n",
       "4  Plusieurs lignes de métro et bus desservent l'...    75007              7   \n",
       "\n",
       "      arrond_name  rating_ind  \n",
       "0  Palais-Bourbon           1  \n",
       "1       Vaugirard           1  \n",
       "2  Palais-Bourbon           1  \n",
       "3  Palais-Bourbon           0  \n",
       "4  Palais-Bourbon           1  \n",
       "\n",
       "[5 rows x 36 columns]"
      ]
     },
     "execution_count": 5,
     "metadata": {},
     "output_type": "execute_result"
    }
   ],
   "source": [
    "dfParis = dfParis.drop('_merge', axis=1)\n",
    "dfParis.head()"
   ]
  },
  {
   "cell_type": "code",
   "execution_count": 6,
   "metadata": {},
   "outputs": [
    {
     "data": {
      "text/plain": [
       "count    52295.000000\n",
       "mean        93.718673\n",
       "std         71.128178\n",
       "min          0.000000\n",
       "25%         55.000000\n",
       "50%         75.000000\n",
       "75%        105.000000\n",
       "max        999.000000\n",
       "Name: price, dtype: float64"
      ]
     },
     "execution_count": 6,
     "metadata": {},
     "output_type": "execute_result"
    }
   ],
   "source": [
    "dfParis.price.describe()"
   ]
  },
  {
   "cell_type": "markdown",
   "metadata": {},
   "source": [
    "the top 10 Paris attractions were from [2018 top 10 attractions in Paris](https://www.tripadvisor.com/Attractions-g187147-Activities-Paris_Ile_de_France.html#ATTRACTION_SORT_WRAPPER) <br> since, we only have ten locations, each of the geo location was searched and populated from google.com "
   ]
  },
  {
   "cell_type": "code",
   "execution_count": 7,
   "metadata": {},
   "outputs": [
    {
     "data": {
      "text/html": [
       "<div>\n",
       "<style>\n",
       "    .dataframe thead tr:only-child th {\n",
       "        text-align: right;\n",
       "    }\n",
       "\n",
       "    .dataframe thead th {\n",
       "        text-align: left;\n",
       "    }\n",
       "\n",
       "    .dataframe tbody tr th {\n",
       "        vertical-align: top;\n",
       "    }\n",
       "</style>\n",
       "<table border=\"1\" class=\"dataframe\">\n",
       "  <thead>\n",
       "    <tr style=\"text-align: right;\">\n",
       "      <th></th>\n",
       "      <th>name</th>\n",
       "      <th>latitude</th>\n",
       "      <th>longitude</th>\n",
       "      <th>arrondissement</th>\n",
       "    </tr>\n",
       "  </thead>\n",
       "  <tbody>\n",
       "    <tr>\n",
       "      <th>1</th>\n",
       "      <td>The Louvre</td>\n",
       "      <td>48.8606</td>\n",
       "      <td>2.3376</td>\n",
       "      <td>1</td>\n",
       "    </tr>\n",
       "    <tr>\n",
       "      <th>5</th>\n",
       "      <td>Sainte-Chapelle</td>\n",
       "      <td>48.8554</td>\n",
       "      <td>2.3450</td>\n",
       "      <td>1</td>\n",
       "    </tr>\n",
       "    <tr>\n",
       "      <th>8</th>\n",
       "      <td>Musee de l'Orangerie</td>\n",
       "      <td>48.8638</td>\n",
       "      <td>2.3227</td>\n",
       "      <td>1</td>\n",
       "    </tr>\n",
       "    <tr>\n",
       "      <th>3</th>\n",
       "      <td>Le Marais</td>\n",
       "      <td>48.8587</td>\n",
       "      <td>2.3588</td>\n",
       "      <td>3</td>\n",
       "    </tr>\n",
       "    <tr>\n",
       "      <th>7</th>\n",
       "      <td>Notre Dame Cathedral</td>\n",
       "      <td>48.8530</td>\n",
       "      <td>2.3499</td>\n",
       "      <td>4</td>\n",
       "    </tr>\n",
       "    <tr>\n",
       "      <th>2</th>\n",
       "      <td>Jardin du Luxembourg</td>\n",
       "      <td>48.8462</td>\n",
       "      <td>2.3372</td>\n",
       "      <td>6</td>\n",
       "    </tr>\n",
       "    <tr>\n",
       "      <th>0</th>\n",
       "      <td>Eiffel Tower</td>\n",
       "      <td>48.8584</td>\n",
       "      <td>2.2945</td>\n",
       "      <td>7</td>\n",
       "    </tr>\n",
       "    <tr>\n",
       "      <th>4</th>\n",
       "      <td>Musee d'Orsay</td>\n",
       "      <td>48.8600</td>\n",
       "      <td>2.3266</td>\n",
       "      <td>7</td>\n",
       "    </tr>\n",
       "    <tr>\n",
       "      <th>9</th>\n",
       "      <td>Pont Alexandre III</td>\n",
       "      <td>48.8639</td>\n",
       "      <td>2.3136</td>\n",
       "      <td>7</td>\n",
       "    </tr>\n",
       "    <tr>\n",
       "      <th>6</th>\n",
       "      <td>Palais Garnier - Opera</td>\n",
       "      <td>48.8720</td>\n",
       "      <td>2.3316</td>\n",
       "      <td>9</td>\n",
       "    </tr>\n",
       "  </tbody>\n",
       "</table>\n",
       "</div>"
      ],
      "text/plain": [
       "                     name  latitude  longitude  arrondissement\n",
       "1              The Louvre   48.8606     2.3376               1\n",
       "5         Sainte-Chapelle   48.8554     2.3450               1\n",
       "8    Musee de l'Orangerie   48.8638     2.3227               1\n",
       "3               Le Marais   48.8587     2.3588               3\n",
       "7    Notre Dame Cathedral   48.8530     2.3499               4\n",
       "2    Jardin du Luxembourg   48.8462     2.3372               6\n",
       "0            Eiffel Tower   48.8584     2.2945               7\n",
       "4           Musee d'Orsay   48.8600     2.3266               7\n",
       "9      Pont Alexandre III   48.8639     2.3136               7\n",
       "6  Palais Garnier - Opera   48.8720     2.3316               9"
      ]
     },
     "execution_count": 7,
     "metadata": {},
     "output_type": "execute_result"
    }
   ],
   "source": [
    "df_attractions = pd.read_csv('airbnb_paris/Paris_attractions.csv')\n",
    "df_attractions.sort_values(by='arrondissement')"
   ]
  },
  {
   "cell_type": "code",
   "execution_count": 8,
   "metadata": {},
   "outputs": [
    {
     "name": "stderr",
     "output_type": "stream",
     "text": [
      "/Applications/anaconda3/lib/python3.6/site-packages/ipykernel_launcher.py:12: FutureWarning: 'pandas.tools.plotting.table' is deprecated, import 'pandas.plotting.table' instead.\n",
      "  if sys.path[0] == '':\n"
     ]
    },
    {
     "data": {
      "image/png": "[encoded data removed]",
      "text/plain": [
       "<matplotlib.figure.Figure at 0x11345ba90>"
      ]
     },
     "metadata": {},
     "output_type": "display_data"
    }
   ],
   "source": [
    "import pandas as pd\n",
    "import matplotlib.pyplot as plt\n",
    "from pandas.tools.plotting import table\n",
    "#from pandas.plotting.table import table\n",
    "import numpy as np\n",
    "\n",
    "\n",
    "fig, ax = plt.subplots(figsize=(12, 2)) # set size frame\n",
    "ax.xaxis.set_visible(False)  # hide the x axis\n",
    "ax.yaxis.set_visible(False)  # hide the y axis\n",
    "ax.set_frame_on(False)  # no visible frame, uncomment if size is ok\n",
    "tabla = table(ax, df_attractions, loc='upper right', colWidths=[0.17]*len(df_attractions.columns))  # where df is your data frame\n",
    "tabla.auto_set_font_size(False) # Activate set fontsize manually\n",
    "tabla.set_fontsize(12) # if ++fontsize is necessary ++colWidths\n",
    "tabla.scale(1.2, 1.2) # change size table\n",
    "plt.savefig('images/table.png', transparent=True)"
   ]
  },
  {
   "cell_type": "code",
   "execution_count": 10,
   "metadata": {
    "collapsed": true
   },
   "outputs": [],
   "source": [
    "from math import radians, cos, sin, asin, sqrt\n",
    "\n",
    "def haversine(lat1, lon1, lat2, lon2):\n",
    "    \n",
    "    '''Calculate the great circle distance between two points \n",
    "    on the earth (specified in decimal degrees)'''\n",
    "    \n",
    "    lat1 = float(lat1)\n",
    "    lon1 = float(lon1)\n",
    "    lat2 = float(lat2)\n",
    "    lon2 = float(lon2)\n",
    "    #miles_constant = 3959\n",
    "    lat1, lon1, lat2, lon2 = map(radians, [lat1, lon1, lat2, lon2])\n",
    "    #haversine formula\n",
    "    dlat = lat2 - lat1\n",
    "    dlon = lon2 - lon1\n",
    "    a = sin(dlat/2)**2 + cos(lat1) * cos(lat2) * sin(dlon/2)**2\n",
    "    c = 2 * asin(sqrt(a))\n",
    "    r = 3959\n",
    "    mi = r * c\n",
    "    return mi"
   ]
  },
  {
   "cell_type": "code",
   "execution_count": 11,
   "metadata": {},
   "outputs": [
    {
     "name": "stdout",
     "output_type": "stream",
     "text": [
      "2.98311774765089\n"
     ]
    }
   ],
   "source": [
    "print(haversine(48.89247049179856,2.378547117789503,48.8516,2.3574))"
   ]
  },
  {
   "cell_type": "code",
   "execution_count": 12,
   "metadata": {
    "scrolled": true
   },
   "outputs": [
    {
     "data": {
      "text/html": [
       "<div>\n",
       "<style>\n",
       "    .dataframe thead tr:only-child th {\n",
       "        text-align: right;\n",
       "    }\n",
       "\n",
       "    .dataframe thead th {\n",
       "        text-align: left;\n",
       "    }\n",
       "\n",
       "    .dataframe tbody tr th {\n",
       "        vertical-align: top;\n",
       "    }\n",
       "</style>\n",
       "<table border=\"1\" class=\"dataframe\">\n",
       "  <thead>\n",
       "    <tr style=\"text-align: right;\">\n",
       "      <th></th>\n",
       "      <th>index</th>\n",
       "      <th>name</th>\n",
       "      <th>latitude</th>\n",
       "      <th>longitude</th>\n",
       "      <th>arrondissement</th>\n",
       "    </tr>\n",
       "  </thead>\n",
       "  <tbody>\n",
       "    <tr>\n",
       "      <th>0</th>\n",
       "      <td>0</td>\n",
       "      <td>Eiffel Tower</td>\n",
       "      <td>48.8584</td>\n",
       "      <td>2.2945</td>\n",
       "      <td>7</td>\n",
       "    </tr>\n",
       "    <tr>\n",
       "      <th>1</th>\n",
       "      <td>1</td>\n",
       "      <td>The Louvre</td>\n",
       "      <td>48.8606</td>\n",
       "      <td>2.3376</td>\n",
       "      <td>1</td>\n",
       "    </tr>\n",
       "    <tr>\n",
       "      <th>2</th>\n",
       "      <td>2</td>\n",
       "      <td>Jardin du Luxembourg</td>\n",
       "      <td>48.8462</td>\n",
       "      <td>2.3372</td>\n",
       "      <td>6</td>\n",
       "    </tr>\n",
       "    <tr>\n",
       "      <th>3</th>\n",
       "      <td>3</td>\n",
       "      <td>Le Marais</td>\n",
       "      <td>48.8587</td>\n",
       "      <td>2.3588</td>\n",
       "      <td>3</td>\n",
       "    </tr>\n",
       "    <tr>\n",
       "      <th>4</th>\n",
       "      <td>4</td>\n",
       "      <td>Musee d'Orsay</td>\n",
       "      <td>48.8600</td>\n",
       "      <td>2.3266</td>\n",
       "      <td>7</td>\n",
       "    </tr>\n",
       "    <tr>\n",
       "      <th>5</th>\n",
       "      <td>5</td>\n",
       "      <td>Sainte-Chapelle</td>\n",
       "      <td>48.8554</td>\n",
       "      <td>2.3450</td>\n",
       "      <td>1</td>\n",
       "    </tr>\n",
       "    <tr>\n",
       "      <th>6</th>\n",
       "      <td>6</td>\n",
       "      <td>Palais Garnier - Opera</td>\n",
       "      <td>48.8720</td>\n",
       "      <td>2.3316</td>\n",
       "      <td>9</td>\n",
       "    </tr>\n",
       "    <tr>\n",
       "      <th>7</th>\n",
       "      <td>7</td>\n",
       "      <td>Notre Dame Cathedral</td>\n",
       "      <td>48.8530</td>\n",
       "      <td>2.3499</td>\n",
       "      <td>4</td>\n",
       "    </tr>\n",
       "    <tr>\n",
       "      <th>8</th>\n",
       "      <td>8</td>\n",
       "      <td>Musee de l'Orangerie</td>\n",
       "      <td>48.8638</td>\n",
       "      <td>2.3227</td>\n",
       "      <td>1</td>\n",
       "    </tr>\n",
       "    <tr>\n",
       "      <th>9</th>\n",
       "      <td>9</td>\n",
       "      <td>Pont Alexandre III</td>\n",
       "      <td>48.8639</td>\n",
       "      <td>2.3136</td>\n",
       "      <td>7</td>\n",
       "    </tr>\n",
       "  </tbody>\n",
       "</table>\n",
       "</div>"
      ],
      "text/plain": [
       "   index                    name  latitude  longitude  arrondissement\n",
       "0      0            Eiffel Tower   48.8584     2.2945               7\n",
       "1      1              The Louvre   48.8606     2.3376               1\n",
       "2      2    Jardin du Luxembourg   48.8462     2.3372               6\n",
       "3      3               Le Marais   48.8587     2.3588               3\n",
       "4      4           Musee d'Orsay   48.8600     2.3266               7\n",
       "5      5         Sainte-Chapelle   48.8554     2.3450               1\n",
       "6      6  Palais Garnier - Opera   48.8720     2.3316               9\n",
       "7      7    Notre Dame Cathedral   48.8530     2.3499               4\n",
       "8      8    Musee de l'Orangerie   48.8638     2.3227               1\n",
       "9      9      Pont Alexandre III   48.8639     2.3136               7"
      ]
     },
     "execution_count": 12,
     "metadata": {},
     "output_type": "execute_result"
    }
   ],
   "source": [
    "df_attractions.reset_index()"
   ]
  },
  {
   "cell_type": "markdown",
   "metadata": {},
   "source": [
    "Compute the distance between Airbnb property and each of the top 10 attractions, and create a column for each of the attraction, and set the close_to_attraction indicator to 1, if at least one of the distances is within 2 miles."
   ]
  },
  {
   "cell_type": "code",
   "execution_count": 13,
   "metadata": {},
   "outputs": [
    {
     "name": "stderr",
     "output_type": "stream",
     "text": [
      "/Applications/anaconda3/lib/python3.6/site-packages/ipykernel_launcher.py:8: DeprecationWarning: \n",
      ".ix is deprecated. Please use\n",
      ".loc for label based indexing or\n",
      ".iloc for positional indexing\n",
      "\n",
      "See the documentation here:\n",
      "http://pandas.pydata.org/pandas-docs/stable/indexing.html#ix-indexer-is-deprecated\n",
      "  \n",
      "/Applications/anaconda3/lib/python3.6/site-packages/ipykernel_launcher.py:10: DeprecationWarning: \n",
      ".ix is deprecated. Please use\n",
      ".loc for label based indexing or\n",
      ".iloc for positional indexing\n",
      "\n",
      "See the documentation here:\n",
      "http://pandas.pydata.org/pandas-docs/stable/indexing.html#ix-indexer-is-deprecated\n",
      "  # Remove the CWD from sys.path while we load stuff.\n"
     ]
    }
   ],
   "source": [
    "###set columns for distance to attraction\n",
    "for i, bnb in dfParis.iterrows():\n",
    "    dist_to_attraction = []\n",
    "    \n",
    "    for j, site in df_attractions.iterrows():\n",
    "        \n",
    "        locitem = {}\n",
    "        locitem['name'] = df_attractions.ix[j, 'name']\n",
    "        #print(site['arrondissement'], site['attraction'])\n",
    "        locitem['distance'] = haversine(dfParis.ix[i, 'latitude'], \n",
    "                                        dfParis.ix[i, 'longitude'],\n",
    "                                         site['latitude'],site['longitude'])\n",
    "        dfParis.loc[i, site['name']] = locitem['distance']\n",
    "        dist_to_attraction.append(locitem)\n",
    "        \n",
    "    \n",
    "    dist_sorted = sorted(dist_to_attraction, key = lambda i: (i['distance'], i['name']))    \n",
    "    dfParis.ix[i,'closest_attraction'] = dist_sorted[0]['name']\n",
    "    dfParis.ix[i,'attraction_dist'] = dist_sorted[0]['distance']\n",
    "    if dist_sorted[0]['distance'] < 2.0:\n",
    "        dfParis.ix[i,'close_to_attraction'] = 1\n",
    "    else:\n",
    "        dfParis.ix[i,'close_to_attraction'] = 0\n",
    "    \n"
   ]
  },
  {
   "cell_type": "code",
   "execution_count": 15,
   "metadata": {},
   "outputs": [
    {
     "data": {
      "text/plain": [
       "Index(['accommodates', 'amenities', 'availability_30', 'availability_60',\n",
       "       'availability_90', 'bathrooms', 'bedrooms', 'beds',\n",
       "       'cancellation_policy', 'guests_included', 'host_since',\n",
       "       'host_total_listings_count', 'id', 'last_review', 'latitude',\n",
       "       'longitude', 'minimum_nights', 'neighbourhood_cleansed',\n",
       "       'number_of_reviews', 'price', 'property_type', 'review_scores_accuracy',\n",
       "       'review_scores_checkin', 'review_scores_cleanliness',\n",
       "       'review_scores_communication', 'review_scores_location',\n",
       "       'review_scores_rating', 'review_scores_value', 'reviews_per_month',\n",
       "       'room_type', 'summary', 'transit', 'zipcode', 'arrondissement',\n",
       "       'arrond_name', 'rating_ind', 'Eiffel Tower', 'The Louvre',\n",
       "       'Jardin du Luxembourg', 'Le Marais', 'Musee d'Orsay', 'Sainte-Chapelle',\n",
       "       'Palais Garnier - Opera', 'Notre Dame Cathedral',\n",
       "       'Musee de l'Orangerie', 'Pont Alexandre III', 'closest_attraction',\n",
       "       'attraction_dist', 'close_to_attraction'],\n",
       "      dtype='object')"
      ]
     },
     "execution_count": 15,
     "metadata": {},
     "output_type": "execute_result"
    }
   ],
   "source": [
    "dfParis.columns\n"
   ]
  },
  {
   "cell_type": "code",
   "execution_count": 16,
   "metadata": {
    "scrolled": false
   },
   "outputs": [
    {
     "data": {
      "text/plain": [
       "arrondissement  close_to_attraction\n",
       "1               1.0                    1101\n",
       "2               1.0                    1580\n",
       "3               1.0                    2198\n",
       "4               1.0                    1921\n",
       "5               1.0                    1997\n",
       "6               1.0                    1830\n",
       "7               1.0                    1611\n",
       "8               1.0                    1367\n",
       "9               1.0                    2374\n",
       "10              1.0                    3781\n",
       "11              0.0                       3\n",
       "                1.0                    5308\n",
       "12              0.0                     894\n",
       "                1.0                    1239\n",
       "13              0.0                     272\n",
       "                1.0                    1642\n",
       "14              0.0                       1\n",
       "                1.0                    2126\n",
       "15              0.0                      24\n",
       "                1.0                    3925\n",
       "16              0.0                     158\n",
       "                1.0                    1286\n",
       "17              0.0                       2\n",
       "                1.0                    3517\n",
       "18              0.0                     122\n",
       "                1.0                    6136\n",
       "19              0.0                    1520\n",
       "                1.0                    1320\n",
       "20              0.0                    1029\n",
       "                1.0                    2011\n",
       "Name: id, dtype: int64"
      ]
     },
     "execution_count": 16,
     "metadata": {},
     "output_type": "execute_result"
    }
   ],
   "source": [
    "dfParis.groupby(['arrondissement','close_to_attraction']).id.count()"
   ]
  },
  {
   "cell_type": "code",
   "execution_count": 19,
   "metadata": {},
   "outputs": [
    {
     "data": {
      "text/plain": [
       "count    52295.000000\n",
       "mean        93.718673\n",
       "std         71.128178\n",
       "min          0.000000\n",
       "25%         55.000000\n",
       "50%         75.000000\n",
       "75%        105.000000\n",
       "max        999.000000\n",
       "Name: price, dtype: float64"
      ]
     },
     "execution_count": 19,
     "metadata": {},
     "output_type": "execute_result"
    }
   ],
   "source": [
    "dfParis.price.describe()"
   ]
  },
  {
   "cell_type": "code",
   "execution_count": 14,
   "metadata": {
    "collapsed": true
   },
   "outputs": [],
   "source": [
    "dfParis.to_pickle('airbnb_paris/airbnb_paris_updt_0615.p')"
   ]
  },
  {
   "cell_type": "code",
   "execution_count": null,
   "metadata": {
    "collapsed": true
   },
   "outputs": [],
   "source": []
  },
  {
   "cell_type": "code",
   "execution_count": null,
   "metadata": {
    "collapsed": true
   },
   "outputs": [],
   "source": []
  }
 ],
 "metadata": {
  "kernelspec": {
   "display_name": "Python 3",
   "language": "python",
   "name": "python3"
  },
  "language_info": {
   "codemirror_mode": {
    "name": "ipython",
    "version": 3
   },
   "file_extension": ".py",
   "mimetype": "text/x-python",
   "name": "python",
   "nbconvert_exporter": "python",
   "pygments_lexer": "ipython3",
   "version": "3.6.1"
  }
 },
 "nbformat": 4,
 "nbformat_minor": 2
}
