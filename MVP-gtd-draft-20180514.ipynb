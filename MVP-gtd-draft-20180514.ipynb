{
 "cells": [
  {
   "cell_type": "markdown",
   "metadata": {},
   "source": [
    "# Open-Ended Project MVP"
   ]
  },
  {
   "cell_type": "markdown",
   "metadata": {
    "collapsed": true
   },
   "source": [
    "### Goals:\n",
    "\n",
    "**GTD Terrorism Definition -** <br> acts by non-state actors involving threatened or actual use of illegal force or violence to attain a political, Economic, religious, or social goal through fear, coercion or intimidation. \n",
    "<br><br> Mandatory Inclusion Criteria:\n",
    "Event must be intentional - the results of a conscious calculation on the part of the perpetrator.\n",
    "If attack fails to take place - recorded as unsuccessful attack.\n",
    "\n",
    "<br><br>Learn:\n",
    "\n",
    "- Location of terrorist attacks\n",
    "- Patterns of terrorism in ?\n",
    "- How frequent do these types of attack take place\n",
    "- What groups are commonly perpetrators of terrorism in?\n",
    "- Targets of terrorism\n",
    "- Perpetrators most active / most lethal in a single year\n",
    "- Attacks vs. Fatalities\n",
    "- Rank countries with most attacks/fatalities\n",
    "- What weapon is used for the type of attack or target\n",
    "- Does data show that terrorists incite fear and not kill\n",
    "- prove/disprove myth that most terrorist attacks are extremely lethal, and that the US is more frequently targeted than any other country"
   ]
  },
  {
   "cell_type": "markdown",
   "metadata": {},
   "source": [
    "### Initial Data Cleaning Approach and Exploratory Findings"
   ]
  },
  {
   "cell_type": "markdown",
   "metadata": {},
   "source": [
    "The data was retrieved and is available from the Global Terrorism Database (GTD).\n",
    "Since these data file is published by University of Maryland, the data was relatively clean.  Data was pre-processed to transform data for the different data visualizations/exploration and analysis needs, and to compute and add data columns, which may be relevant to include in the table/dataframe for the analysis.\n",
    "\n",
    "Attacktype1, Targtype1 fields are most of the time populated if known, further exploration done on events where more than one Attack or Target exists.\n",
    "\n",
    "GTD staff based at the START headquarters at the University of Maryland integrated and synthesised data collected across the entire 1970-2016 time span.\n",
    "\n",
    "*National Consortium for the Study of Terrorism and Responses to Terrorism (START). (2017)\n",
    " Global Terrorism Database [globalterrorismdb_0617dist.xlsx].  Retrieved from http://www.start.umd.edu/gtd*\n",
    " \n",
    " \n",
    "** BAAD - Big Allied and Dangerous data was scraped and loaded to SQLite database on 4/28, START has modified web pages since then, script for scraping no longer applies.\n",
    "\n"
   ]
  },
  {
   "cell_type": "markdown",
   "metadata": {},
   "source": [
    "### Initial Research Findings"
   ]
  },
  {
   "cell_type": "markdown",
   "metadata": {},
   "source": [
    "#### Exploring Attacks, Fatalities and Perpetrators (terrorist group)"
   ]
  },
  {
   "cell_type": "markdown",
   "metadata": {},
   "source": [
    "<img src=\"files/images/attack_vs_fatal_year.png\">"
   ]
  },
  {
   "cell_type": "markdown",
   "metadata": {},
   "source": [
    "The graph above (Attacks vs. Fatalities by Year) shows large numbers of fatalities cumulatively per year, but the graph below shows that average fatalities per attack is less than five for most of the years prior to 1998. On 1998, 2001, 2002, 2004 and 2007 the average fatalities per attack were at its peak."
   ]
  },
  {
   "cell_type": "markdown",
   "metadata": {},
   "source": [
    "<img src=\"files/images/byYear_avgkill.png\">"
   ]
  },
  {
   "cell_type": "markdown",
   "metadata": {},
   "source": [
    "Based on the findings, US is not in the Top 20 countries with most attacks/fatalities, contrary to popular belief that US is more frequently targeted than any other country."
   ]
  },
  {
   "cell_type": "markdown",
   "metadata": {},
   "source": [
    "<img src=\"files/images/bar_kill_by_country.png\">"
   ]
  },
  {
   "cell_type": "markdown",
   "metadata": {},
   "source": [
    "<img src=\"files/images/bar_top15_kill_byGroup.png\">"
   ]
  },
  {
   "cell_type": "markdown",
   "metadata": {},
   "source": [
    "<img src=\"files/images/bar_top15_attack_byGroup.png\">"
   ]
  },
  {
   "cell_type": "markdown",
   "metadata": {},
   "source": [
    "<img src=\"files/images/bar_target_vs_kill.png\">"
   ]
  },
  {
   "cell_type": "markdown",
   "metadata": {},
   "source": [
    "<img src=\"files/images/bar_fatal_by_attack.png\">"
   ]
  },
  {
   "cell_type": "markdown",
   "metadata": {},
   "source": [
    "### Exploring Attacks and Weapons used\n",
    "Plot below shows the different attack types for each of the year group, and the weapons used in those attacks"
   ]
  },
  {
   "attachments": {},
   "cell_type": "markdown",
   "metadata": {},
   "source": [
    "<img src=\"files/images/out_weaptype_by_attacktyp1.png\">"
   ]
  },
  {
   "cell_type": "markdown",
   "metadata": {},
   "source": [
    "#### The plot below explores the weapon types used for the top five most fatal attack types"
   ]
  },
  {
   "cell_type": "markdown",
   "metadata": {},
   "source": []
  },
  {
   "cell_type": "markdown",
   "metadata": {},
   "source": [
    "### Further Research and Analysis"
   ]
  },
  {
   "cell_type": "markdown",
   "metadata": {},
   "source": [
    "1. identify perpetrator who is/are has caused the most attacks and or fatalities\n",
    "\n",
    "2. likelihood that there will be a fatality when a successful attack happens\n",
    "\n",
    "3. determine trends in terrorism/attacks after 9/11"
   ]
  },
  {
   "cell_type": "code",
   "execution_count": null,
   "metadata": {
    "collapsed": true
   },
   "outputs": [],
   "source": []
  }
 ],
 "metadata": {
  "kernelspec": {
   "display_name": "Python 3",
   "language": "python",
   "name": "python3"
  },
  "language_info": {
   "codemirror_mode": {
    "name": "ipython",
    "version": 3
   },
   "file_extension": ".py",
   "mimetype": "text/x-python",
   "name": "python",
   "nbconvert_exporter": "python",
   "pygments_lexer": "ipython3",
   "version": "3.6.3"
  }
 },
 "nbformat": 4,
 "nbformat_minor": 2
}
