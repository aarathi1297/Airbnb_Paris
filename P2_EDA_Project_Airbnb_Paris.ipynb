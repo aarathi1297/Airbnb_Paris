{
 "cells": [
  {
   "cell_type": "markdown",
   "metadata": {},
   "source": [
    "# EDA Project - Airbnb Paris"
   ]
  },
  {
   "cell_type": "markdown",
   "metadata": {},
   "source": [
    "## Background\n",
    "\n",
    "When traveling to Europe and booking an Airbnb rental property for a vacation, I try to spend less on lodging to be able to afford good dining and tours.  For Paris specifically, I find that the options close to the centre, that is close to the top attractions i.e. Eiffel tower, Champs Elysees are pricier, and most of the properties are unavailable as well, so I end up staying further from the centre, and when I do, I am always worried that I might have booked a property that is way too far out from the centre of the city, and or far from a metro station -- since actual location is not provided until after you have made the reservation, or unless you contact host and ask.  Distance to the station is relative depending on how far one is willing to walk, but for me, more than a mile to a station is considered far, since I feel I have to save all my energy for the leisurely walking one does around Paris.\n",
    "\n",
    "## Questions for Exploration / Goals\n",
    "\n",
    "\n",
    "1) to be able to explore and answer the following questions:\n",
    "\n",
    "* How does location influence property rental price, reviews and availability?  What are the options for being able to stay close to the centre for budget of less than \\$100?\n",
    "\n",
    "* What other features drive the price of an airbnb rental property?\n",
    "\n",
    "  i.e. price vs location, price vs distance from a top attraction, etc.\n",
    "\n",
    "\n",
    "\n",
    "2) recommend Airbnb properties given a certain criteria, and enable a more informed decision for the traveler: \n",
    "\n",
    "* walking distance to one of the top attractions (within 2 miles)\n",
    "* walking distance to metro station (within 1 mile)\n",
    "* rating >= 9\n",
    "\n",
    "* other user defined criteria i.e. \n",
    "* number of beds\n",
    "* number of bedrooms\n",
    "* price range\n",
    "* type of property"
   ]
  },
  {
   "cell_type": "markdown",
   "metadata": {},
   "source": [
    "## Datasets\n",
    "\n",
    "The Airbnb dataset was downloaded from the OpenDataSoft website below.  The data was filtered to only extract and download data pertaining to Paris, France Airbnb rental properties.\n",
    "\n",
    "[Airbnb Paris Dataset](https://public.opendatasoft.com/explore/dataset/airbnb-listings/table/?disjunctive.host_verifications&disjunctive.amenities&disjunctive.features&refine.city=Paris&dataChart=eyJxdWVyaWVzIjpbeyJjaGFydHMiOlt7InR5cGUiOiJjb2x1bW4iLCJmdW5jIjoiQ09VTlQiLCJ5QXhpcyI6Imhvc3RfbGlzdGluZ3NfY291bnQiLCJzY2llbnRpZmljRGlzcGxheSI6dHJ1ZSwiY29sb3IiOiJyYW5nZS1jdXN0b20ifV0sInhBeGlzIjoiY2l0eSIsIm1heHBvaW50cyI6IiIsInRpbWVzY2FsZSI6IiIsInNvcnQiOiIiLCJzZXJpZXNCcmVha2Rvd24iOiJyb29tX3R5cGUiLCJjb25maWciOnsiZGF0YXNldCI6ImFpcmJuYi1saXN0aW5ncyIsIm9wdGlvbnMiOnsiZGlzanVuY3RpdmUuaG9zdF92ZXJpZmljYXRpb25zIjp0cnVlLCJkaXNqdW5jdGl2ZS5hbWVuaXRpZXMiOnRydWUsImRpc2p1bmN0aXZlLmZlYXR1cmVzIjp0cnVlfX19XSwidGltZXNjYWxlIjoiIiwiZGlzcGxheUxlZ2VuZCI6dHJ1ZX0%3D)\n",
    "\n",
    "Paris RER/metro dataset was downloaded from the website below and will be used for further exploration:\n",
    "\n",
    "\n",
    "[Accessibilite des gares et stations de Metro](https://data.ratp.fr/explore/?sort=modified)\n"
   ]
  },
  {
   "cell_type": "markdown",
   "metadata": {},
   "source": [
    "### Limitations\n",
    "* the Airbnb data from OpenDataSoft was last updated in 2017, availability information will be based on what has been captured from the last update.\n",
    "* Historical data for the property prices and availabity are not available, so we are unable to check for variability of price and availability on different seasons/time.\n",
    "* For computing distances Haversine formula was used, which would be a good estimate for computing the distance between two points, but this distance could be different from the actual walking distance."
   ]
  },
  {
   "cell_type": "markdown",
   "metadata": {
    "collapsed": true
   },
   "source": [
    "## Cleaning the Data\n",
    "\n",
    "The geojson file format was read and used for this analysis. The original download file has eighty-six (86) columns, columns which are not needed for analysis, i.e. calendar_last_scraped, calendar_updated, listing_url, etc. were dropped to minimize columns and focus on cleaning and analysis of data which will be useful this EDA.\n",
    "\n",
    "The 'city' column was dropped from the file as well, since all the records downloaded are those pertaining to Airbnb rental properties in Paris, France.\n",
    "\n",
    "Further research on zipcodes was done, and found that zipcodes 75001 - 75020 correspond to Arrondissements 1 through 20 in Paris.  Since analysis will be focused on properties within the centre of Paris, the records with zipcodes outside of this range were deleted.\n",
    "\n",
    "*More information on Paris Arrondissements in wikipedia: https://en.wikipedia.org/wiki/Arrondissements_of_Paris\n",
    "\n",
    "### Missing Values:\n",
    "Missing values in beds and bedrooms were imputed using the following rules:\n",
    "* If 'beds' has a missing value, and 'bedrooms' has a valid value, 'beds' is set with the value of 'bedrooms'.\n",
    "* If both 'bedrooms' and 'beds' are missing, both fields are set to 1, which is the average number of beds and bedrooms,\n",
    "and it would be safe to assume that if a property is being rented out in Airbnb, that there is at least one bed, and we will count that as one bedroom, regardless if the property is a studio apartment, where there is no pyhsical division between the rooms.\n",
    "\n",
    "There were several records as well with missing 'scores' value, a new column 'rating_ind' was created to flag rated = 1, versus unrated = 0 records, so further analysis can be done between these two populations.  The record was flagged as rated, if all the score values have been populated, and set to unrated, if at least one of the score values has not been populated."
   ]
  },
  {
   "cell_type": "markdown",
   "metadata": {},
   "source": [
    "### Data Transformation and Feature Engineering:"
   ]
  },
  {
   "cell_type": "markdown",
   "metadata": {},
   "source": [
    "The following fields were added to the dataset as well:\n",
    "\n",
    "<br>1) arrondissement - this was derived from the last two digits of the zipcode\n",
    "\n",
    "2) arrond_name - arrondissement name was populated and compared with the values populated in the neighbourhood_cleansed field.  There were some differences found, since no information is available on how the neighbourhood_cleansed field was derived, for the sake of consistency with the categorizing by Arrondissement, the arrond_name will be used for analysis instead of the neighbourhood_cleansed field.  \n",
    "\n",
    "\n",
    "3) A column for each of the Distances between the Airbnb property and each of the [2018 top 10 attractions in Paris](https://www.tripadvisor.com/Attractions-g187147-Activities-Paris_Ile_de_France.html#ATTRACTION_SORT_WRAPPER) were derived as well using the [Haversine forumla](https://community.esri.com/groups/coordinate-reference-systems/blog/2017/10/05/haversine-formula), and these features were used to analyze and determine relationship with the rental property price.\n",
    "\n",
    "[\"Musee d’Orsay\", \"Sainte-Chapelle\", \"Palais Garnier - Opera\", \"Notre Dame Cathedral\", \"Musee de l’Orangerie\", \"Luxembourg Gardens\", \"Louvre\", \"Eiffel\", \"Pont Alexandre III\", \"Le Marais\"]\n",
    "\n",
    "4) close_to_attraction - this is an indicator if the property is within 2 miles of one of the top 10 attractions\n",
    "\n",
    "5) closest_attraction - this is the attraction closest to the Airbnb property\n",
    "\n",
    "6) attraction_dist - distance between the Airbnb property and the closest attraction.\n",
    "\n",
    "\n"
   ]
  },
  {
   "cell_type": "markdown",
   "metadata": {
    "collapsed": true
   },
   "source": [
    "## Exploring the Data"
   ]
  },
  {
   "cell_type": "code",
   "execution_count": 2,
   "metadata": {
    "collapsed": true
   },
   "outputs": [],
   "source": [
    "import pandas as pd\n",
    "dfParis = pd.read_pickle('airbnb_paris/airbnb_Paris_updt_0606.p')"
   ]
  },
  {
   "cell_type": "markdown",
   "metadata": {},
   "source": [
    "Plotting the Airbnb rental property prices out shows us that the price of Airbnb rental properties in Paris  has a right-skewed unimodal distribution.  We can see from the graph below it shows that majority of the properties are rented out are below \\$200, with the average below \\$100 which is at \\$93.72, with the median only at $75.  We can see that there are some outliers -- properties over \\$400, causing a huge difference between the mean and the median price, and for the distribution to be right skewed."
   ]
  },
  {
   "cell_type": "markdown",
   "metadata": {},
   "source": [
    "[graph 1.0]\n",
    "<img src=\"files/images/airbnb_price_dist.png\">"
   ]
  },
  {
   "cell_type": "code",
   "execution_count": 3,
   "metadata": {},
   "outputs": [
    {
     "data": {
      "text/plain": [
       "count    52295.000000\n",
       "mean        93.718673\n",
       "std         71.128178\n",
       "min          0.000000\n",
       "25%         55.000000\n",
       "50%         75.000000\n",
       "75%        105.000000\n",
       "max        999.000000\n",
       "Name: price, dtype: float64"
      ]
     },
     "execution_count": 3,
     "metadata": {},
     "output_type": "execute_result"
    }
   ],
   "source": [
    "dfParis.price.describe()"
   ]
  },
  {
   "cell_type": "markdown",
   "metadata": {},
   "source": [
    "The plot below shows the correlation of the other features with the Airbnb rental property price:\n",
    "* It does make sense that the distance between the top attractions and the Airbnb property is negatively correlated with the price, and so is with the Arrondissement, and 'close_to_attraction' has a positive correlation with the 'price'.\n",
    "\n",
    "* With regards to distance between Le Marais and the Airbnb property being positively correlated, it is possible that those properties which are farther from Le Marais are closer to the other top attractions, giving us that inconsistent correlation as far as distances from top attractions are concerned.  For analysis, the 'close_to_attraction' indicator together with the 'attraction_dist' will be used, instead of the individual distances to the top attraction.\n",
    "\n",
    "* As far as the other property features are concerned, we can see that the number of beds, bedrooms, and accomodations are positively correlated with the Airbnb property price.  It is expected that the bigger the accomodation is, the rental price will be higher as well."
   ]
  },
  {
   "cell_type": "markdown",
   "metadata": {},
   "source": [
    "[graph 2.0]\n",
    "<img src=\"files/images/features_corr.png\">"
   ]
  },
  {
   "cell_type": "markdown",
   "metadata": {},
   "source": [
    "#### Exploring Location (Arrondissements) and Availability_30"
   ]
  },
  {
   "cell_type": "markdown",
   "metadata": {},
   "source": [
    "If we look at each of our top 10 attractions in Paris, we can see that the attractions are in arrondissements 1 through 9.\n",
    "\n",
    "As we saw from the correlation graph above --  Arrondissement values are negatively correlated with the price, that is, the Airbnb properties in the lower Arrondissements on average costs more than the properties in the higher arrondissements, which is what the graph below shows.  Although it appears that rental prices in Arr 8 - Champs Elysees costs the most, and Arr 9 - Opera has a lower rental prices compared to arrondissements 1 - 8.  This could be because Champs Elysees is a more popular tourist spot than the Palais Garnier in - Arr 9 Opera, even though Champs Elysees did not make it in Tripadvisor.com's Top 10 Paris Attractions.\n",
    "\n",
    "<img src=\"files/images/df_arrondissements.png\">\n",
    "\n"
   ]
  },
  {
   "cell_type": "markdown",
   "metadata": {},
   "source": [
    "[graph 3.0]\n",
    "<img src=\"files/images/line_pricebyArr.png\">"
   ]
  },
  {
   "cell_type": "markdown",
   "metadata": {},
   "source": [
    "With regards to the availability, the graphs below show that the price does have direct relationship on the availability of the Airbnb rental properties in Paris. Properties which are available for 5 or more days in the next 30 days, has an average price around \\$100 or more."
   ]
  },
  {
   "cell_type": "markdown",
   "metadata": {},
   "source": [
    "[graph 4.0]\n",
    "<img src=\"files/images/airbnb_price_byAvail.png\">"
   ]
  },
  {
   "cell_type": "markdown",
   "metadata": {},
   "source": [
    "If we look at availability of Airbnb rental properties by price range, we can see that for properties within \\$100/night budget the options for available properties are much less in Arrondissements 1 through 8, increasing your budget will give you better chances of getting a property close to the attractions (in Arrondissements 1 through 8), and if that is not an option, renting outside of arrondissments 1 through 8 will give one a better option of renting out a property within the \\$100/night budget."
   ]
  },
  {
   "cell_type": "markdown",
   "metadata": {},
   "source": [
    "[graph 5.0]\n",
    "<img src=\"files/images/Avail_less100.png\">"
   ]
  },
  {
   "cell_type": "markdown",
   "metadata": {},
   "source": [
    "#### Exploring Rating Indicator with Availability and Price\n",
    "\n",
    "The graphs above shows all properties, that is for both rated properties, and unrated which includes properties with incomplete scores.  If we break down the availability of properties, we can see that we have higher availability for 'unrated' properties, which is what we are expecting, since people tend to stay in places with higher ratings, where other renters have had a good experience staying."
   ]
  },
  {
   "cell_type": "markdown",
   "metadata": {},
   "source": [
    "[graph 6.0]\n",
    "<img src=\"files/images/box_rating_avail.png\">"
   ]
  },
  {
   "cell_type": "markdown",
   "metadata": {},
   "source": [
    "With regards to the price, there appears to be no significant difference between rental price for rated properties versus the unrated ones.  As we have seen in the Correlation table above in [graph 2.0] review_scores fields: [review_scores_value, review_scores_communication, review_scores_location, review_scores_cleanliness, review_scores_checkin, review_scores_accuracy fields] did show a positive correlation with the price, but not a strong correlation. The strongest correlation was with review_scores_location, which makes sense because as we have seen locations closer to the attractions (Arr 1-8) do cost more compared to properties outside of Arrondissements 1-8."
   ]
  },
  {
   "cell_type": "markdown",
   "metadata": {},
   "source": [
    "[graph 7.0]\n",
    "<img src=\"files/images/box_ratingprice.png\">"
   ]
  },
  {
   "cell_type": "markdown",
   "metadata": {},
   "source": [
    "### Exploring other Features\n",
    "\n",
    "#### Exploring Property Type\n",
    "\n",
    "In the graphs below, we can see that the property type does affect the price of the property, as in the case of Camper/RV, Igloo, and villa property types.  We can see that average price for these properties are around the \\$300 and above price range, which is way above the average and median price of the rental properties in Paris.  These property types represent less than 1% of the total Airbnb rental properties in Paris, thus causing the skewness we have observed in the price distribution.\n",
    "\n",
    "<img src=\"files/images/airbnb_price_byPtype.png\">\n",
    "<img src=\"files/images/property_type.png\">\n",
    "\n"
   ]
  },
  {
   "cell_type": "markdown",
   "metadata": {},
   "source": [
    "#### Exploring the distance to a Top Attraction with Property price and Availability"
   ]
  },
  {
   "cell_type": "code",
   "execution_count": null,
   "metadata": {
    "collapsed": true
   },
   "outputs": [],
   "source": []
  },
  {
   "cell_type": "code",
   "execution_count": null,
   "metadata": {
    "collapsed": true
   },
   "outputs": [],
   "source": []
  },
  {
   "cell_type": "markdown",
   "metadata": {
    "collapsed": true
   },
   "source": [
    "To do....\n",
    "* Further explore properties in the desired criteria:\n",
    "<br> properties less than \\$100/night \n",
    "<br> distance within 2 miles of one of the top attractions\n",
    "<br> properties with 1 bed, accommodates less than or equal to 2\n",
    "\n",
    "\n",
    "* Determine how the distance to the metro affects the price, and availability\n",
    "\n",
    "* Recommend top 10 properties given a certain criteria"
   ]
  },
  {
   "cell_type": "markdown",
   "metadata": {},
   "source": [
    "## Summary\n",
    "\n",
    "1) How does location influence property rental price, reviews and availability?  What are the options for being able to stay close to the centre for budget of less than \\$100?\n",
    "\n",
    "* Based on our findings from this EDA, we saw that the properties in Arrondissements 1 through 8, where most of the top attractions are located cost more than properties outside of those arrondissements.\n",
    "\n",
    "* And also, availability of properties in Arrondissements are lower especially for properties rented out less than \\$100/night, compared to properties outside of Arrondissements 1 - 8\n",
    "\n",
    "1b) What other features drive the price of an airbnb rental property?\n",
    "\n",
    "* We did see that the number of accomodation/beds/bedrooms has a strong positive correlation with property rental price\n",
    "\n",
    "* the location of the property i.e. Arrondissement, (close_to_attraction == 1) that is if Airbnb property is within 2 miles of one of the top 10 attractions\n",
    "\n",
    "* the property type does affect the price of the Airbnb rental property, and in this case, is causing the skewness in the price distribution, because at least 95% of the Airbnb rental properties in Paris has a property type = Apartment, and those properties with the higher cost \\$300 and above, such as the Camper/RV, Igloo, and the villa only represents less than 1% of the total Airbnb rental properties in Paris.\n",
    "\n",
    "\n",
    "  i.e. price vs location, price vs distance from a top attraction, etc.\n",
    "\n",
    "\n",
    "\n",
    "2) recommend Airbnb properties given a certain criteria, and enable a more informed decision for the traveler: \n",
    "\n",
    "* walking distance to one of the top attractions (within 2 miles)\n",
    "* walking distance to metro station (within 1 mile)\n",
    "* rating >= 9\n",
    "\n",
    "* other user defined criteria i.e. \n",
    "* number of beds\n",
    "* number of bedrooms\n",
    "* price range\n",
    "* type of property\n",
    "* the lower priced Airbnb properties have less availability, this would affect the probability of finding a property for at that lower price range i.e. for a less than \\$100/night budget\n",
    "\n",
    "* the properties in the lower Arrondissements, those closest to the top attractions cost more on average compared to the properties in the higher arrondissements.\n",
    "\n",
    "* looking at the last graph, Total property count by Arrondissement vs. Availability by Arr.\n",
    "we can see that for properties within $100/night, the availability in the lower Arrondissements are less, compared to other arrondissements."
   ]
  },
  {
   "cell_type": "markdown",
   "metadata": {},
   "source": [
    "## Further Research and Analysis"
   ]
  },
  {
   "cell_type": "markdown",
   "metadata": {
    "collapsed": true
   },
   "source": []
  },
  {
   "cell_type": "markdown",
   "metadata": {},
   "source": []
  },
  {
   "cell_type": "code",
   "execution_count": null,
   "metadata": {
    "collapsed": true
   },
   "outputs": [],
   "source": []
  }
 ],
 "metadata": {
  "kernelspec": {
   "display_name": "Python 3",
   "language": "python",
   "name": "python3"
  },
  "language_info": {
   "codemirror_mode": {
    "name": "ipython",
    "version": 3
   },
   "file_extension": ".py",
   "mimetype": "text/x-python",
   "name": "python",
   "nbconvert_exporter": "python",
   "pygments_lexer": "ipython3",
   "version": "3.6.1"
  }
 },
 "nbformat": 4,
 "nbformat_minor": 2
}
